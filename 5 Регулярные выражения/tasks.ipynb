{
 "cells": [
  {
   "cell_type": "markdown",
   "metadata": {},
   "source": [
    "Дана последовательность строк. Каждая строка состоит из слов, разделенных пробелами. \n",
    "\n",
    "Написать функцию, принимающую на вход строку и обеспечивающую ее корректировку. \n",
    "\n",
    "Корректировка заключается в следующем. В каждой строке вычеркнуть все слова, не содержащие гласных букв и подсчитать количество таких слов. Если среди слов строки нет таких слов, то оставить строку без изменения. Вывести на печать исходную и скорректированную последовательности строк и полученное количество искомых слов."
   ]
  },
  {
   "cell_type": "code",
   "execution_count": 37,
   "metadata": {
    "collapsed": false
   },
   "outputs": [
    {
     "name": "stderr",
     "output_type": "stream",
     "text": [
      "<main>: warning: already initialized constant Result\n",
      "<main>:2: warning: previous definition of Result was here\n"
     ]
    },
    {
     "data": {
      "text/plain": [
       "Result"
      ]
     },
     "execution_count": 37,
     "metadata": {},
     "output_type": "execute_result"
    }
   ],
   "source": [
    "Result = Struct.new(:string, :count)"
   ]
  },
  {
   "cell_type": "code",
   "execution_count": 47,
   "metadata": {
    "collapsed": false
   },
   "outputs": [
    {
     "data": {
      "text/plain": [
       ":correct_string"
      ]
     },
     "execution_count": 47,
     "metadata": {},
     "output_type": "execute_result"
    }
   ],
   "source": [
    "def correct_string string\n",
    "  vowels = Set.new ['a', 'e', 'i', 'o', 'u', 'y']\n",
    "  word_counter = 0\n",
    "  \n",
    "  new_string = string.split.map do |word|\n",
    "    if not Set.new(word.split '').intersect? vowels\n",
    "      word_counter += 1\n",
    "      nil\n",
    "    else\n",
    "      word\n",
    "    end\n",
    "  end.compact.join ' '\n",
    "  \n",
    "  Result.new new_string, word_counter\n",
    "end"
   ]
  },
  {
   "cell_type": "code",
   "execution_count": 48,
   "metadata": {
    "collapsed": false
   },
   "outputs": [
    {
     "name": "stdout",
     "output_type": "stream",
     "text": [
      "#<struct Result string=\"\", count=4>\n",
      "true\n",
      "#<struct Result string=\"aaa\", count=2>\n",
      "true\n",
      "#<struct Result string=\"aaa aaa aaa\", count=0>\n",
      "true\n"
     ]
    },
    {
     "data": {
      "text/plain": [
       "{\"fff fff f    ffff\"=>#<struct Result string=\"\", count=4>, \"ggg aaa ffff\"=>#<struct Result string=\"aaa\", count=2>, \"aaa aaa aaa\"=>#<struct Result string=\"aaa aaa aaa\", count=0>}"
      ]
     },
     "execution_count": 48,
     "metadata": {},
     "output_type": "execute_result"
    }
   ],
   "source": [
    "{\n",
    "  'fff fff f    ffff' => Result.new('', 4),\n",
    "  'ggg aaa ffff' => Result.new('aaa', 2),\n",
    "  'aaa aaa aaa' => Result.new('aaa aaa aaa', 0)\n",
    "}.each do |string, correct_result|\n",
    "  p correct_result == correct_string(string)\n",
    "end"
   ]
  },
  {
   "cell_type": "markdown",
   "metadata": {},
   "source": [
    "Дана последовательность строк. Каждая строка состоит из слов, разделенных пробелами. Написать программу, обеспечивающую ввод строк и их корректировку. Корректировка заключается в обмене местами слов максимальной и минимальной длины в каждой строке. Если среди слов строки есть несколько таких слов, то в обмене участвуют только первые обнаруженные слова. Вывести на печать исходную и скорректированную последовательности строк."
   ]
  },
  {
   "cell_type": "code",
   "execution_count": 29,
   "metadata": {
    "collapsed": false
   },
   "outputs": [
    {
     "data": {
      "text/plain": [
       ":correct_string"
      ]
     },
     "execution_count": 29,
     "metadata": {},
     "output_type": "execute_result"
    }
   ],
   "source": [
    "def correct_string string\n",
    "  strings = string.split\n",
    "  lengths = strings.map &:length\n",
    "  \n",
    "  strings[lengths.index lengths.max], strings[lengths.index lengths.min] =\\\n",
    "    strings[lengths.index lengths.min], strings[lengths.index lengths.max]\n",
    "  \n",
    "  strings.join ' '\n",
    "end"
   ]
  },
  {
   "cell_type": "code",
   "execution_count": 31,
   "metadata": {
    "collapsed": false
   },
   "outputs": [
    {
     "name": "stdout",
     "output_type": "stream",
     "text": [
      "true\n",
      "true\n",
      "true\n",
      "true\n",
      "true\n"
     ]
    },
    {
     "data": {
      "text/plain": [
       "{\"aaaaaa dd d\"=>\"d dd aaaaaa\", \"aaa bbb d\"=>\"d bbb aaa\", \"aa bb c\"=>\"c bb aa\", \"aa bbbb c e\"=>\"aa c bbbb e\", \"a b c\"=>\"a b c\"}"
      ]
     },
     "execution_count": 31,
     "metadata": {},
     "output_type": "execute_result"
    }
   ],
   "source": [
    "{\n",
    "  'aaaaaa dd d' => 'd dd aaaaaa',\n",
    "  'aaa bbb d' => 'd bbb aaa',\n",
    "  'aa bb c' => 'c bb aa',\n",
    "  'aa bbbb c e' => 'aa c bbbb e',\n",
    "  'a b c' => 'a b c'\n",
    "}.each do |string, correct_result|\n",
    "  p correct_result == correct_string(string)\n",
    "end"
   ]
  }
 ],
 "metadata": {
  "kernelspec": {
   "display_name": "Ruby 2.3.1",
   "language": "ruby",
   "name": "ruby"
  },
  "language_info": {
   "file_extension": ".rb",
   "mimetype": "application/x-ruby",
   "name": "ruby",
   "version": "2.3.1"
  }
 },
 "nbformat": 4,
 "nbformat_minor": 2
}
