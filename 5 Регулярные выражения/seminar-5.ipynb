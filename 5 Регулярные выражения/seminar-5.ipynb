{
 "cells": [
  {
   "cell_type": "markdown",
   "metadata": {},
   "source": [
    "# Семинар 5 - Регулярные выражения"
   ]
  },
  {
   "cell_type": "markdown",
   "metadata": {
    "collapsed": true
   },
   "source": [
    "![](img/50.png)"
   ]
  },
  {
   "cell_type": "markdown",
   "metadata": {},
   "source": [
    "## Что такое регулярные выражения"
   ]
  },
  {
   "cell_type": "markdown",
   "metadata": {},
   "source": [
    "Есть задача — валидация e-mail адресов.\n",
    "\n",
    "Эту задачу можно решить разными способами: используя посимвольное сравнение строки с ожидаемым шаблоном, используя разбиение строки на подстроки и дальнейшую работу с ними.\n",
    "\n",
    "Однако эту задачу можно решить проще, используя регулярные выражения."
   ]
  },
  {
   "cell_type": "code",
   "execution_count": 8,
   "metadata": {},
   "outputs": [
    {
     "name": "stdout",
     "output_type": "stream",
     "text": [
      "my-cool-email@mail.ru — валидный адрес электронной почты\n",
      "плохой)address^mail@brr.dom. — невалидный адрес электронной почты\n"
     ]
    },
    {
     "data": {
      "text/plain": [
       "[\"my-cool-email@mail.ru\", \"плохой)address^mail@brr.dom.\"]"
      ]
     },
     "execution_count": 8,
     "metadata": {},
     "output_type": "execute_result"
    }
   ],
   "source": [
    "emails = ['my-cool-email@mail.ru', 'плохой)address^mail@brr.dom.']\n",
    "\n",
    "emails.each do |email|\n",
    "  if email =~ /^[\\w0-9._%+-]+@[\\w0-9-]+.+.[\\w]{2,}$/i then\n",
    "    puts \"#{email} — валидный адрес электронной почты\"\n",
    "  else\n",
    "    puts \"#{email} — невалидный адрес электронной почты\"\n",
    "  end\n",
    "end"
   ]
  },
  {
   "cell_type": "markdown",
   "metadata": {},
   "source": [
    "**Регулярные выражения** — это формальный язык поиска и осуществления манипуляций с подстроками в тексте, основанный на использовании метасимволов. Для поиска используется шаблон, состоящий из символов и метасимволов и задающий правило поиска.\n",
    "\n",
    "**Метасимвол** —  это символ или несколько символов, используемых в шаблоне для определения чего-либо или указания какой-то «директивы» алгоритму поиска. Метасимволы трактуются в шаблоне не буквально, а имеют особое значение.\n",
    "\n",
    "**Шаблон** — это последовательность _обычных_ символов и _метасимволов_, которые определяют условия и критерии поиска в строке. Шаблон разграничивается с окружающим кодом разделителями."
   ]
  },
  {
   "cell_type": "markdown",
   "metadata": {},
   "source": [
    "Примеры шаблонов:\n",
    "\n",
    "* `abcd12\\w45` — шаблон, который соответствует любой подстроке, состоящей по порядку: из **одной** подстроки `abcd12`, **одного** любого символа английского алфавита _или_ цифры, а затем двух цифр — 45.\n",
    "\n",
    "* `[e-l]\\s?\\d+` — шаблон, который соответствует любой подстроке, состоящей по порядку: из **одного** символа в диапазоне английских букв от `e` до `l`, **одному** пробельному символу _или_ **нулю** таких символов, и **одному** _или_ **более** десятичных цифр."
   ]
  },
  {
   "cell_type": "markdown",
   "metadata": {},
   "source": [
    "### Как писать эти шаблоны?"
   ]
  },
  {
   "cell_type": "markdown",
   "metadata": {},
   "source": [
    "* Обычно шаблоны разграничиваются слэшами: `/`\n",
    "\n",
    "\n",
    "* В простейшем случае, если мы ищем определённое слово, то можно обойтись регуляркой следующего вида:\n",
    "```\n",
    "/искомоеслово/\n",
    "```\n",
    "\n",
    "\n",
    "* Если мы ищем несколько слов на выбор, то можно использовать метасимвол `|`:\n",
    "```\n",
    "/словоодин|словодва/\n",
    "```\n",
    "Этот метасимвол экваивалентен логической функции ИЛИ."
   ]
  },
  {
   "cell_type": "markdown",
   "metadata": {},
   "source": [
    "### А что, если нам нужно сделать более общий поиск?"
   ]
  },
  {
   "cell_type": "markdown",
   "metadata": {},
   "source": [
    "Для этого есть **классы символов** — множества символов, объединённых каким-то общим свойством."
   ]
  },
  {
   "cell_type": "markdown",
   "metadata": {},
   "source": [
    "Можно определять классы самому:\n",
    "\n",
    "* `[a-l]` — диапазон символов латиницы в нижнем регистре, находящихся в английском алфавите между a и l, включая их.\n",
    "\n",
    "В классы символов могут попадать _абсолютно любые символы_. Хоть #, хоть %, хоть :. При этом классы можно определять перечислением, дефис (`-`) можно опустить:\n",
    "\n",
    "* `[%^&*()]` — класс символов, в который входят символы `%`, `^`, `&`, `*`, `(`, `)`.\n",
    "\n",
    "Однако если вы хотите использовать дефис в своём классе, то его нужно _экранировать_ с помощью _бэкслеша_ `\\`.\n",
    "\n",
    "* `[\\-_=]` — класс символов, состоящий из `-`, `_`, `=`.\n"
   ]
  },
  {
   "cell_type": "markdown",
   "metadata": {},
   "source": [
    "Чаще всего используют встроенные классы символов:\n",
    "\n",
    "* `\\w` — любой символ английского алфавите в любом регистре, десятичные цифры и символ подчёркивания.\n",
    "\n",
    "* `\\W` — любой символ, _кроме_ тех, что перечислены выше.\n",
    "\n",
    "* `.` — любой символ, _кроме_ перевода новой строки `\\n`. Да, это метасимвол. :)\n",
    "\n",
    "* `\\d` — любая десятичная цифра.\n",
    "\n",
    "* `\\s` — любой пробельный непечатаемый символ (эквивалентно классу `[ \\t\\r\\n\\f\\v]`).\n",
    "\n",
    "Есть гораздо больше классов, но если нужно, вы сами найдёте."
   ]
  },
  {
   "cell_type": "markdown",
   "metadata": {},
   "source": [
    "Также есть возможность определять классы, содержащие все символы _кроме_ каких-то:\n",
    "\n",
    "* `[^a-z]` — все символы, _кроме_ символов латиницы в нижнем регистре."
   ]
  },
  {
   "cell_type": "markdown",
   "metadata": {},
   "source": [
    "### А можно как-то определять начало и конец строки?"
   ]
  },
  {
   "cell_type": "markdown",
   "metadata": {},
   "source": [
    "Действительно, это вполне нормальный вопрос, который может возникнуть. До этого все наши изыскания были связаны лишь с подстроками в целой строке. Но что, если нам нужно сопоставлять с образцом целую строку? Для этого существуют два метасимвола, `^` и `$`.\n",
    "\n",
    "`^` — «крышечка» или циркумлфекс — **метасимвол начала строки**.\n",
    "\n",
    "`$` — знак доллара — **метасимвол конца строки**."
   ]
  },
  {
   "cell_type": "markdown",
   "metadata": {},
   "source": [
    "### Отлично, мы можем сопоставлять с шаблонами, а можно ли что-то помимо этого?"
   ]
  },
  {
   "cell_type": "markdown",
   "metadata": {},
   "source": [
    "Да, конечно, и для этого нам понадобится узнать, что такое группы, а также какие они бывают."
   ]
  },
  {
   "cell_type": "markdown",
   "metadata": {},
   "source": [
    "**Группы** — это последовательности символов в круглых скобках.\n",
    "Круглые скобки используются для определения области действия и приоритета операций. \n",
    "Таким образом можно выделять подшаблоны в шаблонах. Например:\n",
    "\n",
    "* `hello(\\w\\d\\w)world` — при помощи группировки мы выделили подшаблон, состоящий из одного цифробуквенного символа, одной десятичной цифры и ещё одного цифробуквенного символа."
   ]
  },
  {
   "cell_type": "markdown",
   "metadata": {},
   "source": [
    "Группы обычно используются вне самих регулярных выражений и при операциях манипулирования строками. В таких случаях удобно иметь **именованные группы** — группы, имеющие определённые имена, при помощи которых можно ссылаться на них. Например:\n",
    "\n",
    "* `hello, (?<name>[A-Z][a-z]+)`"
   ]
  },
  {
   "cell_type": "markdown",
   "metadata": {},
   "source": [
    "Помимо этого группы бывают **захватывающие** (так называемые **захваты**) и **незахватывающие**.\n",
    "Это имеет значение, когда нам важна лишь конкретная часть нашего шаблона\n",
    "Всё, что выше мы определяли, относилось к захватывающим группам.\n",
    "  \n",
    "Однако можно определить группу незахватывающей:\n",
    "\n",
    "* `(?:non-capturing)(group)`"
   ]
  },
  {
   "cell_type": "markdown",
   "metadata": {},
   "source": [
    "### Это всё замечательно, но нам всегда нужно повторять эти шаблоны? Или как-то можно определить их количество?"
   ]
  },
  {
   "cell_type": "markdown",
   "metadata": {},
   "source": [
    "Можно, и для этого существуют **квантификаторы**. Квантификаторы — это метасимволы, указывающие, сколько раз будет повторяться у нас _символ из класса символов_, _символ_ или _группа_. Существуют следующие квантификаторы:\n",
    "\n",
    "* `a?` — повтор символа `a` _ноль_ раз или _один_ раз.\n",
    "\n",
    "* `a*` — повтор символа `a` _ноль_ или _более_ раз.\n",
    "\n",
    "* `a+` — повтор символа `a` _один_ или _более_ раз.\n",
    "\n",
    "* `a{m}` — повтор символа `a` _ровно m_ раз.\n",
    "\n",
    "* `a{n,}` — повтор символа `a` _n_ или _более_ раз.\n",
    "\n",
    "* `a{m,n}` — повтор символа `a` в диапазоне между _m_ и _n_ раз.\n"
   ]
  },
  {
   "cell_type": "markdown",
   "metadata": {},
   "source": [
    "### Это всё круто, но я ничего не понял, поэтому могу допускать ошибки и вообще писать неправильно. Где-то можно попрактиковаться с этими вашими регулярными выражениями? Есть ли шпаргалка по этому всему?"
   ]
  },
  {
   "cell_type": "markdown",
   "metadata": {},
   "source": [
    "Есть хороший веб-ресурс — [Rubular](http://rubular.com/). Там можно протестировать свои регулярки и посмотреть на маленькую шпаргалку по их составлению."
   ]
  },
  {
   "cell_type": "markdown",
   "metadata": {},
   "source": [
    "## Регулярные выражения в Ruby"
   ]
  },
  {
   "cell_type": "markdown",
   "metadata": {},
   "source": [
    "### Класс Regexp"
   ]
  },
  {
   "cell_type": "markdown",
   "metadata": {},
   "source": [
    "Явный вызов конструктора (используется редко)."
   ]
  },
  {
   "cell_type": "code",
   "execution_count": 6,
   "metadata": {},
   "outputs": [
    {
     "data": {
      "text/plain": [
       "Regexp"
      ]
     },
     "execution_count": 6,
     "metadata": {},
     "output_type": "execute_result"
    }
   ],
   "source": [
    "a = Regexp.new 'a'\n",
    "a.class"
   ]
  },
  {
   "cell_type": "markdown",
   "metadata": {},
   "source": [
    "Краткая форма создания - две косые черты в начале и конце."
   ]
  },
  {
   "cell_type": "code",
   "execution_count": 7,
   "metadata": {},
   "outputs": [
    {
     "data": {
      "text/plain": [
       "Regexp"
      ]
     },
     "execution_count": 7,
     "metadata": {},
     "output_type": "execute_result"
    }
   ],
   "source": [
    "w = /\\w/\n",
    "w.class"
   ]
  },
  {
   "cell_type": "markdown",
   "metadata": {},
   "source": [
    "Регулярные выражения можно сравнивать между собой с помощью оператора `==`. В этом случае оператор `==` ведет себя точно так же, как и при сравнении массивов, чисел, чего угодно."
   ]
  },
  {
   "cell_type": "code",
   "execution_count": 2,
   "metadata": {},
   "outputs": [
    {
     "data": {
      "text/plain": [
       "true"
      ]
     },
     "execution_count": 2,
     "metadata": {},
     "output_type": "execute_result"
    }
   ],
   "source": [
    "/a/ == /a/"
   ]
  },
  {
   "cell_type": "code",
   "execution_count": 3,
   "metadata": {},
   "outputs": [
    {
     "data": {
      "text/plain": [
       "false"
      ]
     },
     "execution_count": 3,
     "metadata": {},
     "output_type": "execute_result"
    }
   ],
   "source": [
    "/a+/ == /a/"
   ]
  },
  {
   "cell_type": "markdown",
   "metadata": {},
   "source": [
    "### Матчи"
   ]
  },
  {
   "cell_type": "markdown",
   "metadata": {},
   "source": [
    "Для проверки матча используется метод `match`. В качестве аргумента этот метод принимает строку, в которой и нужно искать матчи."
   ]
  },
  {
   "cell_type": "code",
   "execution_count": 13,
   "metadata": {},
   "outputs": [
    {
     "name": "stdout",
     "output_type": "stream",
     "text": [
      "#<MatchData \"correct\">\n",
      "nil\n"
     ]
    }
   ],
   "source": [
    "rxp = /^\\w+$/\n",
    "\n",
    "p rxp.match 'correct'\n",
    "p rxp.match 'w rong'"
   ]
  },
  {
   "cell_type": "markdown",
   "metadata": {},
   "source": [
    "Если нет матчей, вернется `nil`."
   ]
  },
  {
   "cell_type": "markdown",
   "metadata": {},
   "source": [
    "Если писать `match` не хочется, можно использовать оператор ``=~`."
   ]
  },
  {
   "cell_type": "code",
   "execution_count": 14,
   "metadata": {},
   "outputs": [
    {
     "name": "stdout",
     "output_type": "stream",
     "text": [
      "0\n",
      "nil\n"
     ]
    }
   ],
   "source": [
    "p rxp =~ 'correct'\n",
    "p rxp =~ 'w rong'"
   ]
  },
  {
   "cell_type": "markdown",
   "metadata": {},
   "source": [
    "Оператор `=~` в отличие от `match` вернет **индекс первого матча**. `match` возвращает специальный объект - по сути обертку над этим самым индексом. "
   ]
  },
  {
   "cell_type": "code",
   "execution_count": 16,
   "metadata": {},
   "outputs": [
    {
     "name": "stdout",
     "output_type": "stream",
     "text": [
      "#<MatchData \"word\">\n",
      "0\n"
     ]
    },
    {
     "data": {
      "text/plain": [
       "0"
      ]
     },
     "execution_count": 16,
     "metadata": {},
     "output_type": "execute_result"
    }
   ],
   "source": [
    "word_rxp = /\\w+/\n",
    "\n",
    "string = 'word another'\n",
    "\n",
    "method_match = word_rxp.match string\n",
    "operator_match = word_rxp =~ string\n",
    "\n",
    "p method_match\n",
    "p operator_match"
   ]
  },
  {
   "cell_type": "markdown",
   "metadata": {},
   "source": [
    "### Именованные группы и немного магии"
   ]
  },
  {
   "cell_type": "markdown",
   "metadata": {},
   "source": [
    "Мы создаем регулярное выражение, в котором есть две именованные группы - lhs и rhs (left-hand side и right-hand side) - левое и правое слова.\n",
    "\n",
    "Сматчим строку, содержащую два слова. Все будет хорошо. А что если мы захотим обратиться к именованной группе (а иначе зачем мы ее именовали?))."
   ]
  },
  {
   "cell_type": "code",
   "execution_count": 18,
   "metadata": {},
   "outputs": [
    {
     "name": "stdout",
     "output_type": "stream",
     "text": [
      "0\n"
     ]
    },
    {
     "ename": "NameError",
     "evalue": "undefined local variable or method `lhs' for main:Object",
     "output_type": "error",
     "traceback": [
      "\u001b[31mNameError\u001b[0m: undefined local variable or method `lhs' for main:Object",
      "\u001b[37m<main>:4:in `<main>'\u001b[0m",
      "\u001b[37m/var/lib/gems/2.3.0/gems/iruby-0.3/lib/iruby/backend.rb:44:in `eval'\u001b[0m",
      "\u001b[37m/var/lib/gems/2.3.0/gems/iruby-0.3/lib/iruby/backend.rb:44:in `eval'\u001b[0m",
      "\u001b[37m/var/lib/gems/2.3.0/gems/iruby-0.3/lib/iruby/backend.rb:12:in `eval'\u001b[0m",
      "\u001b[37m/var/lib/gems/2.3.0/gems/iruby-0.3/lib/iruby/kernel.rb:87:in `execute_request'\u001b[0m",
      "\u001b[37m/var/lib/gems/2.3.0/gems/iruby-0.3/lib/iruby/kernel.rb:47:in `dispatch'\u001b[0m",
      "\u001b[37m/var/lib/gems/2.3.0/gems/iruby-0.3/lib/iruby/kernel.rb:37:in `run'\u001b[0m",
      "\u001b[37m/var/lib/gems/2.3.0/gems/iruby-0.3/lib/iruby/command.rb:70:in `run_kernel'\u001b[0m",
      "\u001b[37m/var/lib/gems/2.3.0/gems/iruby-0.3/lib/iruby/command.rb:34:in `run'\u001b[0m",
      "\u001b[37m/var/lib/gems/2.3.0/gems/iruby-0.3/bin/iruby:5:in `<top (required)>'\u001b[0m",
      "\u001b[37m/usr/local/bin/iruby:23:in `load'\u001b[0m",
      "\u001b[37m/usr/local/bin/iruby:23:in `<main>'\u001b[0m"
     ]
    }
   ],
   "source": [
    "rexp = /(?<lhs>\\w+)(?<rhs>\\w+)/\n",
    "\n",
    "p rexp =~ 'word another'\n",
    "\n",
    "p lhs\n",
    "p rhs"
   ]
  },
  {
   "cell_type": "markdown",
   "metadata": {},
   "source": [
    "Ничего не работает и это логично, ведь lhs и rhs никак нами не объявлены.\n",
    "\n",
    "# НО"
   ]
  },
  {
   "cell_type": "code",
   "execution_count": 20,
   "metadata": {},
   "outputs": [
    {
     "name": "stdout",
     "output_type": "stream",
     "text": [
      "0\n",
      "\"word\"\n",
      "\"another\"\n"
     ]
    },
    {
     "data": {
      "text/plain": [
       "\"another\""
      ]
     },
     "execution_count": 20,
     "metadata": {},
     "output_type": "execute_result"
    }
   ],
   "source": [
    "p /(?<lhs>\\w+) (?<rhs>\\w+)/ =~ 'word another'\n",
    "\n",
    "p lhs\n",
    "p rhs"
   ]
  },
  {
   "cell_type": "markdown",
   "metadata": {},
   "source": [
    "Если не создавать специального объекта с регуляркой, то такая неявная магия будет работать, потому что интерпретатор объявит переменные lhs и rhs за нас."
   ]
  },
  {
   "cell_type": "markdown",
   "metadata": {},
   "source": [
    "![](img/51.jpg)"
   ]
  },
  {
   "cell_type": "markdown",
   "metadata": {},
   "source": [
    "Нужно ли этим пользоваться - **НЕТ**."
   ]
  },
  {
   "cell_type": "markdown",
   "metadata": {},
   "source": [
    "### Регулярные выражения в строке"
   ]
  },
  {
   "cell_type": "markdown",
   "metadata": {},
   "source": [
    "Regexp используется как правило для сравнения строки с шаблоном. Если же мы хотим найти какие-то шаблоны внутри строки и что-то с ними сделать, например, посчитать или на что-то заменить, гораздо удобнее было бы вызывать методы строки. В Ruby есть такая возможность."
   ]
  },
  {
   "cell_type": "markdown",
   "metadata": {},
   "source": [
    "#### String#scan"
   ]
  },
  {
   "cell_type": "markdown",
   "metadata": {},
   "source": [
    "Возвращает массив матчей. Нужен как правило для того, чтобы посчитать количество матчей или вообще понять, есть ли таковые в строке."
   ]
  },
  {
   "cell_type": "code",
   "execution_count": 31,
   "metadata": {},
   "outputs": [
    {
     "data": {
      "text/plain": [
       "[\"aaa\", \"bbb\"]"
      ]
     },
     "execution_count": 31,
     "metadata": {},
     "output_type": "execute_result"
    }
   ],
   "source": [
    "'aaa 111 bbb'.scan(/[A-Za-z]+/)"
   ]
  },
  {
   "cell_type": "code",
   "execution_count": 28,
   "metadata": {},
   "outputs": [
    {
     "data": {
      "text/plain": [
       "[]"
      ]
     },
     "execution_count": 28,
     "metadata": {},
     "output_type": "execute_result"
    }
   ],
   "source": [
    "'aaa bbb'.scan(/\\d+/)"
   ]
  },
  {
   "cell_type": "markdown",
   "metadata": {},
   "source": [
    "#### String#sub"
   ]
  },
  {
   "cell_type": "markdown",
   "metadata": {},
   "source": [
    "Заменяет **первое вхождение** регулярного выражения."
   ]
  },
  {
   "cell_type": "code",
   "execution_count": 29,
   "metadata": {},
   "outputs": [
    {
     "data": {
      "text/plain": [
       "\"ЗАМЕНА 111 bbb\""
      ]
     },
     "execution_count": 29,
     "metadata": {},
     "output_type": "execute_result"
    }
   ],
   "source": [
    "'aaa 111 bbb'.sub /[A-Za-z]+/, 'ЗАМЕНА'"
   ]
  },
  {
   "cell_type": "markdown",
   "metadata": {},
   "source": [
    "#### String#gsub"
   ]
  },
  {
   "cell_type": "markdown",
   "metadata": {},
   "source": [
    "Заменяет **первое вхождение** регулярного выражения."
   ]
  },
  {
   "cell_type": "code",
   "execution_count": 32,
   "metadata": {},
   "outputs": [
    {
     "data": {
      "text/plain": [
       "\"ЗАМЕНА 111 ЗАМЕНА\""
      ]
     },
     "execution_count": 32,
     "metadata": {},
     "output_type": "execute_result"
    }
   ],
   "source": [
    "'aaa 111 bbb'.gsub /[A-Za-z]+/, 'ЗАМЕНА'"
   ]
  },
  {
   "cell_type": "markdown",
   "metadata": {},
   "source": [
    "Методы `sub` и `gsub` могут также принимать в качестве второго агрумента **словарь**"
   ]
  },
  {
   "cell_type": "code",
   "execution_count": 33,
   "metadata": {},
   "outputs": [
    {
     "data": {
      "text/plain": [
       "\"1488\""
      ]
     },
     "execution_count": 33,
     "metadata": {},
     "output_type": "execute_result"
    }
   ],
   "source": [
    "'ae'.gsub /[ae]/, 'a' => '14', 'e' => '88' "
   ]
  },
  {
   "cell_type": "markdown",
   "metadata": {},
   "source": [
    "**И самое главное** - они могут принимать на вход **блок кода**! \n",
    "\n",
    "Этот блок кода принимает на вход построку - матч. Причем в этом блоке можно также вызывать `sub`, `gsub` или другой метод для строки."
   ]
  },
  {
   "cell_type": "markdown",
   "metadata": {},
   "source": [
    "## Задачи"
   ]
  },
  {
   "cell_type": "code",
   "execution_count": null,
   "metadata": {
    "collapsed": true
   },
   "outputs": [],
   "source": []
  }
 ],
 "metadata": {
  "kernelspec": {
   "display_name": "Ruby 2.3.5",
   "language": "ruby",
   "name": "ruby"
  },
  "language_info": {
   "file_extension": ".rb",
   "mimetype": "application/x-ruby",
   "name": "ruby",
   "version": "2.3.5"
  }
 },
 "nbformat": 4,
 "nbformat_minor": 2
}
