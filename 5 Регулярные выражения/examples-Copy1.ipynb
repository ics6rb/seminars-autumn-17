{
 "cells": [
  {
   "cell_type": "markdown",
   "metadata": {},
   "source": [
    "### 1"
   ]
  },
  {
   "cell_type": "markdown",
   "metadata": {},
   "source": [
    "Заменить окончание “ing” на окончание “ed” во всех словах строки, оканчивающихся на “ing”."
   ]
  },
  {
   "cell_type": "code",
   "execution_count": 1,
   "metadata": {},
   "outputs": [
    {
     "data": {
      "text/plain": [
       "\"aaa doing cooking walking walkin' singing\""
      ]
     },
     "execution_count": 1,
     "metadata": {},
     "output_type": "execute_result"
    }
   ],
   "source": [
    "string = \"aaa doing cooking walking walkin' singing\""
   ]
  },
  {
   "cell_type": "code",
   "execution_count": 2,
   "metadata": {},
   "outputs": [
    {
     "data": {
      "text/plain": [
       "\"aaa doed cooked walked walkin' singed\""
      ]
     },
     "execution_count": 2,
     "metadata": {},
     "output_type": "execute_result"
    }
   ],
   "source": [
    "string.gsub /ing\\b/, 'ed'"
   ]
  },
  {
   "cell_type": "markdown",
   "metadata": {},
   "source": [
    "Метод `gsub` заменяет все матчи регулярного выражения.\n",
    "\n",
    "Регулярное выражение содержит буквенную последовательность `ing`, которую нам необходимо заменить `\\b` как сигнал о том, что после буквы `g` в буквенной последовательности должен быть конец слова. В противном случае слово `singing` было бы заменено на `seded`:"
   ]
  },
  {
   "cell_type": "code",
   "execution_count": 3,
   "metadata": {},
   "outputs": [
    {
     "data": {
      "text/plain": [
       "\"seded\""
      ]
     },
     "execution_count": 3,
     "metadata": {},
     "output_type": "execute_result"
    }
   ],
   "source": [
    "'singing'.gsub /ing/, 'ed'"
   ]
  },
  {
   "cell_type": "markdown",
   "metadata": {},
   "source": [
    "### 2"
   ]
  },
  {
   "cell_type": "markdown",
   "metadata": {},
   "source": [
    "Во всех словах строки, начинающихся на букву «н», заменить эту букву буквой «Т», а во всех словах, оканчивающихся на букву «о», заменить эту букву буквой «Е»."
   ]
  },
  {
   "cell_type": "code",
   "execution_count": 4,
   "metadata": {},
   "outputs": [
    {
     "data": {
      "text/plain": [
       "\"нос, снять, колесо, журавль, околоток, сколоченный, деревянный, неподъемный, ничто\""
      ]
     },
     "execution_count": 4,
     "metadata": {},
     "output_type": "execute_result"
    }
   ],
   "source": [
    "string = 'нос, снять, колесо, журавль, околоток, сколоченный, деревянный, неподъемный, ничто'"
   ]
  },
  {
   "cell_type": "code",
   "execution_count": 5,
   "metadata": {},
   "outputs": [
    {
     "data": {
      "text/plain": [
       "\"Тос, снять, колесЕ, журавль, околоток, сколоченный, деревянный, Теподъемный, ТичтЕ\""
      ]
     },
     "execution_count": 5,
     "metadata": {},
     "output_type": "execute_result"
    }
   ],
   "source": [
    "string.gsub(/\\bн/, 'Т').gsub(/о\\b/, 'Е')"
   ]
  },
  {
   "cell_type": "markdown",
   "metadata": {},
   "source": [
    "Теперь будем менять не одну, а все буквы \"н\" и \"о\" в слове."
   ]
  },
  {
   "cell_type": "code",
   "execution_count": 6,
   "metadata": {},
   "outputs": [
    {
     "data": {
      "text/plain": [
       "\"Tос, снять, кЕлесЕ, журавль, околоток, сколоченный, деревянный, TеподъемTый, TичтЕ\""
      ]
     },
     "execution_count": 6,
     "metadata": {},
     "output_type": "execute_result"
    }
   ],
   "source": [
    "string.gsub /\\bн[А-Яа-я]+/ do |match|\n",
    "  match.gsub /н/, 'T'\n",
    "end.gsub /[А-Яа-я]+о\\b/ do |match|\n",
    "  match.gsub /о/, 'Е'\n",
    "end"
   ]
  },
  {
   "cell_type": "markdown",
   "metadata": {},
   "source": [
    "### 3"
   ]
  },
  {
   "cell_type": "markdown",
   "metadata": {},
   "source": [
    "Дана последовательность строк. Строки состоят из слов, разделенных пробелом. Каждая строка содержит существительные единственного числа, оканчивающиеся на «онок» и «енок». Написать программу,обеспечивающую ввод строк и их корректировку. Корректировка заключается в преобразовании существительных в единственном числе, во множественное. Для преобразования считать, что множественное число этих существительных образуется на другой основе по образцу: Цыпленок – цыплята, мышонок – мышата. При этом, «а» перед «т» пишется, если корень оканчивается на шипящую, а в остальных случаях перед «т» будет буква «я».Вывести на печать исходную и скорректированную последовательности строк.\n"
   ]
  },
  {
   "cell_type": "code",
   "execution_count": 7,
   "metadata": {},
   "outputs": [
    {
     "data": {
      "text/plain": [
       "\"цыпленок мышонок слоненок ягненок котенок\""
      ]
     },
     "execution_count": 7,
     "metadata": {},
     "output_type": "execute_result"
    }
   ],
   "source": [
    "string = 'цыпленок мышонок слоненок ягненок котенок'"
   ]
  },
  {
   "cell_type": "code",
   "execution_count": 8,
   "metadata": {},
   "outputs": [
    {
     "data": {
      "text/plain": [
       "\"цыплята мышата слонята ягнята котята\""
      ]
     },
     "execution_count": 8,
     "metadata": {},
     "output_type": "execute_result"
    }
   ],
   "source": [
    "letters = ['ж', 'ш', 'щ', 'ч']\n",
    "\n",
    "string.gsub /[А-Яа-я]+(о|е)нок\\b/ do |match|\n",
    "  root = match.sub /(о|е)нок/, ''\n",
    "\n",
    "  if letters.include?(root[-1])\n",
    "    root + 'ата'\n",
    "  else \n",
    "    root + 'ята'\n",
    "  end\n",
    "end"
   ]
  },
  {
   "cell_type": "markdown",
   "metadata": {},
   "source": [
    "### 4"
   ]
  },
  {
   "cell_type": "markdown",
   "metadata": {},
   "source": [
    "Дана последовательность строк. Каждая строка состоит из групп букв, цифр и знаков +,-,*. Группой букв называется группа, которой не предшествует и за которой не следует буква. Группой цифр называется группа, которой не предшествует и за которой не следует цифра. Группой знаков называется группа, которой не предшествует и за которой не следует знак.\n",
    "\n",
    "Написать программу, определяющую в каждой строке количество групп цифр. Если таких групп четное количество, то заменить все группы цифр последовательностью символов «&&&&&&». Если количество групп цифр нечетное, оставить все без изменения. Если искомых групп в строке нет, то выдать сообщение. Вывести на печать исходную и скорректированную последовательность строк."
   ]
  },
  {
   "cell_type": "code",
   "execution_count": 9,
   "metadata": {},
   "outputs": [
    {
     "data": {
      "text/plain": [
       "\"aaa fff rll 4453kgkf s;fg9993fkm\""
      ]
     },
     "execution_count": 9,
     "metadata": {},
     "output_type": "execute_result"
    }
   ],
   "source": [
    "string1 = 'aaa fff 123 rll 4453kgkf s;fg9993fkm'\n",
    "string2 = 'aaa fff rll 4453kgkf s;fg9993fkm'"
   ]
  },
  {
   "cell_type": "code",
   "execution_count": 10,
   "metadata": {},
   "outputs": [
    {
     "data": {
      "text/plain": [
       ":replace"
      ]
     },
     "execution_count": 10,
     "metadata": {},
     "output_type": "execute_result"
    }
   ],
   "source": [
    "def replace string\n",
    "  if string.scan(/\\d+/).length.even?\n",
    "    string.gsub /\\d+/, '&&&&&&'\n",
    "  else\n",
    "    string\n",
    "  end\n",
    "end"
   ]
  },
  {
   "cell_type": "code",
   "execution_count": 11,
   "metadata": {},
   "outputs": [
    {
     "data": {
      "text/plain": [
       "\"aaa fff 123 rll 4453kgkf s;fg9993fkm\""
      ]
     },
     "execution_count": 11,
     "metadata": {},
     "output_type": "execute_result"
    }
   ],
   "source": [
    "replace string1"
   ]
  },
  {
   "cell_type": "code",
   "execution_count": 12,
   "metadata": {},
   "outputs": [
    {
     "data": {
      "text/plain": [
       "\"aaa fff rll &&&&&&kgkf s;fg&&&&&&fkm\""
      ]
     },
     "execution_count": 12,
     "metadata": {},
     "output_type": "execute_result"
    }
   ],
   "source": [
    "replace string2"
   ]
  },
  {
   "cell_type": "markdown",
   "metadata": {},
   "source": [
    "### 5"
   ]
  },
  {
   "cell_type": "markdown",
   "metadata": {},
   "source": [
    "Написать программу, определяющую в каждой строке количество групп букв. Если таких групп больше 2-х, то каждый знак «+», встречающийся между группами букв заменяется на цифру 1, знак «-» на цифру 2, а знак «*» на цифру 3. Иначе оставить текст без изменения. Вывести на печать исходную и скорректированную последовательности строк."
   ]
  },
  {
   "cell_type": "code",
   "execution_count": 168,
   "metadata": {},
   "outputs": [
    {
     "data": {
      "text/plain": [
       "\"aaa +-*dd\""
      ]
     },
     "execution_count": 168,
     "metadata": {},
     "output_type": "execute_result"
    }
   ],
   "source": [
    "string1 = 'aaa ddf +-*ddg +-*'\n",
    "string2 = 'aaa +-*dd'"
   ]
  },
  {
   "cell_type": "code",
   "execution_count": 169,
   "metadata": {},
   "outputs": [
    {
     "data": {
      "text/plain": [
       ":replace"
      ]
     },
     "execution_count": 169,
     "metadata": {},
     "output_type": "execute_result"
    }
   ],
   "source": [
    "def replace string\n",
    "  if string.scan(/\\w+/).length > 2\n",
    "    string.gsub(/(\\w+.+?)([\\-+*]+)(.+?\\w+)/) do\n",
    "      w1, w3 = $1, $3\n",
    "      w1 + $2.gsub(/[\\+\\-\\*]/, '+' => '1', '-' => '2', '*' => '3') + w3\n",
    "    end\n",
    "  else\n",
    "    string\n",
    "  end\n",
    "end"
   ]
  },
  {
   "cell_type": "code",
   "execution_count": 170,
   "metadata": {},
   "outputs": [
    {
     "name": "stdout",
     "output_type": "stream",
     "text": [
      "\"Исходная строка:      aaa ddf +-*ddg +-*\"\n",
      "\"Скорректированная:    aaa ddf 123ddg +-*\"\n",
      "\"Исходная строка:      aaa +-*dd\"\n",
      "\"Скорректированная:    aaa +-*dd\"\n"
     ]
    },
    {
     "data": {
      "text/plain": [
       "[\"aaa ddf +-*ddg +-*\", \"aaa +-*dd\"]"
      ]
     },
     "execution_count": 170,
     "metadata": {},
     "output_type": "execute_result"
    }
   ],
   "source": [
    "[string1, string2].each do |x|\n",
    "  p \"Исходная строка:      #{x}\"\n",
    "  p \"Скорректированная:    \" + replace(x)\n",
    "end"
   ]
  },
  {
   "cell_type": "markdown",
   "metadata": {},
   "source": [
    "### 6"
   ]
  },
  {
   "cell_type": "markdown",
   "metadata": {},
   "source": [
    "Предполагается, что строка содержит не менее 3-х групп букв. Написать программу, определяющую количество вхождений буквы f в первые три группы букв. Если таких вхождений меньше 2-х, то заменить группу букв, в которую входит f группой «tree». Вывести на печать исходную и скорректированную последовательности строк."
   ]
  },
  {
   "cell_type": "code",
   "execution_count": 334,
   "metadata": {},
   "outputs": [
    {
     "data": {
      "text/plain": [
       "{\"aaa bbb cfc 0i54\"=>\"aaa bbb tree 0i54\", \"aaa ffb cfc 0i54\"=>3, \"aaa bbb ccc ddd f\"=>\"aaa bbb ccc ddd f\", \"aaa bbb cfc dfd eee\"=>\"aaa bbb tree dfd eee\", \"ffa rfe eef perrrr\"=>4, \"ffa rfe eef perfffr\"=>4, \"aaa fbf ccc 0i54\"=>2, \"aaa fff ccc 0i54\"=>3, \"aaa bbb fcc 0i54\"=>\"aaa bbb tree 0i54\", \"aaa bbb ccf 0i54\"=>\"aaa bbb tree 0i54\"}"
      ]
     },
     "execution_count": 334,
     "metadata": {},
     "output_type": "execute_result"
    }
   ],
   "source": [
    "test = {\n",
    "    'aaa bbb cfc 0i54'    => 'aaa bbb tree 0i54',\n",
    "    'aaa ffb cfc 0i54'    => 3,\n",
    "    'aaa bbb ccc ddd f'   => 'aaa bbb ccc ddd f',\n",
    "    'aaa bbb cfc dfd eee' => 'aaa bbb tree dfd eee',\n",
    "    'ffa rfe eef perrrr'  => 4,\n",
    "    'ffa rfe eef perfffr' => 4,\n",
    "    'aaa fbf ccc 0i54'    => 2,\n",
    "    'aaa fff ccc 0i54'    => 3,\n",
    "    'aaa bbb fcc 0i54'    => 'aaa bbb tree 0i54',\n",
    "    'aaa bbb ccf 0i54'    => 'aaa bbb tree 0i54',\n",
    "  }"
   ]
  },
  {
   "cell_type": "code",
   "execution_count": 323,
   "metadata": {},
   "outputs": [
    {
     "data": {
      "text/plain": [
       ":fff"
      ]
     },
     "execution_count": 323,
     "metadata": {},
     "output_type": "execute_result"
    }
   ],
   "source": [
    "def fff string\n",
    "  if string.scan(/\\W*\\w+\\W*/)[0..2].join(\" \").scan(/f/).length < 2 then\n",
    "    groups = string.scan(/\\W*\\w+\\W*/)\n",
    "    groups[0..2].each { |x| x.gsub!(/(\\W*)(\\w*f+\\w*)(\\W*)/, \"\\\\1tree\\\\3\") }.join('') + groups[3..-1].join('')\n",
    "  else\n",
    "    num = 0\n",
    "    string.scan(/\\W*(\\w+)\\W+/)[0..2].each { |x| num += x.first.scan(/f/).length }\n",
    "    num\n",
    "  end\n",
    "end"
   ]
  },
  {
   "cell_type": "code",
   "execution_count": 352,
   "metadata": {},
   "outputs": [
    {
     "name": "stdout",
     "output_type": "stream",
     "text": [
      "Тест пройден!\n",
      "Строка:\t\t\taaa bbb cfc 0i54\n",
      "Значение функции:\taaa bbb tree 0i54\n",
      "\n",
      "Тест пройден!\n",
      "Строка:\t\t\taaa ffb cfc 0i54\n",
      "Значение функции:\t3\n",
      "\n",
      "Тест пройден!\n",
      "Строка:\t\t\taaa bbb ccc ddd f\n",
      "Значение функции:\taaa bbb ccc ddd f\n",
      "\n",
      "Тест пройден!\n",
      "Строка:\t\t\taaa bbb cfc dfd eee\n",
      "Значение функции:\taaa bbb tree dfd eee\n",
      "\n",
      "Тест пройден!\n",
      "Строка:\t\t\tffa rfe eef perrrr\n",
      "Значение функции:\t4\n",
      "\n",
      "Тест пройден!\n",
      "Строка:\t\t\tffa rfe eef perfffr\n",
      "Значение функции:\t4\n",
      "\n",
      "Тест пройден!\n",
      "Строка:\t\t\taaa fbf ccc 0i54\n",
      "Значение функции:\t2\n",
      "\n",
      "Тест пройден!\n",
      "Строка:\t\t\taaa fff ccc 0i54\n",
      "Значение функции:\t3\n",
      "\n",
      "Тест пройден!\n",
      "Строка:\t\t\taaa bbb fcc 0i54\n",
      "Значение функции:\taaa bbb tree 0i54\n",
      "\n",
      "Тест пройден!\n",
      "Строка:\t\t\taaa bbb ccf 0i54\n",
      "Значение функции:\taaa bbb tree 0i54\n",
      "\n"
     ]
    },
    {
     "data": {
      "text/plain": [
       "[\"aaa bbb cfc 0i54\", \"aaa ffb cfc 0i54\", \"aaa bbb ccc ddd f\", \"aaa bbb cfc dfd eee\", \"ffa rfe eef perrrr\", \"ffa rfe eef perfffr\", \"aaa fbf ccc 0i54\", \"aaa fff ccc 0i54\", \"aaa bbb fcc 0i54\", \"aaa bbb ccf 0i54\"]"
      ]
     },
     "execution_count": 352,
     "metadata": {},
     "output_type": "execute_result"
    }
   ],
   "source": [
    "test.keys.each do |x|\n",
    "  if test[x] == fff(x) then puts \"Тест пройден!\" else puts \"Тест провален!\" end\n",
    "  puts \"Строка:\\t\\t\\t#{x}\"\n",
    "  puts \"Значение функции:\\t#{fff(x)}\\n\"\n",
    "end\n",
    "  \n"
   ]
  },
  {
   "cell_type": "markdown",
   "metadata": {},
   "source": [
    "### 7"
   ]
  },
  {
   "cell_type": "markdown",
   "metadata": {},
   "source": [
    "Написать программу, определяющую в каждой строке количество таких групп букв, которые начинаются и кончаются одной и той же буквой. Вывести на печать исходную последовательность строк и строки, содержащие искомые группы букв."
   ]
  },
  {
   "cell_type": "code",
   "execution_count": null,
   "metadata": {},
   "outputs": [],
   "source": []
  },
  {
   "cell_type": "code",
   "execution_count": null,
   "metadata": {},
   "outputs": [],
   "source": [
    "def counter string\n",
    "  string.scan(/\\w+/).select { |word| word.start_with? word[-1] }.length\n",
    "end"
   ]
  },
  {
   "cell_type": "markdown",
   "metadata": {},
   "source": [
    "### 8"
   ]
  },
  {
   "cell_type": "markdown",
   "metadata": {},
   "source": [
    "Дана последовательность строк. Строки содержат слова, разделенные пробелом. Используя цифровой шифр, например 31206, зашифровать каждую строку по следующей методике: 31206 312063 12 063 \n",
    "Пирог сгорел до тла\n",
    "Ткток фкррло ер есг\n",
    "То есть, к каждой букве применяют соответствующую цифру для определения смещения этой буквы, с целью получения буквы шифра. Написать программу, обеспечивающую ввод строк, шифровку и дешифровку.    Вывести на печать зашифрованную и подвергнутую дешифровке последовательности строк."
   ]
  },
  {
   "cell_type": "code",
   "execution_count": 1,
   "metadata": {},
   "outputs": [
    {
     "data": {
      "text/plain": [
       ":cryptor"
      ]
     },
     "execution_count": 1,
     "metadata": {},
     "output_type": "execute_result"
    }
   ],
   "source": [
    "def cryptor string, cipher, algorithm\n",
    "  cipher = (cipher * (string.length / cipher.length.to_f).ceil)[0...string.length].each_char.map &:to_i\n",
    "  string.each_char.zip(cipher).map(&algorithm).join ''\n",
    "end"
   ]
  },
  {
   "cell_type": "code",
   "execution_count": 6,
   "metadata": {},
   "outputs": [
    {
     "data": {
      "text/plain": [
       "#<Proc:0x000055d5957b9560@<main>:1 (lambda)>"
      ]
     },
     "execution_count": 6,
     "metadata": {},
     "output_type": "execute_result"
    }
   ],
   "source": [
    "encryptor = ->(param) {char, code = *param; [char.ord + code].pack('U*').force_encoding('UTF-8')}\n",
    "decryptor = ->(param) {char, code = *param; [char.ord - code].pack('U*').force_encoding('UTF-8')}"
   ]
  },
  {
   "cell_type": "code",
   "execution_count": 7,
   "metadata": {},
   "outputs": [
    {
     "data": {
      "text/plain": [
       "\"aa\""
      ]
     },
     "execution_count": 7,
     "metadata": {},
     "output_type": "execute_result"
    }
   ],
   "source": [
    "cryptor('bb', '112', decryptor)"
   ]
  },
  {
   "cell_type": "code",
   "execution_count": null,
   "metadata": {},
   "outputs": [],
   "source": []
  }
 ],
 "metadata": {
  "kernelspec": {
   "display_name": "Ruby 2.3.5",
   "language": "ruby",
   "name": "ruby"
  },
  "language_info": {
   "file_extension": ".rb",
   "mimetype": "application/x-ruby",
   "name": "ruby",
   "version": "2.3.5"
  }
 },
 "nbformat": 4,
 "nbformat_minor": 2
}
