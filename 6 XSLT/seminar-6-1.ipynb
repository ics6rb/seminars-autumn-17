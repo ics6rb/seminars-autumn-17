{
 "cells": [
  {
   "cell_type": "markdown",
   "metadata": {
    "slideshow": {
     "slide_type": "slide"
    }
   },
   "source": [
    "# XSLT\n",
    "\n",
    "## часть 1"
   ]
  },
  {
   "cell_type": "markdown",
   "metadata": {
    "slideshow": {
     "slide_type": "slide"
    }
   },
   "source": [
    "# Немного о вебе "
   ]
  },
  {
   "cell_type": "markdown",
   "metadata": {
    "slideshow": {
     "slide_type": "subslide"
    }
   },
   "source": [
    "## Архитектура клиент-сервер\n",
    "\n",
    "![](img/60.jpg)"
   ]
  },
  {
   "cell_type": "markdown",
   "metadata": {
    "slideshow": {
     "slide_type": "subslide"
    }
   },
   "source": [
    "**Клиент:**\n",
    "* Устройство\n",
    "    * Мобильный телефон\n",
    "    * Планшет\n",
    "    * Компьютер\n",
    "    * Другое устройство\n",
    "* Программа на устройстве\n",
    "* Человек"
   ]
  },
  {
   "cell_type": "markdown",
   "metadata": {
    "slideshow": {
     "slide_type": "subslide"
    }
   },
   "source": [
    "**Сервер:**\n",
    "* Машина, которая принимает запросы\n",
    "* ПО, которое обеспечивает логику приема запросов"
   ]
  },
  {
   "cell_type": "markdown",
   "metadata": {
    "slideshow": {
     "slide_type": "slide"
    }
   },
   "source": [
    "## Доступ к серверу"
   ]
  },
  {
   "cell_type": "markdown",
   "metadata": {
    "slideshow": {
     "slide_type": "subslide"
    }
   },
   "source": [
    "1. IP\n",
    "        \n",
    "```text\n",
    "32 бита, пишется по 8 бит, \n",
    "разделяемых точкой:\n",
    "\n",
    "8 бит.8 бит.8 бит.8 бит\n",
    "\n",
    "209.85.255.202\n",
    "```\n",
    "    \n",
    "2. DNS \n",
    "    \n",
    "```text\n",
    "google.com\n",
    "```"
   ]
  },
  {
   "cell_type": "markdown",
   "metadata": {
    "slideshow": {
     "slide_type": "slide"
    }
   },
   "source": [
    "## URL\n",
    "\n",
    "`протокол доступа :// адрес хоста`\n",
    "\n",
    "`http или https :// IP или DNS`\n"
   ]
  },
  {
   "cell_type": "markdown",
   "metadata": {
    "slideshow": {
     "slide_type": "subslide"
    }
   },
   "source": [
    "**Не только веб**\n",
    "\n",
    "`tel:+78881234567`"
   ]
  },
  {
   "cell_type": "markdown",
   "metadata": {
    "slideshow": {
     "slide_type": "slide"
    }
   },
   "source": [
    "### Доступ только по URL"
   ]
  },
  {
   "cell_type": "markdown",
   "metadata": {
    "slideshow": {
     "slide_type": "subslide"
    }
   },
   "source": [
    "![](img/61.jpg)"
   ]
  },
  {
   "cell_type": "markdown",
   "metadata": {
    "slideshow": {
     "slide_type": "subslide"
    }
   },
   "source": [
    "![](img/62.png)"
   ]
  },
  {
   "cell_type": "markdown",
   "metadata": {
    "slideshow": {
     "slide_type": "subslide"
    }
   },
   "source": [
    "### HTTP-порт\n",
    "\n",
    "`протокол доступа :// адрес хоста : номер порта`\n",
    "\n",
    "`0 - 65535`"
   ]
  },
  {
   "cell_type": "markdown",
   "metadata": {
    "slideshow": {
     "slide_type": "slide"
    }
   },
   "source": [
    "# IP loopback\n",
    "\n",
    "Запрос делаем сами себе\n",
    "\n",
    "Варианты\n",
    "\n",
    "`localhost`\n",
    "\n",
    "`127.0.0.1`\n",
    "\n",
    "`0.0.0.0`"
   ]
  },
  {
   "cell_type": "markdown",
   "metadata": {
    "slideshow": {
     "slide_type": "slide"
    }
   },
   "source": [
    "# КонтЕнт\n",
    "\n",
    "![](img/63.jpg)"
   ]
  },
  {
   "cell_type": "markdown",
   "metadata": {
    "slideshow": {
     "slide_type": "subslide"
    }
   },
   "source": [
    "## Статика \n",
    "\n",
    "`протокол доступа :// хост : порт /путь/к/файлу(.расширение)`\n",
    "\n",
    "![](img/64.png)"
   ]
  },
  {
   "cell_type": "markdown",
   "metadata": {
    "slideshow": {
     "slide_type": "subslide"
    }
   },
   "source": [
    "# Маршрут (или роут)\n",
    "\n",
    "`/путь/к/файлу`\n",
    "\n",
    "Раньше был именно путем в файловой системе, сейчас это не так, но суть та же.\n",
    "\n",
    "Показывает, **какую часть приложения нужно использовать**, то есть какую функцию вызывать(не в смысле программирования, имеется в виду одна из функций приложения, которое вы пишете)."
   ]
  },
  {
   "cell_type": "markdown",
   "metadata": {
    "slideshow": {
     "slide_type": "subslide"
    }
   },
   "source": [
    "## Динамика\n",
    "\n",
    "**До**\n",
    "\n",
    "![](img/65.png)\n",
    "\n",
    "**После**\n",
    "\n",
    "![](img/66.png)"
   ]
  },
  {
   "cell_type": "markdown",
   "metadata": {
    "slideshow": {
     "slide_type": "subslide"
    }
   },
   "source": [
    "## Разные способы создания динамики\n",
    "\n",
    "* CGI и модификации\n",
    "* шаблонизатор\n",
    "    * свой\n",
    "    * **не** свой"
   ]
  },
  {
   "cell_type": "markdown",
   "metadata": {
    "slideshow": {
     "slide_type": "subslide"
    }
   },
   "source": [
    "### Фреймворки\n",
    "\n",
    "* Готовая архитектура\n",
    "* Решены все самые распространенные задачи\n",
    "    * Меньше делать\n",
    "    * Меньше потенциальных ошибок\n",
    "* Есть шаблонизаторы"
   ]
  },
  {
   "cell_type": "markdown",
   "metadata": {
    "slideshow": {
     "slide_type": "slide"
    }
   },
   "source": [
    "# Rails - это фреймворк"
   ]
  },
  {
   "cell_type": "markdown",
   "metadata": {
    "slideshow": {
     "slide_type": "subslide"
    }
   },
   "source": [
    "![](img/67.png)"
   ]
  },
  {
   "cell_type": "markdown",
   "metadata": {
    "slideshow": {
     "slide_type": "slide"
    }
   },
   "source": [
    "# MVC"
   ]
  },
  {
   "cell_type": "markdown",
   "metadata": {
    "slideshow": {
     "slide_type": "subslide"
    }
   },
   "source": [
    "1. Model - данные и бизнес-логика\n",
    "2. View - **только** рисует в нужном формате, может иметь вспомогательные возможности (цикл, условный оператор)\n",
    "3. Controller - связывает Model и View - дергает из модели данные и отдает их нужной вьюхе"
   ]
  },
  {
   "cell_type": "markdown",
   "metadata": {
    "slideshow": {
     "slide_type": "subslide"
    }
   },
   "source": [
    "![](img/68.png)"
   ]
  },
  {
   "cell_type": "markdown",
   "metadata": {
    "slideshow": {
     "slide_type": "slide"
    }
   },
   "source": [
    "# Роутер\n",
    "\n",
    "![](img/69.jpg)"
   ]
  },
  {
   "cell_type": "markdown",
   "metadata": {
    "slideshow": {
     "slide_type": "subslide"
    }
   },
   "source": [
    "Связывает маршрут и контроллер.\n",
    "\n",
    "```ruby\n",
    "Rails.application.routes.draw do\n",
    "  root to: 'имя_контроллера#имя_метода'\n",
    "    \n",
    "  get 'controller/method'\n",
    "\n",
    "  get '/любой маршрут', to: 'имя_контроллера#имя_метода'\n",
    "end\n",
    "```"
   ]
  },
  {
   "cell_type": "markdown",
   "metadata": {
    "slideshow": {
     "slide_type": "subslide"
    }
   },
   "source": [
    "# HTTP-методы\n",
    "\n",
    "GET (в Rails функция `get`) - просто получает страницу, ничего не меняет на сервере\n",
    "\n",
    "POST (в Rails функция `post`) - кладет на сервер данные, при этом **что-то создает**\n",
    "\n",
    "PUT (в Rails функция `put`) - кладет на сервер данные, при этом **обновляет то, что уже было**\n",
    "\n",
    "DELETE (в Rails функция `delete`) - удаляет данные"
   ]
  },
  {
   "cell_type": "markdown",
   "metadata": {},
   "source": [
    "# Это просто рекомендация, но ей стоит пользоваться "
   ]
  }
 ],
 "metadata": {
  "celltoolbar": "Slideshow",
  "kernelspec": {
   "display_name": "Ruby 2.3.1",
   "language": "ruby",
   "name": "ruby"
  },
  "language_info": {
   "file_extension": ".rb",
   "mimetype": "application/x-ruby",
   "name": "ruby",
   "version": "2.3.1"
  }
 },
 "nbformat": 4,
 "nbformat_minor": 2
}
