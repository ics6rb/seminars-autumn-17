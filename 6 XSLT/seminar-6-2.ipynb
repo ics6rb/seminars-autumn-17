{
 "cells": [
  {
   "cell_type": "markdown",
   "metadata": {
    "slideshow": {
     "slide_type": "slide"
    }
   },
   "source": [
    "# XSLT\n",
    "\n",
    "## часть 2"
   ]
  },
  {
   "cell_type": "markdown",
   "metadata": {
    "slideshow": {
     "slide_type": "slide"
    }
   },
   "source": [
    "# XML\n",
    "\n",
    "e**X**tensible **M**arkup **L**anguage"
   ]
  },
  {
   "cell_type": "markdown",
   "metadata": {
    "slideshow": {
     "slide_type": "subslide"
    }
   },
   "source": [
    "```xml\n",
    "<!--Комментарий-->\n",
    "\n",
    "<!--Указание, что это XML, версия и т.п.-->\n",
    "<?xml version=\"1.0\" encoding=\"UTF-8\"?>\n",
    "<!--Корневой элемент (корневой тег)-->\n",
    "<tag1 attribute=\"value\">\n",
    "    <!--Тег-->\n",
    "\t<tag2></tag2>\n",
    "\t<tag3>\n",
    "\t\t<tag2></tag2>\n",
    "</tag3>\n",
    "</tag1>\n",
    "```"
   ]
  },
  {
   "cell_type": "markdown",
   "metadata": {
    "slideshow": {
     "slide_type": "slide"
    }
   },
   "source": [
    "# XML\n",
    "\n",
    "1. Теги\n",
    "2. Содержимое"
   ]
  },
  {
   "cell_type": "markdown",
   "metadata": {
    "slideshow": {
     "slide_type": "subslide"
    }
   },
   "source": [
    "* Иерархический формат (дерево)\n",
    "* Строгий формат\n",
    "    * **всегда** закрываем теги\n",
    "    * закрываем в строгом порядке - если открыли `<a><i>`, закрыли `</i></a>`\n",
    "* Простой формат"
   ]
  },
  {
   "cell_type": "markdown",
   "metadata": {
    "slideshow": {
     "slide_type": "subslide"
    }
   },
   "source": [
    "# Зачем XML?\n",
    "\n",
    "## Как мы взаимодействуем с сервисом\n",
    "\n",
    "* Клиент-непрограммист хочет видеть красивую картинку\n",
    "* Клиент-программист хочет видеть **только** нужные ему данные\n",
    "    * Экономим трафик\n",
    "    * Легче разбирать данные\n",
    "    * Нет мусорной информации\n",
    "    \n",
    "### Исторически одно из первых решений для клиентов-программистов - XML"
   ]
  },
  {
   "cell_type": "markdown",
   "metadata": {
    "slideshow": {
     "slide_type": "slide"
    }
   },
   "source": [
    "# XSL \n",
    "\n",
    "e**X**tensible **S**tylesheet Language\n",
    "\n",
    "## Почему?\n",
    "\n",
    "Нам удобно работать с XML, но выдавать клиенту хочется красивую картинку."
   ]
  },
  {
   "cell_type": "markdown",
   "metadata": {
    "slideshow": {
     "slide_type": "slide"
    }
   },
   "source": [
    "# XSL\n",
    "\n",
    "1. XSLT - e**X**tensible **S**tylesheet **T**ransformation **L**anguage - грубо говоря шаблонизатор (показывает, как преобразовывать XML)\n",
    "2. XPath - **X**ML **Path** Language - способ записи **пути к тегу (или группе тегов)**\n",
    "3. XSL-FO - e**X**tensible **S**tylesheet **L**anguage **F**ormatting **O**bject - чтобы можно было делать не только $$XML \\Longrightarrow HTML,$$ но и например $$XML \\Longrightarrow ODT$$ или $$XML \\Longrightarrow PDF$$"
   ]
  },
  {
   "cell_type": "markdown",
   "metadata": {
    "slideshow": {
     "slide_type": "slide"
    }
   },
   "source": [
    "# XSLT-преобразование\n",
    "\n",
    "Берем документ\n",
    "\n",
    "```xml\n",
    "<?xml version=\"1.0\" encoding=\"UTF-8\"?>\n",
    "<objects type=\"array\">\n",
    "  <object>\n",
    "    <elem type=\"integer\">0</elem>\n",
    "    <binary>0</binary>\n",
    "  </object>\n",
    "  <object>\n",
    "    <elem type=\"integer\">1</elem>\n",
    "    <binary>1</binary>\n",
    "  </object>\n",
    "</objects>\n",
    "```\n",
    "\n",
    "Хотим записать каждый `object` в строку таблицы"
   ]
  },
  {
   "cell_type": "markdown",
   "metadata": {
    "slideshow": {
     "slide_type": "slide"
    }
   },
   "source": [
    "# Пишем XSLT\n",
    "\n",
    "XSLT - это такой же XML, просто расширенный специфическими интсрукциями."
   ]
  },
  {
   "cell_type": "markdown",
   "metadata": {
    "slideshow": {
     "slide_type": "subslide"
    }
   },
   "source": [
    "### Создаем XML\n",
    "\n",
    "```xml\n",
    "<?xml version=\"1.0\" encoding=\"UTF-8\"?>\n",
    "```\n",
    "\n",
    "### ОБЯЗАТЕЛЬНО указываем, что это XSLT\n",
    "\n",
    "```xml\n",
    "<xsl:stylesheet version=\"1.0\" xmlns:xsl=\"http://www.w3.org/1999/XSL/Transform\">\n",
    "```"
   ]
  },
  {
   "cell_type": "markdown",
   "metadata": {
    "slideshow": {
     "slide_type": "subslide"
    }
   },
   "source": [
    "## Дальше могут быть любые теги, то есть можно сделать head и body (чтобы это нормально отображалось браузером)"
   ]
  },
  {
   "cell_type": "markdown",
   "metadata": {
    "slideshow": {
     "slide_type": "subslide"
    }
   },
   "source": [
    "## В какой-то момент нужно показать, что мы начинаем XSLT\n",
    "\n",
    "```xml\n",
    "<xsl:template match=\"/\">\n",
    "```\n",
    "\n",
    "Можно начинать в **любом** месте.\n",
    "\n",
    "В `match` нужно с помощью XPath **показать, какие элементы XML мы преобразуем**.\n",
    "\n",
    "В данном случае (и скорее всего во всех лабах) нам будет нужен весь XML, значит, пишем `/` (то есть \"начинай разбирать `objects`\")."
   ]
  },
  {
   "cell_type": "markdown",
   "metadata": {
    "slideshow": {
     "slide_type": "subslide"
    }
   },
   "source": [
    "## Цикл - xsl:for-each\n",
    "\n",
    "Выбираем все теги, которые называются `object` и которые вложены в `objects`\n",
    "\n",
    "```xml\n",
    "<xsl:for-each select=\"objects/object\">\n",
    "```"
   ]
  },
  {
   "cell_type": "markdown",
   "metadata": {
    "slideshow": {
     "slide_type": "subslide"
    }
   },
   "source": [
    "## xsl:value-of - содержимое тега\n",
    "\n",
    "```xml\n",
    "<xsl:value-of select=\"elem\"></xsl:value-of>\n",
    "```\n",
    "\n",
    "Для \n",
    "\n",
    "```xml\n",
    "<object>\n",
    "    <elem type=\"integer\">0</elem>\n",
    "    <binary>0</binary>\n",
    "</object>\n",
    "```\n",
    "\n",
    "`value-of` `elem` будет 0."
   ]
  },
  {
   "cell_type": "markdown",
   "metadata": {
    "slideshow": {
     "slide_type": "slide"
    }
   },
   "source": [
    "# XSLT в браузере\n",
    "\n",
    "**Было**\n",
    "\n",
    "```xml\n",
    "<?xml version=\"1.0\" encoding=\"UTF-8\"?>\n",
    "<objects type=\"array\">\n",
    "</objects>\n",
    "```\n",
    "\n",
    "**Стало**\n",
    "\n",
    "```xml\n",
    "<?xml version=\"1.0\" encoding=\"UTF-8\"?>\n",
    "<?xml-stylesheet type=\"text/xsl\" href=\"transform.xslt\"?>\n",
    "<objects type=\"array\">\n",
    "</objects>\n",
    "```\n",
    "\n",
    "Теперь браузер станет искать XSLT."
   ]
  },
  {
   "cell_type": "markdown",
   "metadata": {
    "slideshow": {
     "slide_type": "slide"
    }
   },
   "source": [
    "# XSLT на клиенте - Ruby "
   ]
  },
  {
   "cell_type": "markdown",
   "metadata": {
    "slideshow": {
     "slide_type": "slide"
    }
   },
   "source": [
    "# Лабораторная работа\n",
    "\n",
    "* приложение 1:\n",
    "    * выполняет основное задание\n",
    "    * возвращает результат в XML\n",
    "* получаем XML от приложения 1\n",
    "* пишем XSLT\n",
    "* дописываем в XML привязку к XSLT\n",
    "* открываем XML с дописанной строчкой в браузере - теперь он стал выглядеть как HTML!\n",
    "* пишем скрипт (копируем Самаря) для выполнения преобразования на Ruby, запускаем его с XML (без вписанного XSLT) и в скрипте подгружаем XSLT - проверяем в консоли, что все работает;"
   ]
  },
  {
   "cell_type": "markdown",
   "metadata": {
    "slideshow": {
     "slide_type": "subslide"
    }
   },
   "source": [
    "* приложение 2 - стоит между 1 и браузером; это приложение должно уметь получать:\n",
    "    * XML от 1 как есть\n",
    "    * XML от 1 и преобразовывать его в HTML с помощью Ruby (на сервере)\n",
    "    * XML от 1, дописывать привязку к XSLT (которое хранится у 2 приложения в папке public) и отдавать"
   ]
  },
  {
   "cell_type": "markdown",
   "metadata": {
    "slideshow": {
     "slide_type": "slide"
    }
   },
   "source": [
    "## Что хотим видеть\n",
    "\n",
    "![](img/610.png)"
   ]
  },
  {
   "cell_type": "markdown",
   "metadata": {
    "slideshow": {
     "slide_type": "slide"
    }
   },
   "source": [
    "# Задание\n",
    "\n",
    "Дана нижняя (lower) и верхняя (upper) границы диапазона целых чисел. Найти все числа на отрезке [lower, upper] такие, что в двоичной системе счисления они являются палиндромами. Например\n",
    "33 − 100001.\n",
    "На печать вывести пары число в 10 СС - число в 2 СС."
   ]
  },
  {
   "cell_type": "markdown",
   "metadata": {
    "slideshow": {
     "slide_type": "slide"
    }
   },
   "source": [
    "# Передача параметров\n",
    "\n",
    "`протокол :// хост : порт / маршрут ? параметр1=значение1&параметр2=значение2&...`\n",
    "\n",
    "## Передача формата отображения - параметр format=формат, например format=xml"
   ]
  },
  {
   "cell_type": "markdown",
   "metadata": {
    "slideshow": {
     "slide_type": "slide"
    }
   },
   "source": [
    "`localhost:3000/?lower=10&upper=100&format=xml`"
   ]
  }
 ],
 "metadata": {
  "celltoolbar": "Slideshow",
  "kernelspec": {
   "display_name": "Ruby 2.3.1",
   "language": "ruby",
   "name": "ruby"
  },
  "language_info": {
   "file_extension": ".rb",
   "mimetype": "application/x-ruby",
   "name": "ruby",
   "version": "2.3.1"
  }
 },
 "nbformat": 4,
 "nbformat_minor": 2
}
