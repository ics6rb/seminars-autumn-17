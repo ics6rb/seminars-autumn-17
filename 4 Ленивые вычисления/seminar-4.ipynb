{
 "cells": [
  {
   "cell_type": "markdown",
   "metadata": {},
   "source": [
    "# Ленивые вычисления"
   ]
  },
  {
   "cell_type": "markdown",
   "metadata": {},
   "source": [
    "Что такое, зачем нужны?"
   ]
  },
  {
   "cell_type": "markdown",
   "metadata": {},
   "source": [
    "![alt text](http://atkritka.com/upload/iblock/18e/atkritka_1341782872_334.jpg)"
   ]
  },
  {
   "cell_type": "markdown",
   "metadata": {
    "collapsed": true
   },
   "source": [
    "## Шаг 1: Осознание проблемы"
   ]
  },
  {
   "cell_type": "markdown",
   "metadata": {},
   "source": [
    "Допустим, есть два файла заданного формата. Нужно считать эти файла и записать их содержимое в третий, причем над каждой строкой из файла произвести какую-либо операцию (не важно, какую).\n",
    "\n",
    "Если попытаться сначала считать файлы, будет не очень хорошо. Особенно если файлы большие.\n",
    "\n",
    "Что делать?"
   ]
  },
  {
   "cell_type": "markdown",
   "metadata": {},
   "source": [
    "## Шаг 2: Анализ возможных решений"
   ]
  },
  {
   "cell_type": "markdown",
   "metadata": {},
   "source": [
    "1. открыть файл 1;\n",
    "2. открыть файл 2;\n",
    "3. ???\n",
    "4. PROFIT\n",
    "\n",
    "![alt text](https://lurkmore.so/images/2/2e/PROFIT.jpg)"
   ]
  },
  {
   "cell_type": "markdown",
   "metadata": {},
   "source": [
    "## Решение - делать лениво"
   ]
  },
  {
   "cell_type": "markdown",
   "metadata": {},
   "source": [
    "Концепция **мы ничего не делаем до тех пор, пока нам это действительно сильно не понадобится**.\n",
    "\n",
    "В нашем случае открываем файлы и читаем по строчке. Обрабатываем по строчке. В ОП не лежит больше одной строчки из файла.\n",
    "\n",
    "Это в и есть концепция ленивых вычислений."
   ]
  },
  {
   "cell_type": "markdown",
   "metadata": {},
   "source": [
    "## Пример на Ruby"
   ]
  },
  {
   "cell_type": "markdown",
   "metadata": {},
   "source": [
    "Пять первых чисел бесконечной последовательности"
   ]
  },
  {
   "cell_type": "code",
   "execution_count": 6,
   "metadata": {
    "collapsed": false
   },
   "outputs": [
    {
     "data": {
      "text/plain": [
       "[4, 16, 36, 64, 100]"
      ]
     },
     "execution_count": 6,
     "metadata": {},
     "output_type": "execute_result"
    }
   ],
   "source": [
    "(1..Float::INFINITY).lazy.reject{|i| i.odd?}.map{|i| i*i}.first(5)"
   ]
  },
  {
   "cell_type": "markdown",
   "metadata": {},
   "source": [
    "Более разумно: берем из последовательности пока выполняется условие. **Так нужно считать с произвольной точностью.**"
   ]
  },
  {
   "cell_type": "code",
   "execution_count": 11,
   "metadata": {
    "collapsed": false
   },
   "outputs": [
    {
     "name": "stdout",
     "output_type": "stream",
     "text": [
      "#<Enumerator::Lazy: #<Enumerator::Lazy: #<Enumerator::Lazy: #<Enumerator::Lazy: 1..Infinity>:reject>:map>:take_while>\n",
      "4\n",
      "16\n",
      "36\n",
      "64\n"
     ]
    }
   ],
   "source": [
    "range = (1..Float::INFINITY).lazy.reject{|i| i.odd?}.map{|i| i*i}.take_while{|i| i < 100}\n",
    "\n",
    "p range\n",
    "\n",
    "range.each do |i|\n",
    "  p i\n",
    "end"
   ]
  },
  {
   "cell_type": "markdown",
   "metadata": {},
   "source": [
    "Обратите внимание, что хотя мы и записали выражение в переменную range, оно не вычисляется до тех пор, пока мы не вызвали each. И даже тогда оно вычисляется не целиком!"
   ]
  },
  {
   "cell_type": "markdown",
   "metadata": {},
   "source": [
    "**Если убрать вызов метода lazy из примеров, то все будет вычисляться в том месте, где описано, то есть сразу**"
   ]
  },
  {
   "cell_type": "markdown",
   "metadata": {},
   "source": [
    "## Что такое Enumerator?"
   ]
  },
  {
   "cell_type": "markdown",
   "metadata": {},
   "source": [
    "Это класс, который позволяет итерироваться по коллекции. Вот тут Enumerator используется"
   ]
  },
  {
   "cell_type": "code",
   "execution_count": 10,
   "metadata": {
    "collapsed": false
   },
   "outputs": [
    {
     "name": "stdout",
     "output_type": "stream",
     "text": [
      "1\n",
      "2\n",
      "3\n"
     ]
    },
    {
     "data": {
      "text/plain": [
       "[1, 2, 3]"
      ]
     },
     "execution_count": 10,
     "metadata": {},
     "output_type": "execute_result"
    }
   ],
   "source": [
    "[1, 2, 3].each do |x|\n",
    "  p x\n",
    "end"
   ]
  },
  {
   "cell_type": "markdown",
   "metadata": {},
   "source": [
    "А вот так его можно получить"
   ]
  },
  {
   "cell_type": "code",
   "execution_count": 11,
   "metadata": {
    "collapsed": false
   },
   "outputs": [
    {
     "data": {
      "text/plain": [
       "Enumerator"
      ]
     },
     "execution_count": 11,
     "metadata": {},
     "output_type": "execute_result"
    }
   ],
   "source": [
    "enum = [1, 2, 3].each\n",
    "enum.class"
   ]
  },
  {
   "cell_type": "code",
   "execution_count": 12,
   "metadata": {
    "collapsed": false
   },
   "outputs": [
    {
     "name": "stdout",
     "output_type": "stream",
     "text": [
      "1\n"
     ]
    },
    {
     "data": {
      "text/plain": [
       "2"
      ]
     },
     "execution_count": 12,
     "metadata": {},
     "output_type": "execute_result"
    }
   ],
   "source": [
    "p enum.next\n",
    "enum.next"
   ]
  },
  {
   "cell_type": "code",
   "execution_count": 13,
   "metadata": {
    "collapsed": false
   },
   "outputs": [
    {
     "data": {
      "text/plain": [
       "3"
      ]
     },
     "execution_count": 13,
     "metadata": {},
     "output_type": "execute_result"
    }
   ],
   "source": [
    "enum.next"
   ]
  },
  {
   "cell_type": "markdown",
   "metadata": {},
   "source": [
    "А дальше?"
   ]
  },
  {
   "cell_type": "code",
   "execution_count": 14,
   "metadata": {
    "collapsed": false
   },
   "outputs": [
    {
     "ename": "StopIteration",
     "evalue": "iteration reached an end",
     "output_type": "error",
     "traceback": [
      "\u001b[31mStopIteration\u001b[0m: iteration reached an end",
      "\u001b[37m<main>:in `next'\u001b[0m",
      "\u001b[37m<main>:in `<main>'\u001b[0m",
      "\u001b[37m/var/lib/gems/2.3.0/gems/iruby-0.3/lib/iruby/backend.rb:44:in `eval'\u001b[0m",
      "\u001b[37m/var/lib/gems/2.3.0/gems/iruby-0.3/lib/iruby/backend.rb:44:in `eval'\u001b[0m",
      "\u001b[37m/var/lib/gems/2.3.0/gems/iruby-0.3/lib/iruby/backend.rb:12:in `eval'\u001b[0m",
      "\u001b[37m/var/lib/gems/2.3.0/gems/iruby-0.3/lib/iruby/kernel.rb:87:in `execute_request'\u001b[0m",
      "\u001b[37m/var/lib/gems/2.3.0/gems/iruby-0.3/lib/iruby/kernel.rb:47:in `dispatch'\u001b[0m",
      "\u001b[37m/var/lib/gems/2.3.0/gems/iruby-0.3/lib/iruby/kernel.rb:37:in `run'\u001b[0m",
      "\u001b[37m/var/lib/gems/2.3.0/gems/iruby-0.3/lib/iruby/command.rb:70:in `run_kernel'\u001b[0m",
      "\u001b[37m/var/lib/gems/2.3.0/gems/iruby-0.3/lib/iruby/command.rb:34:in `run'\u001b[0m",
      "\u001b[37m/var/lib/gems/2.3.0/gems/iruby-0.3/bin/iruby:5:in `<top (required)>'\u001b[0m",
      "\u001b[37m/usr/local/bin/iruby:23:in `load'\u001b[0m",
      "\u001b[37m/usr/local/bin/iruby:23:in `<main>'\u001b[0m"
     ]
    }
   ],
   "source": [
    "enum.next"
   ]
  },
  {
   "cell_type": "markdown",
   "metadata": {},
   "source": [
    "Enumerator - это отдельный класс, есть еще примесь Enumerable. Enumerator и Enumerable делают по сути одну и ту же работу."
   ]
  },
  {
   "cell_type": "markdown",
   "metadata": {},
   "source": [
    "## По умолчанию Enumerator не ленивый"
   ]
  },
  {
   "cell_type": "markdown",
   "metadata": {},
   "source": [
    "Чтобы это исправить, есть метод lazy. Он говорит интерпретатору о том, что нужно отложить выполнение кода."
   ]
  },
  {
   "cell_type": "markdown",
   "metadata": {},
   "source": [
    "## Примеры, где это может пригодиться"
   ]
  },
  {
   "cell_type": "markdown",
   "metadata": {},
   "source": [
    "### 1"
   ]
  },
  {
   "cell_type": "markdown",
   "metadata": {},
   "source": [
    "Вычислить сумму ряда $$S = 1 + \\sum_{k=1}^\\infty 1/{k!}$$\n",
    "\n",
    "Точное значение - e = 2.718281828..."
   ]
  },
  {
   "cell_type": "code",
   "execution_count": 9,
   "metadata": {
    "collapsed": false
   },
   "outputs": [
    {
     "data": {
      "text/plain": [
       "[1, 2.0, 2.5, 2.6666666666666665, 2.708333333333333, 2.7166666666666663, 2.7180555555555554]"
      ]
     },
     "execution_count": 9,
     "metadata": {},
     "output_type": "execute_result"
    }
   ],
   "source": [
    "enum_solve = Enumerator.new do |yielder|\n",
    "  sum, k_factorial, k = 1, 1, 1\n",
    "  \n",
    "  loop do\n",
    "    yielder.yield sum\n",
    "    \n",
    "    k_factorial *= k\n",
    "    k += 1\n",
    "    \n",
    "    sum += 1 / k_factorial.to_f\n",
    "  end\n",
    "end\n",
    "\n",
    "enum_solve.take_while { |sum| (Math::E - sum).abs > 10e-5 }"
   ]
  },
  {
   "cell_type": "markdown",
   "metadata": {},
   "source": [
    "### 2"
   ]
  },
  {
   "cell_type": "markdown",
   "metadata": {},
   "source": [
    "Сравнить два файла: F и G. Вывести true, если файлы совпадают, и 0 в противном случае."
   ]
  },
  {
   "cell_type": "code",
   "execution_count": 51,
   "metadata": {
    "collapsed": false
   },
   "outputs": [
    {
     "name": "stdout",
     "output_type": "stream",
     "text": [
      "false\n",
      "true\n"
     ]
    },
    {
     "data": {
      "text/plain": [
       "true"
      ]
     },
     "execution_count": 51,
     "metadata": {},
     "output_type": "execute_result"
    }
   ],
   "source": [
    "def equal?(file1, file2)\n",
    "  result = true\n",
    "  \n",
    "  File.open file1, 'r' do |f|\n",
    "    File.open file2, 'r' do |g|\n",
    "      f.zip(g).lazy.each do |line_f, line_g|\n",
    "        unless line_f == line_g\n",
    "          result = false\n",
    "          break\n",
    "        end\n",
    "      end\n",
    "    end\n",
    "  end\n",
    "  \n",
    "  result\n",
    "end\n",
    "\n",
    "p equal? '2_1', '2_2'\n",
    "equal? '2_2', '2_2_equal'"
   ]
  },
  {
   "cell_type": "markdown",
   "metadata": {},
   "source": [
    "### 3"
   ]
  },
  {
   "cell_type": "markdown",
   "metadata": {},
   "source": [
    "Сформировать программным путем файл F, компоненты которого являются целыми числами. Получить файл G, образованный из файла F исключением повторных вхождений одного и того же числа."
   ]
  },
  {
   "cell_type": "markdown",
   "metadata": {},
   "source": [
    "Создаем файл F"
   ]
  },
  {
   "cell_type": "code",
   "execution_count": 48,
   "metadata": {
    "collapsed": false
   },
   "outputs": [
    {
     "data": {
      "text/plain": [
       "1488"
      ]
     },
     "execution_count": 48,
     "metadata": {},
     "output_type": "execute_result"
    }
   ],
   "source": [
    "File.open 'F', 'w' do |f|\n",
    "  1488.times do\n",
    "    f.write (rand() * 1000).to_i.to_s + \"\\n\"\n",
    "  end\n",
    "end"
   ]
  },
  {
   "cell_type": "markdown",
   "metadata": {},
   "source": [
    "Создаем файл G"
   ]
  },
  {
   "cell_type": "code",
   "execution_count": 55,
   "metadata": {
    "collapsed": false
   },
   "outputs": [
    {
     "data": {
      "text/plain": [
       "#<File:F (closed)>"
      ]
     },
     "execution_count": 55,
     "metadata": {},
     "output_type": "execute_result"
    }
   ],
   "source": [
    "line_set = Set.new\n",
    "\n",
    "File.open 'G', 'w' do |g|\n",
    "  File.open 'F', 'r' do |f|\n",
    "    f.each_line.lazy.each do |line|\n",
    "      if line_set.add? line\n",
    "        g.write line\n",
    "      end\n",
    "    end\n",
    "  end\n",
    "end"
   ]
  },
  {
   "cell_type": "markdown",
   "metadata": {},
   "source": [
    "### 4"
   ]
  },
  {
   "cell_type": "markdown",
   "metadata": {},
   "source": [
    "Решить задачу, организовав цикл. Вычислить определенный интеграл $$\\int_{\\pi/4}^{\\pi/3} tg^2(x)dx$$ методом трапеций:\n",
    "Отрезок интегрирования разбить на n = 20, 30, 40 частей. Точное значение: $$\\sqrt{3} - \\pi/12 - 1$$"
   ]
  },
  {
   "cell_type": "code",
   "execution_count": 1,
   "metadata": {
    "collapsed": false
   },
   "outputs": [
    {
     "data": {
      "text/plain": [
       "0.47025141976972784"
      ]
     },
     "execution_count": 1,
     "metadata": {},
     "output_type": "execute_result"
    }
   ],
   "source": [
    "CORRECT = Math.sqrt(3) - Math::PI / 12.0 - 1"
   ]
  },
  {
   "cell_type": "code",
   "execution_count": 2,
   "metadata": {
    "collapsed": false
   },
   "outputs": [
    {
     "data": {
      "text/plain": [
       ":cyclic_solve"
      ]
     },
     "execution_count": 2,
     "metadata": {},
     "output_type": "execute_result"
    }
   ],
   "source": [
    "def cyclic_solve lower_bound, upper_bound, n_parts\n",
    "  step = (upper_bound - lower_bound).abs.to_f / n_parts.to_f\n",
    "  \n",
    "  prev, cur = lower_bound, lower_bound + step\n",
    "  \n",
    "  area = 0\n",
    "  \n",
    "  n_parts.times do\n",
    "    area += step * (Math.tan(cur)**2 + Math.tan(prev)**2) / 2.0\n",
    "    prev = cur\n",
    "    cur += step\n",
    "  end\n",
    "  \n",
    "  area\n",
    "end"
   ]
  },
  {
   "cell_type": "code",
   "execution_count": 3,
   "metadata": {
    "collapsed": false
   },
   "outputs": [
    {
     "data": {
      "text/plain": [
       "0.47081403105654274"
      ]
     },
     "execution_count": 3,
     "metadata": {},
     "output_type": "execute_result"
    }
   ],
   "source": [
    "cyclic_solve(Math::PI / 4.0, Math::PI / 3.0, 10)"
   ]
  },
  {
   "cell_type": "markdown",
   "metadata": {},
   "source": [
    "То же самое с помощью Enumerator:"
   ]
  },
  {
   "cell_type": "code",
   "execution_count": null,
   "metadata": {
    "collapsed": true
   },
   "outputs": [],
   "source": [
    "def enum_solve(n_steps, lower_bound, upper_bound)\n",
    "  step = (upper_bound - lower_bound).abs.to_f / n_steps.to_f\n",
    "  prev, cur = lower_bound, lower_bound + step\n",
    "  area = 0\n",
    "  \n",
    "  Enumerator::Lazy.new 1..n_steps do |yielder|\n",
    "    area += step * (Math.tan(cur)**2 + Math.tan(prev)**2) / 2.0\n",
    "    prev = cur\n",
    "    cur += step\n",
    "    \n",
    "    yielder.yield area\n",
    "  end\n",
    "end\n",
    "\n",
    "enum_solve(10, Math::PI / 4.0, Math::PI / 3.0).each do |x|\n",
    "  p x\n",
    "end"
   ]
  },
  {
   "cell_type": "markdown",
   "metadata": {},
   "source": [
    "## То же самое, но написанное программистом на Perl"
   ]
  },
  {
   "cell_type": "code",
   "execution_count": 31,
   "metadata": {
    "collapsed": false
   },
   "outputs": [
    {
     "data": {
      "text/plain": [
       "0.47081403105654274"
      ]
     },
     "execution_count": 31,
     "metadata": {},
     "output_type": "execute_result"
    }
   ],
   "source": [
    "def enum_solve(n_steps, lower_bound, upper_bound)\n",
    "  step = (upper_bound - lower_bound).abs.to_f / n_steps.to_f\n",
    "  prev, cur = lower_bound, lower_bound + step\n",
    "  area = 0\n",
    "  \n",
    "  Enumerator::Lazy.new 1..n_steps do |yielder|\n",
    "    area += step * (Math.tan(cur)**2 + Math.tan(prev)**2) / 2.0\n",
    "    prev = cur\n",
    "    cur += step\n",
    "    \n",
    "    yielder << area\n",
    "  end.each {|x| area = x}\n",
    "  \n",
    "  area\n",
    "end\n",
    "\n",
    "enum_solve(10, Math::PI / 4.0, Math::PI / 3.0)"
   ]
  },
  {
   "cell_type": "markdown",
   "metadata": {},
   "source": [
    "![](sticker.png)"
   ]
  },
  {
   "cell_type": "code",
   "execution_count": null,
   "metadata": {
    "collapsed": true
   },
   "outputs": [],
   "source": []
  }
 ],
 "metadata": {
  "kernelspec": {
   "display_name": "Ruby 2.3.1",
   "language": "ruby",
   "name": "ruby"
  },
  "language_info": {
   "file_extension": ".rb",
   "mimetype": "application/x-ruby",
   "name": "ruby",
   "version": "2.3.1"
  }
 },
 "nbformat": 4,
 "nbformat_minor": 2
}
