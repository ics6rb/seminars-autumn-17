{
 "cells": [
  {
   "cell_type": "markdown",
   "metadata": {},
   "source": [
    "# Ленивые вычисления"
   ]
  },
  {
   "cell_type": "markdown",
   "metadata": {},
   "source": [
    "Что такое, зачем нужны?"
   ]
  },
  {
   "cell_type": "markdown",
   "metadata": {},
   "source": [
    "![alt text](http://atkritka.com/upload/iblock/18e/atkritka_1341782872_334.jpg)"
   ]
  },
  {
   "cell_type": "markdown",
   "metadata": {
    "collapsed": true
   },
   "source": [
    "## Шаг 1: Осознание проблемы"
   ]
  },
  {
   "cell_type": "markdown",
   "metadata": {},
   "source": [
    "Допустим, есть два файла заданного формата. Нужно считать эти файлы и записать их содержимое в третий, причем над каждой строкой из файла произвести какую-либо операцию (например, найти все фамилии людей в строке и преобразовать их к общепринятому виду `Фамилия`).\n",
    "\n",
    "Если попытаться сначала считать файлы, будет не очень хорошо. Не очень хорошо будет потому, что файлы запишутся в оперативную память и ее попросту сожрут. Особенно если файлы большие.\n",
    "\n",
    "Что делать?"
   ]
  },
  {
   "cell_type": "markdown",
   "metadata": {},
   "source": [
    "## Шаг 2: Анализ возможных решений"
   ]
  },
  {
   "cell_type": "markdown",
   "metadata": {},
   "source": [
    "Алгоритм действий\n",
    "\n",
    "1. открыть файл 1;\n",
    "2. открыть файл 2;\n",
    "3. ???\n",
    "4. PROFIT\n",
    "\n",
    "![alt text](https://lurkmore.so/images/2/2e/PROFIT.jpg)"
   ]
  },
  {
   "cell_type": "markdown",
   "metadata": {},
   "source": [
    "## Решение - делать лениво"
   ]
  },
  {
   "cell_type": "markdown",
   "metadata": {},
   "source": [
    "Концепция **мы ничего не делаем до тех пор, пока нам это действительно сильно не понадобится**.\n",
    "\n",
    "В нашем случае открываем файлы и читаем по строчке. Обрабатываем по строчке. В ОП не лежит больше одной строчки из файла.\n",
    "\n",
    "Это и есть концепция ленивых вычислений."
   ]
  },
  {
   "cell_type": "markdown",
   "metadata": {},
   "source": [
    "## Пример на Ruby"
   ]
  },
  {
   "cell_type": "markdown",
   "metadata": {},
   "source": [
    "### Пять первых чисел бесконечной последовательности"
   ]
  },
  {
   "cell_type": "code",
   "execution_count": 1,
   "metadata": {
    "collapsed": false
   },
   "outputs": [
    {
     "data": {
      "text/plain": [
       "[1, 2, 3, 4, 5]"
      ]
     },
     "execution_count": 1,
     "metadata": {},
     "output_type": "execute_result"
    }
   ],
   "source": [
    "(1..Float::INFINITY).lazy.first(5)"
   ]
  },
  {
   "cell_type": "markdown",
   "metadata": {},
   "source": [
    "Есть бесконечная последовательность. То есть она не закончится **никогда**. Ruby гарантирует. И при этом по ней можно итерироваться! Но что же произойдет в таком случае? Программа просто зациклится. \n",
    "\n",
    "Но что если вдруг нам нужна только какая-то часть этой последовательности? Например, первые 5, 10, 25 или n чисел? Ruby предоставляет возможность сделать это лениво:\n",
    "\n",
    "1. мы говорим интерпретатору \"чувак, тут бесконечная последовательность, но ты ее пока не вычисляй, просто прими к сведению\";\n",
    "2. интерпретатор отвечает \"ок, я создаю специальный объект, который уже на низком старте для бесконечного цикла, но пока ничего не делает\";\n",
    "\n",
    "Мы получаем такой объект"
   ]
  },
  {
   "cell_type": "code",
   "execution_count": 3,
   "metadata": {
    "collapsed": false
   },
   "outputs": [
    {
     "data": {
      "text/plain": [
       "#<Enumerator::Lazy: 1..Infinity>"
      ]
     },
     "execution_count": 3,
     "metadata": {},
     "output_type": "execute_result"
    }
   ],
   "source": [
    "(1..Float::INFINITY).lazy"
   ]
  },
  {
   "cell_type": "markdown",
   "metadata": {},
   "source": [
    "Мы можем записать его в переменную и хранить там до тех пор, пока он нам не понадобится.\n",
    "\n",
    "А потом мы можем с помощью этого `Enumerator::Lazy` или взять те самые первые n чисел."
   ]
  },
  {
   "cell_type": "markdown",
   "metadata": {},
   "source": [
    "Для чего это собственно нужно? Ведь можно просто сделать цикл.\n",
    "\n",
    "Это действительно так. На самом деле помимо того, чтобы взять первые n чисел, в Ruby можно лениво идти по последовательности до тех пор, пока выполняется нужное нам условие. То есть можно считать с заданной точностью любые выражения. И делать это довольно удобно."
   ]
  },
  {
   "cell_type": "markdown",
   "metadata": {},
   "source": [
    "## Что такое Enumerator?"
   ]
  },
  {
   "cell_type": "markdown",
   "metadata": {},
   "source": [
    "Это класс, который позволяет итерироваться по коллекции. Вот тут Enumerator используется"
   ]
  },
  {
   "cell_type": "code",
   "execution_count": 10,
   "metadata": {
    "collapsed": false
   },
   "outputs": [
    {
     "name": "stdout",
     "output_type": "stream",
     "text": [
      "1\n",
      "2\n",
      "3\n"
     ]
    },
    {
     "data": {
      "text/plain": [
       "[1, 2, 3]"
      ]
     },
     "execution_count": 10,
     "metadata": {},
     "output_type": "execute_result"
    }
   ],
   "source": [
    "[1, 2, 3].each do |x|\n",
    "  p x\n",
    "end"
   ]
  },
  {
   "cell_type": "markdown",
   "metadata": {},
   "source": [
    "А вот так его можно получить"
   ]
  },
  {
   "cell_type": "code",
   "execution_count": 11,
   "metadata": {
    "collapsed": false
   },
   "outputs": [
    {
     "data": {
      "text/plain": [
       "Enumerator"
      ]
     },
     "execution_count": 11,
     "metadata": {},
     "output_type": "execute_result"
    }
   ],
   "source": [
    "enum = [1, 2, 3].each\n",
    "enum.class"
   ]
  },
  {
   "cell_type": "code",
   "execution_count": 12,
   "metadata": {
    "collapsed": false
   },
   "outputs": [
    {
     "name": "stdout",
     "output_type": "stream",
     "text": [
      "1\n"
     ]
    },
    {
     "data": {
      "text/plain": [
       "2"
      ]
     },
     "execution_count": 12,
     "metadata": {},
     "output_type": "execute_result"
    }
   ],
   "source": [
    "p enum.next\n",
    "enum.next"
   ]
  },
  {
   "cell_type": "code",
   "execution_count": 13,
   "metadata": {
    "collapsed": false
   },
   "outputs": [
    {
     "data": {
      "text/plain": [
       "3"
      ]
     },
     "execution_count": 13,
     "metadata": {},
     "output_type": "execute_result"
    }
   ],
   "source": [
    "enum.next"
   ]
  },
  {
   "cell_type": "markdown",
   "metadata": {},
   "source": [
    "А дальше?"
   ]
  },
  {
   "cell_type": "code",
   "execution_count": 14,
   "metadata": {
    "collapsed": false
   },
   "outputs": [
    {
     "ename": "StopIteration",
     "evalue": "iteration reached an end",
     "output_type": "error",
     "traceback": [
      "\u001b[31mStopIteration\u001b[0m: iteration reached an end",
      "\u001b[37m<main>:in `next'\u001b[0m",
      "\u001b[37m<main>:in `<main>'\u001b[0m",
      "\u001b[37m/var/lib/gems/2.3.0/gems/iruby-0.3/lib/iruby/backend.rb:44:in `eval'\u001b[0m",
      "\u001b[37m/var/lib/gems/2.3.0/gems/iruby-0.3/lib/iruby/backend.rb:44:in `eval'\u001b[0m",
      "\u001b[37m/var/lib/gems/2.3.0/gems/iruby-0.3/lib/iruby/backend.rb:12:in `eval'\u001b[0m",
      "\u001b[37m/var/lib/gems/2.3.0/gems/iruby-0.3/lib/iruby/kernel.rb:87:in `execute_request'\u001b[0m",
      "\u001b[37m/var/lib/gems/2.3.0/gems/iruby-0.3/lib/iruby/kernel.rb:47:in `dispatch'\u001b[0m",
      "\u001b[37m/var/lib/gems/2.3.0/gems/iruby-0.3/lib/iruby/kernel.rb:37:in `run'\u001b[0m",
      "\u001b[37m/var/lib/gems/2.3.0/gems/iruby-0.3/lib/iruby/command.rb:70:in `run_kernel'\u001b[0m",
      "\u001b[37m/var/lib/gems/2.3.0/gems/iruby-0.3/lib/iruby/command.rb:34:in `run'\u001b[0m",
      "\u001b[37m/var/lib/gems/2.3.0/gems/iruby-0.3/bin/iruby:5:in `<top (required)>'\u001b[0m",
      "\u001b[37m/usr/local/bin/iruby:23:in `load'\u001b[0m",
      "\u001b[37m/usr/local/bin/iruby:23:in `<main>'\u001b[0m"
     ]
    }
   ],
   "source": [
    "enum.next"
   ]
  },
  {
   "cell_type": "markdown",
   "metadata": {},
   "source": [
    "Enumerator - это отдельный класс, есть еще примесь Enumerable. Enumerator и Enumerable делают по сути одну и ту же работу."
   ]
  },
  {
   "cell_type": "markdown",
   "metadata": {},
   "source": [
    "## Как создать свой Enumerator?"
   ]
  },
  {
   "cell_type": "markdown",
   "metadata": {},
   "source": [
    "Конструктор класса `Enumerator` принимает блок кода, который должен выполняться внутри него. Это может быть как конечный, так и бесконечный цикл."
   ]
  },
  {
   "cell_type": "markdown",
   "metadata": {},
   "source": [
    "**Пример конечного цикла** - накопим сумму всех чисел на отрезке [1, 10].\n",
    "\n",
    "Для этого передадим в Enumerator блок кода, в котором содержится специальная переменная, накапливающая сумму, и цикл, в котором эта сумма обновляется.\n",
    "\n",
    "Далее мы возвращаем значение из Enumerator. Однако `return` в данном случае писать нельзя, так как Enumerator не может возвращать значения как функция."
   ]
  },
  {
   "cell_type": "code",
   "execution_count": 16,
   "metadata": {
    "collapsed": false
   },
   "outputs": [
    {
     "data": {
      "text/plain": [
       "#<Enumerator: #<Enumerator::Generator:0x000000029759f8>:each>"
      ]
     },
     "execution_count": 16,
     "metadata": {},
     "output_type": "execute_result"
    }
   ],
   "source": [
    "ex_enum = Enumerator.new do |yielder|\n",
    "  sum = 0\n",
    "  \n",
    "  (1..10).each do |x|\n",
    "    sum += x\n",
    "  end\n",
    "  \n",
    "  sum\n",
    "end\n",
    "\n",
    "ex_enum"
   ]
  },
  {
   "cell_type": "markdown",
   "metadata": {},
   "source": [
    "Мы получили объект, который умеет итерироваться по последовательности (пока выполняется внутренний цикл). Более того, этот объект умеет накапливать промежуточные результаты.\n",
    "\n",
    "Однако чтобы получить конечный результат, нам придется 10 раз вызвать функцию next. Можно скоратить себе работу и вызвать метод each с пустым телом. Он просто будет выполняться, пока выполняется внутренний цикл, поэтому в итоге мы получим ожидаемую сумму - 55."
   ]
  },
  {
   "cell_type": "code",
   "execution_count": 23,
   "metadata": {
    "collapsed": false
   },
   "outputs": [
    {
     "name": "stdout",
     "output_type": "stream",
     "text": [
      "1\n",
      "2\n",
      "3\n",
      "4\n",
      "5\n",
      "6\n",
      "7\n",
      "8\n",
      "9\n",
      "10\n"
     ]
    },
    {
     "data": {
      "text/plain": [
       "1..10"
      ]
     },
     "execution_count": 23,
     "metadata": {},
     "output_type": "execute_result"
    }
   ],
   "source": [
    "ex_enum.each {}"
   ]
  },
  {
   "cell_type": "markdown",
   "metadata": {},
   "source": [
    "**Enumerator на основе бесконечного цикла** должен быть ленивым.\n",
    "\n",
    "Попробуем накопить сумму квадратов натуральных чисел до произвольного числа с помощью ленивого Enumerator."
   ]
  },
  {
   "cell_type": "code",
   "execution_count": 28,
   "metadata": {
    "collapsed": false
   },
   "outputs": [
    {
     "ename": "Interrupt",
     "evalue": "",
     "output_type": "error",
     "traceback": [
      "\u001b[31mInterrupt\u001b[0m: ",
      "\u001b[37m<main>:4:in `block (2 levels) in <main>'\u001b[0m",
      "\u001b[37m<main>:3:in `each'\u001b[0m",
      "\u001b[37m<main>:3:in `block in <main>'\u001b[0m",
      "\u001b[37m<main>:10:in `each'\u001b[0m",
      "\u001b[37m<main>:10:in `each'\u001b[0m",
      "\u001b[37m<main>:10:in `each'\u001b[0m",
      "\u001b[37m<main>:10:in `first'\u001b[0m",
      "\u001b[37m<main>:10:in `<main>'\u001b[0m",
      "\u001b[37m/var/lib/gems/2.3.0/gems/iruby-0.3/lib/iruby/backend.rb:44:in `eval'\u001b[0m",
      "\u001b[37m/var/lib/gems/2.3.0/gems/iruby-0.3/lib/iruby/backend.rb:44:in `eval'\u001b[0m",
      "\u001b[37m/var/lib/gems/2.3.0/gems/iruby-0.3/lib/iruby/backend.rb:12:in `eval'\u001b[0m",
      "\u001b[37m/var/lib/gems/2.3.0/gems/iruby-0.3/lib/iruby/kernel.rb:87:in `execute_request'\u001b[0m",
      "\u001b[37m/var/lib/gems/2.3.0/gems/iruby-0.3/lib/iruby/kernel.rb:47:in `dispatch'\u001b[0m",
      "\u001b[37m/var/lib/gems/2.3.0/gems/iruby-0.3/lib/iruby/kernel.rb:37:in `run'\u001b[0m",
      "\u001b[37m/var/lib/gems/2.3.0/gems/iruby-0.3/lib/iruby/command.rb:70:in `run_kernel'\u001b[0m",
      "\u001b[37m/var/lib/gems/2.3.0/gems/iruby-0.3/lib/iruby/command.rb:34:in `run'\u001b[0m",
      "\u001b[37m/var/lib/gems/2.3.0/gems/iruby-0.3/bin/iruby:5:in `<top (required)>'\u001b[0m",
      "\u001b[37m/usr/local/bin/iruby:23:in `load'\u001b[0m",
      "\u001b[37m/usr/local/bin/iruby:23:in `<main>'\u001b[0m"
     ]
    }
   ],
   "source": [
    "factorial = Enumerator.new do |yielder|\n",
    "  power = 0\n",
    "  \n",
    "  (1..Float::INFINITY).each do |number|\n",
    "    power += number**2\n",
    "  end\n",
    "  \n",
    "  power\n",
    "end\n",
    "\n",
    "factorial.lazy.first 2"
   ]
  },
  {
   "cell_type": "markdown",
   "metadata": {},
   "source": [
    "Этот код будет выполняться бесконечно. Причина такого поведения заключается в том, что вызывающей Enumerator программе нужно иметь обратную связь с телом цикла. В противном случае она не будет знать, когда остановить его выполнение.\n",
    "\n",
    "Грубо говоря это выглядит как возвращение какого-то промежуточного значения с каждой итерации цикла. Но суть в том, что **цикл не прекращает свое выполнение**. Он просто информирует внешнюю программу о своем состоянии."
   ]
  },
  {
   "cell_type": "markdown",
   "metadata": {},
   "source": [
    "В Ruby нет способа вернуть значение из цикла, не прервав его выполнение, какой-либо стандартной языковой конструкцией. Для этого используется специальный класс - `Enumerator::Yielder`.\n",
    "\n",
    "Экземпляр этого класса передается в блок кода при создании Enumerator всегда и неявно, то есть без участия программиста. Возврат значения выглядит следующим образом:"
   ]
  },
  {
   "cell_type": "code",
   "execution_count": 30,
   "metadata": {
    "collapsed": false
   },
   "outputs": [
    {
     "data": {
      "text/plain": [
       "[1, 2, 3, 4, 5, 6, 7, 8, 9, 10]"
      ]
     },
     "execution_count": 30,
     "metadata": {},
     "output_type": "execute_result"
    }
   ],
   "source": [
    "yield_ex = Enumerator.new do |yielder|\n",
    "  (1..Float::INFINITY).each do |x|\n",
    "    yielder.yield x\n",
    "  end\n",
    "end\n",
    "\n",
    "yield_ex.lazy.first 10"
   ]
  },
  {
   "cell_type": "markdown",
   "metadata": {},
   "source": [
    "То есть если добавить в пример, который выполнялся бесконечно, yield, все будет работать как ожидается."
   ]
  },
  {
   "cell_type": "code",
   "execution_count": 33,
   "metadata": {
    "collapsed": false
   },
   "outputs": [
    {
     "data": {
      "text/plain": [
       "[[1, 0], [2, 1], [3, 5], [4, 14], [5, 30]]"
      ]
     },
     "execution_count": 33,
     "metadata": {},
     "output_type": "execute_result"
    }
   ],
   "source": [
    "factorial = Enumerator.new do |yielder|\n",
    "  power = 0\n",
    "  \n",
    "  (1..Float::INFINITY).each do |number|\n",
    "    yielder.yield number, power\n",
    "    power += number**2\n",
    "  end\n",
    "end\n",
    "\n",
    "factorial.lazy.first 5"
   ]
  },
  {
   "cell_type": "markdown",
   "metadata": {},
   "source": [
    "## Важное замечание - по умолчанию Enumerator не ленивый"
   ]
  },
  {
   "cell_type": "markdown",
   "metadata": {},
   "source": [
    "Если вы создаете Enumerator, то он выполняться не начнет. Но как только вы напишете `each`, `map`, да и вообще любой метод, который проходится по последовательности до ее конца, Enumerator начнет свое выполнение. И если эта последовательность бесконечная, то он зациклится. Чтобы это исправить, используйте метод lazy. Он говорит интерпретатору о том, что нужно отложить выполнение кода и создать специальный экземпляр класса Enumerator, который называется Enumerator::Lazy и который мы уже видели выше."
   ]
  },
  {
   "cell_type": "markdown",
   "metadata": {},
   "source": [
    "## Примеры, где это может пригодиться"
   ]
  },
  {
   "cell_type": "markdown",
   "metadata": {},
   "source": [
    "### 1"
   ]
  },
  {
   "cell_type": "markdown",
   "metadata": {},
   "source": [
    "Вычислить сумму ряда $$S = 1 + \\sum_{k=1}^\\infty 1/{k!}$$ с заданной точностью.\n",
    "\n",
    "Точное значение - e = 2.718281828...\n",
    "\n",
    "Так как сумма бесконечная, нам придется использовать бесконечный цикл в Enumerator. "
   ]
  },
  {
   "cell_type": "code",
   "execution_count": 9,
   "metadata": {
    "collapsed": false
   },
   "outputs": [
    {
     "data": {
      "text/plain": [
       "[1, 2.0, 2.5, 2.6666666666666665, 2.708333333333333, 2.7166666666666663, 2.7180555555555554]"
      ]
     },
     "execution_count": 9,
     "metadata": {},
     "output_type": "execute_result"
    }
   ],
   "source": [
    "enum_solve = Enumerator.new do |yielder|\n",
    "  sum, k_factorial, k = 1, 1, 1\n",
    "  \n",
    "  loop do\n",
    "    yielder.yield sum\n",
    "    \n",
    "    k_factorial *= k\n",
    "    k += 1\n",
    "    \n",
    "    sum += 1 / k_factorial.to_f\n",
    "  end\n",
    "end\n",
    "\n",
    "enum_solve.take_while { |sum| (Math::E - sum).abs > 10e-5 }"
   ]
  },
  {
   "cell_type": "markdown",
   "metadata": {},
   "source": [
    "### 2"
   ]
  },
  {
   "cell_type": "markdown",
   "metadata": {},
   "source": [
    "Сравнить два файла: F и G. Вывести true, если файлы совпадают, и 0 в противном случае."
   ]
  },
  {
   "cell_type": "code",
   "execution_count": 51,
   "metadata": {
    "collapsed": false
   },
   "outputs": [
    {
     "name": "stdout",
     "output_type": "stream",
     "text": [
      "false\n",
      "true\n"
     ]
    },
    {
     "data": {
      "text/plain": [
       "true"
      ]
     },
     "execution_count": 51,
     "metadata": {},
     "output_type": "execute_result"
    }
   ],
   "source": [
    "def equal?(file1, file2)\n",
    "  result = true\n",
    "  \n",
    "  File.open file1, 'r' do |f|\n",
    "    File.open file2, 'r' do |g|\n",
    "      f.zip(g).lazy.each do |line_f, line_g|\n",
    "        unless line_f == line_g\n",
    "          result = false\n",
    "          break\n",
    "        end\n",
    "      end\n",
    "    end\n",
    "  end\n",
    "  \n",
    "  result\n",
    "end\n",
    "\n",
    "p equal? '2_1', '2_2'\n",
    "equal? '2_2', '2_2_equal'"
   ]
  },
  {
   "cell_type": "markdown",
   "metadata": {},
   "source": [
    "### 3"
   ]
  },
  {
   "cell_type": "markdown",
   "metadata": {},
   "source": [
    "Сформировать программным путем файл F, компоненты которого являются целыми числами. Получить файл G, образованный из файла F исключением повторных вхождений одного и того же числа."
   ]
  },
  {
   "cell_type": "markdown",
   "metadata": {},
   "source": [
    "Создаем файл F"
   ]
  },
  {
   "cell_type": "code",
   "execution_count": 48,
   "metadata": {
    "collapsed": false
   },
   "outputs": [
    {
     "data": {
      "text/plain": [
       "1488"
      ]
     },
     "execution_count": 48,
     "metadata": {},
     "output_type": "execute_result"
    }
   ],
   "source": [
    "File.open 'F', 'w' do |f|\n",
    "  1488.times do\n",
    "    f.write (rand() * 1000).to_i.to_s + \"\\n\"\n",
    "  end\n",
    "end"
   ]
  },
  {
   "cell_type": "markdown",
   "metadata": {},
   "source": [
    "Создаем файл G"
   ]
  },
  {
   "cell_type": "code",
   "execution_count": 55,
   "metadata": {
    "collapsed": false
   },
   "outputs": [
    {
     "data": {
      "text/plain": [
       "#<File:F (closed)>"
      ]
     },
     "execution_count": 55,
     "metadata": {},
     "output_type": "execute_result"
    }
   ],
   "source": [
    "line_set = Set.new\n",
    "\n",
    "File.open 'G', 'w' do |g|\n",
    "  File.open 'F', 'r' do |f|\n",
    "    f.each_line.lazy.each do |line|\n",
    "      if line_set.add? line\n",
    "        g.write line\n",
    "      end\n",
    "    end\n",
    "  end\n",
    "end"
   ]
  },
  {
   "cell_type": "markdown",
   "metadata": {},
   "source": [
    "### 4"
   ]
  },
  {
   "cell_type": "markdown",
   "metadata": {},
   "source": [
    "Решить задачу, организовав цикл. Вычислить определенный интеграл $$\\int_{\\pi/4}^{\\pi/3} tg^2(x)dx$$ методом трапеций:\n",
    "Отрезок интегрирования разбить на n = 20, 30, 40 частей. Точное значение: $$\\sqrt{3} - \\pi/12 - 1$$"
   ]
  },
  {
   "cell_type": "code",
   "execution_count": 1,
   "metadata": {
    "collapsed": false
   },
   "outputs": [
    {
     "data": {
      "text/plain": [
       "0.47025141976972784"
      ]
     },
     "execution_count": 1,
     "metadata": {},
     "output_type": "execute_result"
    }
   ],
   "source": [
    "CORRECT = Math.sqrt(3) - Math::PI / 12.0 - 1"
   ]
  },
  {
   "cell_type": "code",
   "execution_count": 2,
   "metadata": {
    "collapsed": false
   },
   "outputs": [
    {
     "data": {
      "text/plain": [
       ":cyclic_solve"
      ]
     },
     "execution_count": 2,
     "metadata": {},
     "output_type": "execute_result"
    }
   ],
   "source": [
    "def cyclic_solve lower_bound, upper_bound, n_parts\n",
    "  step = (upper_bound - lower_bound).abs.to_f / n_parts.to_f\n",
    "  \n",
    "  prev, cur = lower_bound, lower_bound + step\n",
    "  \n",
    "  area = 0\n",
    "  \n",
    "  n_parts.times do\n",
    "    area += step * (Math.tan(cur)**2 + Math.tan(prev)**2) / 2.0Ы\n",
    "    prev = cur\n",
    "    cur += step\n",
    "  end\n",
    "  \n",
    "  area\n",
    "end"
   ]
  },
  {
   "cell_type": "code",
   "execution_count": 3,
   "metadata": {
    "collapsed": false
   },
   "outputs": [
    {
     "data": {
      "text/plain": [
       "0.47081403105654274"
      ]
     },
     "execution_count": 3,
     "metadata": {},
     "output_type": "execute_result"
    }
   ],
   "source": [
    "cyclic_solve(Math::PI / 4.0, Math::PI / 3.0, 10)"
   ]
  },
  {
   "cell_type": "markdown",
   "metadata": {},
   "source": [
    "То же самое с помощью Enumerator:"
   ]
  },
  {
   "cell_type": "code",
   "execution_count": null,
   "metadata": {
    "collapsed": true
   },
   "outputs": [],
   "source": [
    "def enum_solve(n_steps, lower_bound, upper_bound)\n",
    "  step = (upper_bound - lower_bound).abs.to_f / n_steps.to_f\n",
    "  prev, cur = lower_bound, lower_bound + step\n",
    "  area = 0\n",
    "  \n",
    "  Enumerator::Lazy.new 1..n_steps do |yielder|\n",
    "    area += step * (Math.tan(cur)**2 + Math.tan(prev)**2) / 2.0\n",
    "    prev = cur\n",
    "    cur += step\n",
    "    \n",
    "    yielder.yield area\n",
    "  end\n",
    "end\n",
    "\n",
    "enum_solve(10, Math::PI / 4.0, Math::PI / 3.0).each do |x|\n",
    "  p x\n",
    "end"
   ]
  },
  {
   "cell_type": "markdown",
   "metadata": {},
   "source": [
    "Тут есть замыкание.\n",
    "\n",
    "Замыкание - это ситуация, когда происходит обращение к объекту внешнего контекста из внутреннего. На иллюстрации это выглядит так:\n",
    "\n",
    "\n",
    "\n",
    "А в примере это значит вот что. У нас есть функция `enum_solve`, которая возвращает Enumerator. В этой функции объявлены переменные `step`, `prev`, `area`. Эти переменные находятся в контексте функции `enum_solve`, то есть принадлежат этой функции. С другой стороны у нас есть экземпляр класса Enumerator, который пользуется этими переменными. Он их обновляет, использует предыдущие значения, то есть работает с ними так, как будто они находятся в его контексте.\n",
    "\n",
    "Но фокус в том, что они принадлежат функции `enum_solve` и никакого отношения к Enumerator не имеют. Можно сказать, что это работает потому, что Enumerator тоже находится в контексте этой функции. И это было бы правильно, если бы функция не **возвращала** Enumerator. То есть по логике вещей сразу после того, как конструктор отработает, Enumerator выйдет за пределы нужного нам контекста. Но тем не менее этот код работает. Что же происходит?\n",
    "\n",
    "Вот тут происходит то самое замыкание. Интерпретатор понимает, что мы хотим работать с переменными, которые нам не принадлежат, и специальным образом создает их копии, которые связаны с нашим конкретным объектом."
   ]
  },
  {
   "cell_type": "markdown",
   "metadata": {},
   "source": [
    "## То же самое, но написанное программистом на Perl"
   ]
  },
  {
   "cell_type": "code",
   "execution_count": 31,
   "metadata": {
    "collapsed": false
   },
   "outputs": [
    {
     "data": {
      "text/plain": [
       "0.47081403105654274"
      ]
     },
     "execution_count": 31,
     "metadata": {},
     "output_type": "execute_result"
    }
   ],
   "source": [
    "def enum_solve(n_steps, lower_bound, upper_bound)\n",
    "  step = (upper_bound - lower_bound).abs.to_f / n_steps.to_f\n",
    "  prev, cur = lower_bound, lower_bound + step\n",
    "  area = 0\n",
    "  \n",
    "  Enumerator::Lazy.new 1..n_steps do |yielder|\n",
    "    area += step * (Math.tan(cur)**2 + Math.tan(prev)**2) / 2.0\n",
    "    prev = cur\n",
    "    cur += step\n",
    "    \n",
    "    yielder << area\n",
    "  end.each {|x| area = x}\n",
    "  \n",
    "  area\n",
    "end\n",
    "\n",
    "enum_solve(10, Math::PI / 4.0, Math::PI / 3.0)"
   ]
  },
  {
   "cell_type": "markdown",
   "metadata": {},
   "source": [
    "![](sticker.png)"
   ]
  }
 ],
 "metadata": {
  "kernelspec": {
   "display_name": "Ruby 2.3.1",
   "language": "ruby",
   "name": "ruby"
  },
  "language_info": {
   "file_extension": ".rb",
   "mimetype": "application/x-ruby",
   "name": "ruby",
   "version": "2.3.1"
  }
 },
 "nbformat": 4,
 "nbformat_minor": 2
}
