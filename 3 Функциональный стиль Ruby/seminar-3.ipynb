{
 "cells": [
  {
   "cell_type": "markdown",
   "metadata": {},
   "source": [
    "# 3 Функциональный стиль программирования на Ruby"
   ]
  },
  {
   "cell_type": "markdown",
   "metadata": {},
   "source": [
    "## Немного о Ruby"
   ]
  },
  {
   "cell_type": "markdown",
   "metadata": {},
   "source": [
    "![alt text](https://udemy-images.udemy.com/course/750x422/10681_968c_6.jpg)"
   ]
  },
  {
   "cell_type": "markdown",
   "metadata": {},
   "source": [
    "### Интерпретируемый язык программирования"
   ]
  },
  {
   "cell_type": "markdown",
   "metadata": {},
   "source": [
    "Все работает \"на лету\". Есть специальная программа - интерпретатор, которая получает строчки из файла с программой. Интерпретатор сначала преобразует высокоуровневый код на Ruby в [байт-код](https://ru.wikipedia.org/wiki/%D0%91%D0%B0%D0%B9%D1%82-%D0%BA%D0%BE%D0%B4), грубо говоря в последовательность понятных ему, независимых от аппаратной платформы инструкций. Эти инструкции - кроссплатформенный ассемблер, предназначенный для выполнения виртуальной машиной. В качестве виртуальной машины выступает тот же самый интерпретатор. В зависимости от конкретной архитектуры вычислительной системы интерпретатор преобразует байт-код в низкоуровневые ассемблерные инструкции процессора - [машинный код](https://ru.wikipedia.org/wiki/%D0%9C%D0%B0%D1%88%D0%B8%D0%BD%D0%BD%D1%8B%D0%B9_%D0%BA%D0%BE%D0%B4).\n",
    "\n",
    "Это работает **медленнее**, чем компиляция.\n",
    "\n",
    "К тому же, так как никто не проверяет **все**, что вы написали, перед запуском, программа упадет в первой точке, где произошла ошибка. То есть вы узнаете о первой произошедшей ошибке, а об остальных, если они есть, только после того, как исправите первую."
   ]
  },
  {
   "cell_type": "markdown",
   "metadata": {},
   "source": [
    "Например здесь 2 ошибки - использование неинициализированной переменной `c` и вызов несуществующей функции. Если мы попросим интерпретатор выполнить этот скрипт, то увидим информацию только о первой ошибке:"
   ]
  },
  {
   "cell_type": "code",
   "execution_count": 1,
   "metadata": {
    "collapsed": false
   },
   "outputs": [
    {
     "ename": "NameError",
     "evalue": "undefined local variable or method `c' for main:Object",
     "output_type": "error",
     "traceback": [
      "\u001b[31mNameError\u001b[0m: undefined local variable or method `c' for main:Object",
      "\u001b[37m<main>:3:in `<main>'\u001b[0m",
      "\u001b[37m/var/lib/gems/2.3.0/gems/iruby-0.3/lib/iruby/backend.rb:44:in `eval'\u001b[0m",
      "\u001b[37m/var/lib/gems/2.3.0/gems/iruby-0.3/lib/iruby/backend.rb:44:in `eval'\u001b[0m",
      "\u001b[37m/var/lib/gems/2.3.0/gems/iruby-0.3/lib/iruby/backend.rb:12:in `eval'\u001b[0m",
      "\u001b[37m/var/lib/gems/2.3.0/gems/iruby-0.3/lib/iruby/kernel.rb:87:in `execute_request'\u001b[0m",
      "\u001b[37m/var/lib/gems/2.3.0/gems/iruby-0.3/lib/iruby/kernel.rb:47:in `dispatch'\u001b[0m",
      "\u001b[37m/var/lib/gems/2.3.0/gems/iruby-0.3/lib/iruby/kernel.rb:37:in `run'\u001b[0m",
      "\u001b[37m/var/lib/gems/2.3.0/gems/iruby-0.3/lib/iruby/command.rb:70:in `run_kernel'\u001b[0m",
      "\u001b[37m/var/lib/gems/2.3.0/gems/iruby-0.3/lib/iruby/command.rb:34:in `run'\u001b[0m",
      "\u001b[37m/var/lib/gems/2.3.0/gems/iruby-0.3/bin/iruby:5:in `<top (required)>'\u001b[0m",
      "\u001b[37m/usr/local/bin/iruby:23:in `load'\u001b[0m",
      "\u001b[37m/usr/local/bin/iruby:23:in `<main>'\u001b[0m"
     ]
    }
   ],
   "source": [
    "a = 10\n",
    "b = 20\n",
    "\n",
    "a += c\n",
    "\n",
    "a = b + a / 4.0\n",
    "\n",
    "not_existing_function(a)"
   ]
  },
  {
   "cell_type": "markdown",
   "metadata": {},
   "source": [
    "Теперь мы ее исправим и получим информацию о второй:"
   ]
  },
  {
   "cell_type": "code",
   "execution_count": 3,
   "metadata": {
    "collapsed": false
   },
   "outputs": [
    {
     "ename": "NoMethodError",
     "evalue": "undefined method `not_existing_function' for main:Object",
     "output_type": "error",
     "traceback": [
      "\u001b[31mNoMethodError\u001b[0m: undefined method `not_existing_function' for main:Object",
      "\u001b[37m<main>:8:in `<main>'\u001b[0m",
      "\u001b[37m/var/lib/gems/2.3.0/gems/iruby-0.3/lib/iruby/backend.rb:44:in `eval'\u001b[0m",
      "\u001b[37m/var/lib/gems/2.3.0/gems/iruby-0.3/lib/iruby/backend.rb:44:in `eval'\u001b[0m",
      "\u001b[37m/var/lib/gems/2.3.0/gems/iruby-0.3/lib/iruby/backend.rb:12:in `eval'\u001b[0m",
      "\u001b[37m/var/lib/gems/2.3.0/gems/iruby-0.3/lib/iruby/kernel.rb:87:in `execute_request'\u001b[0m",
      "\u001b[37m/var/lib/gems/2.3.0/gems/iruby-0.3/lib/iruby/kernel.rb:47:in `dispatch'\u001b[0m",
      "\u001b[37m/var/lib/gems/2.3.0/gems/iruby-0.3/lib/iruby/kernel.rb:37:in `run'\u001b[0m",
      "\u001b[37m/var/lib/gems/2.3.0/gems/iruby-0.3/lib/iruby/command.rb:70:in `run_kernel'\u001b[0m",
      "\u001b[37m/var/lib/gems/2.3.0/gems/iruby-0.3/lib/iruby/command.rb:34:in `run'\u001b[0m",
      "\u001b[37m/var/lib/gems/2.3.0/gems/iruby-0.3/bin/iruby:5:in `<top (required)>'\u001b[0m",
      "\u001b[37m/usr/local/bin/iruby:23:in `load'\u001b[0m",
      "\u001b[37m/usr/local/bin/iruby:23:in `<main>'\u001b[0m"
     ]
    }
   ],
   "source": [
    "a = 10\n",
    "b = 20\n",
    "c = 0\n",
    "\n",
    "a += c\n",
    "\n",
    "a = b + a / 4.0\n",
    "\n",
    "not_existing_function(a)"
   ]
  },
  {
   "cell_type": "markdown",
   "metadata": {},
   "source": [
    "Это приводит к тому, что отлаживать большие программы на интерпретируемых языках может быть тяжелее, чем на компилируемых. Но на самом деле все очень сильно зависит от подбора средств разработки и отладки. \n",
    "\n",
    "При этом есть большой плюс: быстро спрототипировать что-то на Ruby гораздо легче и быстрее, чем на С++/Java/Delphi."
   ]
  },
  {
   "cell_type": "markdown",
   "metadata": {},
   "source": [
    "**Программа исполняется сверху вниз, если только явно не указано обратное (о том, как это сделать, мы поговорим чуть позже).**"
   ]
  },
  {
   "cell_type": "markdown",
   "metadata": {},
   "source": [
    "### Динамический язык программирования"
   ]
  },
  {
   "cell_type": "markdown",
   "metadata": {},
   "source": [
    "Переменная может принимать значение любого типа (**тут аккуратнее с терминологией**)"
   ]
  },
  {
   "cell_type": "code",
   "execution_count": 9,
   "metadata": {
    "collapsed": false
   },
   "outputs": [
    {
     "name": "stdout",
     "output_type": "stream",
     "text": [
      "Fixnum\n"
     ]
    },
    {
     "data": {
      "text/plain": [
       "String"
      ]
     },
     "execution_count": 9,
     "metadata": {},
     "output_type": "execute_result"
    }
   ],
   "source": [
    "a = 10\n",
    "# Печатает класс переменной\n",
    "puts(a.class())\n",
    "\n",
    "a = 'string'\n",
    "a.class()"
   ]
  },
  {
   "cell_type": "markdown",
   "metadata": {},
   "source": [
    "Сначала число, потом строка, все это в одной переменной и никакого противоречия нет, хотя в любом нормальном языке со статической типизацией вам бы это с рук не сошло."
   ]
  },
  {
   "cell_type": "markdown",
   "metadata": {},
   "source": [
    "Удобно? Да. Опасно? Еще бы! Можно выстрелить себе в ногу, когда будете писать функции, ведь можно не учесть того, что вам на вход функции сложения двух целых чисел может прийти например одно число с плавающей точкой и одна строка и все сломается."
   ]
  },
  {
   "cell_type": "markdown",
   "metadata": {},
   "source": [
    "Но не все так плохо: во-первых, есть средства для того, чтобы не пораниться при программировании. К тому же вы увидите, почему динамические языки программирования - это очень крутая и гибкая штука."
   ]
  },
  {
   "cell_type": "markdown",
   "metadata": {},
   "source": [
    "### Объектно-ориентированный язык программирования"
   ]
  },
  {
   "cell_type": "markdown",
   "metadata": {},
   "source": [
    "Все есть объект, до абсурда. Даже численный литерал, который вроде бы не должен иметь никакого отношения к ООП, совершенно спокойно отдаст вам свой класс. Более того, с этим литералом вы сможете делать кучу прикольных штук:"
   ]
  },
  {
   "cell_type": "code",
   "execution_count": 10,
   "metadata": {
    "collapsed": false
   },
   "outputs": [
    {
     "name": "stdout",
     "output_type": "stream",
     "text": [
      "Fixnum\n",
      "10\n",
      "Я в цикле!\n",
      "Я в цикле!\n",
      "Я в цикле!\n"
     ]
    },
    {
     "data": {
      "text/plain": [
       "3"
      ]
     },
     "execution_count": 10,
     "metadata": {},
     "output_type": "execute_result"
    }
   ],
   "source": [
    "# Печатаем класс числа 10 (!!!)\n",
    "puts(10.class())\n",
    "\n",
    "# Можно преобразовать в строку\n",
    "puts(10.to_s())\n",
    "\n",
    "# А можно вообще сделать своеобразный цикл\n",
    "3.times do\n",
    "  puts('Я в цикле!')\n",
    "end"
   ]
  },
  {
   "cell_type": "markdown",
   "metadata": {},
   "source": [
    "**Более того, даже класс - это объект!**"
   ]
  },
  {
   "cell_type": "code",
   "execution_count": 12,
   "metadata": {
    "collapsed": false
   },
   "outputs": [
    {
     "name": "stdout",
     "output_type": "stream",
     "text": [
      "Class\n",
      "Class\n",
      "Array\n"
     ]
    }
   ],
   "source": [
    "# Array - это встроенный класс массива. Можно посмотреть, что это объект класса Class\n",
    "puts(Array.class())\n",
    "\n",
    "# Более того, этот КЛАСС можно присвоить переменной и передать в качестве аргумента в функцию!\n",
    "cls = Array\n",
    "puts(cls.class())\n",
    "puts(cls)"
   ]
  },
  {
   "cell_type": "markdown",
   "metadata": {},
   "source": [
    "## Последствия"
   ]
  },
  {
   "cell_type": "markdown",
   "metadata": {},
   "source": [
    "### Переменная - это не переменная "
   ]
  },
  {
   "cell_type": "markdown",
   "metadata": {},
   "source": [
    "В С++ переменная имеет **жестко заданный тип** и определяет **конкретную область памяти**. Идентификатор переменной и понятие \"переменная\" в данном случае отождествляются.\n",
    "\n",
    "В Ruby переменные создает интерпретатор, он же их удаляет при необходимости. Идентификатор переменной можно воспринимать как **указатель** на реальную переменную. В первую очередь благодаря этому переменная может быть любого типа, то есть ей можно переприсваивать значения. К тому же все типы данных наследуются от базового класса Object, благодаря чему у них есть куча общих методов.\n",
    "\n",
    "Интерпретатор создает переменную при первом упоминании ее в коде, определяет ее тип по присваемому значению и связыает созданную переменную с идентификатором, который фигурирует в левой части выражения. Интерпретатор освободит эту переменную, когда в программе не останется ни одного идентификатора, который бы указывал на нее."
   ]
  },
  {
   "cell_type": "code",
   "execution_count": 14,
   "metadata": {
    "collapsed": false
   },
   "outputs": [
    {
     "name": "stdout",
     "output_type": "stream",
     "text": [
      "11\n",
      "10\n"
     ]
    }
   ],
   "source": [
    "a = 10\n",
    "b = 10\n",
    "\n",
    "a += 1\n",
    "\n",
    "puts(a, b)"
   ]
  },
  {
   "cell_type": "markdown",
   "metadata": {},
   "source": [
    "Тут вроде все логично, как и ожидалось."
   ]
  },
  {
   "cell_type": "code",
   "execution_count": 15,
   "metadata": {
    "collapsed": false
   },
   "outputs": [
    {
     "name": "stdout",
     "output_type": "stream",
     "text": [
      "11\n",
      "10\n"
     ]
    }
   ],
   "source": [
    "a = 10\n",
    "b = a\n",
    "\n",
    "a += 1\n",
    "\n",
    "puts(a, b)"
   ]
  },
  {
   "cell_type": "markdown",
   "metadata": {},
   "source": [
    "Тут интерпретатор тоже оказался умнее нас, все учел."
   ]
  },
  {
   "cell_type": "code",
   "execution_count": 18,
   "metadata": {
    "collapsed": false
   },
   "outputs": [
    {
     "name": "stdout",
     "output_type": "stream",
     "text": [
      "[1, 2, 3, 4]\n",
      "[1, 2, 3]\n"
     ]
    }
   ],
   "source": [
    "a = [1, 2, 3]\n",
    "b = a\n",
    "\n",
    "a += [4]\n",
    "\n",
    "puts(a, b)"
   ]
  },
  {
   "cell_type": "markdown",
   "metadata": {},
   "source": [
    "И тут все логично. НО"
   ]
  },
  {
   "cell_type": "code",
   "execution_count": 1,
   "metadata": {
    "collapsed": false
   },
   "outputs": [
    {
     "name": "stdout",
     "output_type": "stream",
     "text": [
      "[1, 2, 3, 4]\n"
     ]
    }
   ],
   "source": [
    "a = [1, 2, 3]\n",
    "b = a\n",
    "\n",
    "a << 4\n",
    "\n",
    "puts(b)"
   ]
  },
  {
   "cell_type": "markdown",
   "metadata": {},
   "source": [
    "Коллизия! Такого быть не должно. Так почему же где-то все работает согласно логике, а где-то нет? Некоторые методы создают **новые** объекты, например, += создает новый список, а некоторые работают с текущим, например << (это вставка значения). Иными словами, когда мы пишем `a += b`, то а начинает ссылаться на **новый** объект. А в последнем примере нового объекта не создается.\n",
    "\n",
    "**Если программа творит дичь, проверьте ее на наличие таких коллизий!**"
   ]
  },
  {
   "cell_type": "markdown",
   "metadata": {},
   "source": [
    "## Немного синтаксиса"
   ]
  },
  {
   "cell_type": "markdown",
   "metadata": {},
   "source": [
    "### Ruby - один сплошной синтаксический сахар"
   ]
  },
  {
   "cell_type": "markdown",
   "metadata": {},
   "source": [
    "Куча синонимов для одного и того же действия, некоторые приятные особенности синтаксиса и все это ради читаемости кода!"
   ]
  },
  {
   "cell_type": "markdown",
   "metadata": {},
   "source": [
    "### Скобки при вызове методов и функций необязательны"
   ]
  },
  {
   "cell_type": "code",
   "execution_count": 23,
   "metadata": {
    "collapsed": false
   },
   "outputs": [
    {
     "name": "stdout",
     "output_type": "stream",
     "text": [
      "228\n",
      "228\n"
     ]
    }
   ],
   "source": [
    "# Найдите 228 отличий\n",
    "puts('228')\n",
    "puts '228'"
   ]
  },
  {
   "cell_type": "markdown",
   "metadata": {},
   "source": [
    "По методам вывода:\n",
    "\n",
    "p - отладочная печать (неявно вызывает метод inspect)\n",
    "\n",
    "puts - печатает красиво\n",
    "\n",
    "print - печатает без переноса на следующую строку"
   ]
  },
  {
   "cell_type": "markdown",
   "metadata": {},
   "source": [
    "### Неизменяемые строки - символы"
   ]
  },
  {
   "cell_type": "code",
   "execution_count": 27,
   "metadata": {
    "collapsed": false
   },
   "outputs": [
    {
     "name": "stdout",
     "output_type": "stream",
     "text": [
      "String\n",
      "\"sTring\"\n",
      "Symbol\n"
     ]
    },
    {
     "ename": "NoMethodError",
     "evalue": "undefined method `[]=' for :symbol:Symbol\nDid you mean?  []",
     "output_type": "error",
     "traceback": [
      "\u001b[31mNoMethodError\u001b[0m: undefined method `[]=' for :symbol:Symbol\nDid you mean?  []",
      "\u001b[37m<main>:14:in `<main>'\u001b[0m",
      "\u001b[37m/var/lib/gems/2.3.0/gems/iruby-0.3/lib/iruby/backend.rb:44:in `eval'\u001b[0m",
      "\u001b[37m/var/lib/gems/2.3.0/gems/iruby-0.3/lib/iruby/backend.rb:44:in `eval'\u001b[0m",
      "\u001b[37m/var/lib/gems/2.3.0/gems/iruby-0.3/lib/iruby/backend.rb:12:in `eval'\u001b[0m",
      "\u001b[37m/var/lib/gems/2.3.0/gems/iruby-0.3/lib/iruby/kernel.rb:87:in `execute_request'\u001b[0m",
      "\u001b[37m/var/lib/gems/2.3.0/gems/iruby-0.3/lib/iruby/kernel.rb:47:in `dispatch'\u001b[0m",
      "\u001b[37m/var/lib/gems/2.3.0/gems/iruby-0.3/lib/iruby/kernel.rb:37:in `run'\u001b[0m",
      "\u001b[37m/var/lib/gems/2.3.0/gems/iruby-0.3/lib/iruby/command.rb:70:in `run_kernel'\u001b[0m",
      "\u001b[37m/var/lib/gems/2.3.0/gems/iruby-0.3/lib/iruby/command.rb:34:in `run'\u001b[0m",
      "\u001b[37m/var/lib/gems/2.3.0/gems/iruby-0.3/bin/iruby:5:in `<top (required)>'\u001b[0m",
      "\u001b[37m/usr/local/bin/iruby:23:in `load'\u001b[0m",
      "\u001b[37m/usr/local/bin/iruby:23:in `<main>'\u001b[0m"
     ]
    }
   ],
   "source": [
    "# Вот это просто строка\n",
    "str = 'string'\n",
    "p str.class\n",
    "\n",
    "# Мы можем сделать так\n",
    "str[1] = 'T'\n",
    "\n",
    "p str\n",
    "\n",
    "# Вот это неизменяемая строка\n",
    "smb = :symbol\n",
    "p smb.class\n",
    "\n",
    "# Так не прокатит\n",
    "smb[1] = 'Y'"
   ]
  },
  {
   "cell_type": "code",
   "execution_count": 30,
   "metadata": {
    "collapsed": false
   },
   "outputs": [
    {
     "name": "stdout",
     "output_type": "stream",
     "text": [
      "Symbol\n",
      "String\n"
     ]
    },
    {
     "data": {
      "text/plain": [
       "String"
      ]
     },
     "execution_count": 30,
     "metadata": {},
     "output_type": "execute_result"
    }
   ],
   "source": [
    "# Строку можно привести к символу (сделать неизменяемой) и наоборот\n",
    "p str.to_sym.class\n",
    "p smb.to_s.class"
   ]
  },
  {
   "cell_type": "markdown",
   "metadata": {},
   "source": [
    "### Не обязательно писать return"
   ]
  },
  {
   "cell_type": "markdown",
   "metadata": {},
   "source": [
    "Из функции вернется **результат последнего выражения**"
   ]
  },
  {
   "cell_type": "markdown",
   "metadata": {},
   "source": [
    "### Блоки кода"
   ]
  },
  {
   "cell_type": "markdown",
   "metadata": {},
   "source": [
    "print 'Функция после блока'В некоторой степени это то же самое, что блоки кода в С++. У блока есть начало и есть конец. Это обособленная часть кода со своим контекстом (то есть со своим набором локальных, видимых только в блоке, переменных и их значений + набором переменных из блоков \"выше\" по иерархии)."
   ]
  },
  {
   "cell_type": "code",
   "execution_count": 13,
   "metadata": {
    "collapsed": false
   },
   "outputs": [
    {
     "name": "stdout",
     "output_type": "stream",
     "text": [
      "Функция до блока\n",
      "Функция внутри блока\n",
      "Функция после блока\n"
     ]
    }
   ],
   "source": [
    "puts 'Функция до блока'\n",
    "\n",
    "begin\n",
    "  puts 'Функция внутри блока'\n",
    "end\n",
    "\n",
    "puts 'Функция после блока'"
   ]
  },
  {
   "cell_type": "markdown",
   "metadata": {},
   "source": [
    "**Блоки можно передавать в функции и методы**. Это и есть основная фишка Ruby."
   ]
  },
  {
   "cell_type": "markdown",
   "metadata": {},
   "source": [
    "Короткая форма - однострочная"
   ]
  },
  {
   "cell_type": "code",
   "execution_count": 14,
   "metadata": {
    "collapsed": false
   },
   "outputs": [
    {
     "data": {
      "text/plain": [
       "[3, 6, 9]"
      ]
     },
     "execution_count": 14,
     "metadata": {},
     "output_type": "execute_result"
    }
   ],
   "source": [
    "[1, 2, 3].map {|every_name_you_want| every_name_you_want * 3}"
   ]
  },
  {
   "cell_type": "markdown",
   "metadata": {},
   "source": [
    "Длинная форма - многострочная"
   ]
  },
  {
   "cell_type": "code",
   "execution_count": 15,
   "metadata": {
    "collapsed": false
   },
   "outputs": [
    {
     "data": {
      "text/plain": [
       "[5, 11, 17]"
      ]
     },
     "execution_count": 15,
     "metadata": {},
     "output_type": "execute_result"
    }
   ],
   "source": [
    "[1, 2, 3].map do |every_name_you_want|\n",
    "  every_name_you_want *= 3\n",
    "  every_name_you_want += every_name_you_want - 1\n",
    "end"
   ]
  },
  {
   "cell_type": "markdown",
   "metadata": {},
   "source": [
    "### Цепочки методов и многое-многое другое..."
   ]
  },
  {
   "cell_type": "markdown",
   "metadata": {},
   "source": [
    "![alt text](http://blog.smartbear.com/wp-content/uploads/2015/12/Ruby-Programming-Language-Video-Course-Free.png)"
   ]
  },
  {
   "cell_type": "markdown",
   "metadata": {},
   "source": [
    "## Примеры создания проекта"
   ]
  },
  {
   "cell_type": "markdown",
   "metadata": {},
   "source": [
    "Заглушка - ex1"
   ]
  },
  {
   "cell_type": "markdown",
   "metadata": {},
   "source": [
    "## Как нужно делать в лабораторных и почему"
   ]
  },
  {
   "cell_type": "markdown",
   "metadata": {},
   "source": [
    "Заглушка - ex2"
   ]
  },
  {
   "cell_type": "markdown",
   "metadata": {},
   "source": [
    "### Как улучшить функцию"
   ]
  },
  {
   "cell_type": "code",
   "execution_count": 5,
   "metadata": {
    "collapsed": false
   },
   "outputs": [
    {
     "name": "stdout",
     "output_type": "stream",
     "text": [
      "4\n",
      "7.290000000000001\n",
      "nil\n"
     ]
    }
   ],
   "source": [
    "def square(x)\n",
    "  x**2 if x.is_a? Numeric or nil\n",
    "end\n",
    "\n",
    "p square(2)\n",
    "p square(2.7)\n",
    "p square('fjfj')"
   ]
  },
  {
   "cell_type": "markdown",
   "metadata": {},
   "source": [
    "## Задачи"
   ]
  },
  {
   "cell_type": "markdown",
   "metadata": {},
   "source": [
    "Вычислить значение выражения $$a = {{y - x^2} \\over {x - {y} \\over {b + x^2}}}$$"
   ]
  },
  {
   "cell_type": "markdown",
   "metadata": {},
   "source": [
    "Допустим, переменные мы уже ввели и нам осталось только сконструировать выражение."
   ]
  },
  {
   "cell_type": "code",
   "execution_count": 6,
   "metadata": {
    "collapsed": false
   },
   "outputs": [
    {
     "data": {
      "text/plain": [
       "15"
      ]
     },
     "execution_count": 6,
     "metadata": {},
     "output_type": "execute_result"
    }
   ],
   "source": [
    "b = 11\n",
    "x = 5\n",
    "y = 10\n",
    "\n",
    "(y - x**2) / ((x - y) / (b + x**2))"
   ]
  },
  {
   "cell_type": "markdown",
   "metadata": {},
   "source": [
    "Неправильно же! Почему?"
   ]
  },
  {
   "cell_type": "code",
   "execution_count": 7,
   "metadata": {
    "collapsed": false
   },
   "outputs": [
    {
     "data": {
      "text/plain": [
       "3"
      ]
     },
     "execution_count": 7,
     "metadata": {},
     "output_type": "execute_result"
    }
   ],
   "source": [
    "10 / 3"
   ]
  },
  {
   "cell_type": "code",
   "execution_count": 7,
   "metadata": {
    "collapsed": false
   },
   "outputs": [
    {
     "data": {
      "text/plain": [
       "3.3333333333333335"
      ]
     },
     "execution_count": 7,
     "metadata": {},
     "output_type": "execute_result"
    }
   ],
   "source": [
    "10 / 3.0"
   ]
  },
  {
   "cell_type": "markdown",
   "metadata": {},
   "source": [
    "В этом и кроется причина"
   ]
  },
  {
   "cell_type": "code",
   "execution_count": 9,
   "metadata": {
    "collapsed": false
   },
   "outputs": [
    {
     "data": {
      "text/plain": [
       "108.0"
      ]
     },
     "execution_count": 9,
     "metadata": {},
     "output_type": "execute_result"
    }
   ],
   "source": [
    "b = 11.0\n",
    "x = 5.0\n",
    "y = 10.0\n",
    "\n",
    "(y - x**2) / ((x - y) / (b + x**2))"
   ]
  },
  {
   "cell_type": "markdown",
   "metadata": {},
   "source": [
    "Почти готово, попробуем перенести в функцию"
   ]
  },
  {
   "cell_type": "code",
   "execution_count": 11,
   "metadata": {
    "collapsed": false
   },
   "outputs": [
    {
     "data": {
      "text/plain": [
       ":calculate"
      ]
     },
     "execution_count": 11,
     "metadata": {},
     "output_type": "execute_result"
    }
   ],
   "source": [
    "def calculate(b, x, y)\n",
    "  (y - x**2) / ((x - y) / (b + x**2))\n",
    "end"
   ]
  },
  {
   "cell_type": "code",
   "execution_count": 12,
   "metadata": {
    "collapsed": false
   },
   "outputs": [
    {
     "data": {
      "text/plain": [
       "15"
      ]
     },
     "execution_count": 12,
     "metadata": {},
     "output_type": "execute_result"
    }
   ],
   "source": [
    "calculate 11, 5, 10"
   ]
  },
  {
   "cell_type": "markdown",
   "metadata": {},
   "source": [
    "Как быть с преобразованием во float в функции??? Например, так"
   ]
  },
  {
   "cell_type": "code",
   "execution_count": 13,
   "metadata": {
    "collapsed": false
   },
   "outputs": [
    {
     "data": {
      "text/plain": [
       ":calculate"
      ]
     },
     "execution_count": 13,
     "metadata": {},
     "output_type": "execute_result"
    }
   ],
   "source": [
    "def calculate(b, x, y)\n",
    "  b, x, y = b.to_f, x.to_f, y.to_f\n",
    "  (y - x**2) / ((x - y) / (b + x**2))\n",
    "end"
   ]
  },
  {
   "cell_type": "code",
   "execution_count": 14,
   "metadata": {
    "collapsed": false
   },
   "outputs": [
    {
     "data": {
      "text/plain": [
       "108.0"
      ]
     },
     "execution_count": 14,
     "metadata": {},
     "output_type": "execute_result"
    }
   ],
   "source": [
    "calculate 11, 5, 10"
   ]
  },
  {
   "cell_type": "markdown",
   "metadata": {},
   "source": [
    "Ок, что делать с примерами посложнее? Курить модуль [Math](http://ruby-doc.org/core-1.9.3/Math.html)\n",
    "\n",
    "Решим пример из лабы $$|tg{{x^2 \\cdot (x - 2)} \\over {e^x}}|$$"
   ]
  },
  {
   "cell_type": "code",
   "execution_count": 16,
   "metadata": {
    "collapsed": false
   },
   "outputs": [
    {
     "data": {
      "text/plain": [
       "0.0363359225845265"
      ]
     },
     "execution_count": 16,
     "metadata": {},
     "output_type": "execute_result"
    }
   ],
   "source": [
    "include Math\n",
    "\n",
    "x = 10.to_f\n",
    "\n",
    "Math.tan(x**2 * (x - 2) / Math.exp(x)).abs"
   ]
  },
  {
   "cell_type": "markdown",
   "metadata": {
    "collapsed": true
   },
   "source": [
    "## Функциональный стиль"
   ]
  },
  {
   "cell_type": "markdown",
   "metadata": {},
   "source": [
    "Что это? Некоторое подражание [функциоальному программированию](https://ru.wikipedia.org/wiki/%D0%A4%D1%83%D0%BD%D0%BA%D1%86%D0%B8%D0%BE%D0%BD%D0%B0%D0%BB%D1%8C%D0%BD%D0%BE%D0%B5_%D0%BF%D1%80%D0%BE%D0%B3%D1%80%D0%B0%D0%BC%D0%BC%D0%B8%D1%80%D0%BE%D0%B2%D0%B0%D0%BD%D0%B8%D0%B5). Но, конечно, больше, чем просто подражание.\n",
    "\n",
    "1) часто это удобно - кратко и емко;\n",
    "\n",
    "2) это хорошо читается (правда, нужно немного привыкнуть);\n",
    "\n",
    "3) это **идеоматично** - Ruby оптимизирован под такой стиль."
   ]
  },
  {
   "cell_type": "markdown",
   "metadata": {},
   "source": [
    "Сравните"
   ]
  },
  {
   "cell_type": "code",
   "execution_count": 22,
   "metadata": {
    "collapsed": false
   },
   "outputs": [
    {
     "name": "stdout",
     "output_type": "stream",
     "text": [
      "1\n",
      "2\n",
      "3\n"
     ]
    },
    {
     "data": {
      "text/plain": [
       "0...3"
      ]
     },
     "execution_count": 22,
     "metadata": {},
     "output_type": "execute_result"
    }
   ],
   "source": [
    "a = [1, 2, 3]\n",
    "\n",
    "for i in 0...a.length\n",
    "  puts a[i]\n",
    "end"
   ]
  },
  {
   "cell_type": "code",
   "execution_count": 21,
   "metadata": {
    "collapsed": false
   },
   "outputs": [
    {
     "name": "stdout",
     "output_type": "stream",
     "text": [
      "1\n",
      "2\n",
      "3\n"
     ]
    },
    {
     "data": {
      "text/plain": [
       "[1, 2, 3]"
      ]
     },
     "execution_count": 21,
     "metadata": {},
     "output_type": "execute_result"
    }
   ],
   "source": [
    "a = [1, 2, 3]\n",
    "\n",
    "a.each do |x|\n",
    "  puts x\n",
    "end"
   ]
  },
  {
   "cell_type": "code",
   "execution_count": 24,
   "metadata": {
    "collapsed": false
   },
   "outputs": [
    {
     "name": "stdout",
     "output_type": "stream",
     "text": [
      "1\n",
      "2\n",
      "3\n"
     ]
    },
    {
     "data": {
      "text/plain": [
       "[1, 2, 3]"
      ]
     },
     "execution_count": 24,
     "metadata": {},
     "output_type": "execute_result"
    }
   ],
   "source": [
    "# И даже более того\n",
    "\n",
    "[1, 2, 3].each do |x|\n",
    "  puts x\n",
    "end"
   ]
  },
  {
   "cell_type": "markdown",
   "metadata": {},
   "source": [
    "Можно даже сказать, что функциональный стиль быстрее императивного."
   ]
  },
  {
   "cell_type": "code",
   "execution_count": 33,
   "metadata": {
    "collapsed": false
   },
   "outputs": [
    {
     "data": {
      "text/plain": [
       "0.23686489785"
      ]
     },
     "execution_count": 33,
     "metadata": {},
     "output_type": "execute_result"
    }
   ],
   "source": [
    "n_elems = 1_000_000\n",
    "n_iterations = 20 \n",
    "\n",
    "a = Array.new(n_elems, 1)\n",
    "\n",
    "overall_time = 0\n",
    "\n",
    "n_iterations.times do\n",
    "  start = Time.now\n",
    "  for i in 0...a.length\n",
    "    a[i] = a[i]**2\n",
    "  end\n",
    "  overall_time += Time.now - start\n",
    "end\n",
    "\n",
    "overall_time.to_f / n_iterations.to_f"
   ]
  },
  {
   "cell_type": "code",
   "execution_count": 34,
   "metadata": {
    "collapsed": false
   },
   "outputs": [
    {
     "data": {
      "text/plain": [
       "0.08003850994999999"
      ]
     },
     "execution_count": 34,
     "metadata": {},
     "output_type": "execute_result"
    }
   ],
   "source": [
    "a = Array.new(n_elems, 1)\n",
    "\n",
    "overall_time = 0\n",
    "\n",
    "n_iterations.times do\n",
    "  start = Time.now\n",
    "  a.map {|x| x**2} # Функциональщина в этой строчке\n",
    "  overall_time += Time.now - start\n",
    "end\n",
    "\n",
    "overall_time.to_f / n_iterations.to_f"
   ]
  },
  {
   "cell_type": "markdown",
   "metadata": {},
   "source": [
    "### Что нужно, чтобы научиться прогать в рамках функционального стиля"
   ]
  },
  {
   "cell_type": "markdown",
   "metadata": {},
   "source": [
    "### Изучить методы классов - Array, String, Hash"
   ]
  },
  {
   "cell_type": "markdown",
   "metadata": {},
   "source": [
    "[Array](http://ruby-doc.org/core-2.4.2/Array.html)\n",
    "\n",
    "[String](http://ruby-doc.org/core-2.4.2/String.html)\n",
    "\n",
    "[Hash](http://ruby-doc.org/core-2.4.2/Hash.html)"
   ]
  },
  {
   "cell_type": "markdown",
   "metadata": {},
   "source": [
    "### Array - массив необязательно однородных элементов"
   ]
  },
  {
   "cell_type": "code",
   "execution_count": 36,
   "metadata": {
    "collapsed": false
   },
   "outputs": [
    {
     "data": {
      "text/plain": [
       "[1, 1, 1, 1, 1, 1, 1, 1, 1, 1]"
      ]
     },
     "execution_count": 36,
     "metadata": {},
     "output_type": "execute_result"
    }
   ],
   "source": [
    "a = Array.new(10, 1)"
   ]
  },
  {
   "cell_type": "markdown",
   "metadata": {},
   "source": [
    "Срез массива"
   ]
  },
  {
   "cell_type": "code",
   "execution_count": 32,
   "metadata": {
    "collapsed": false
   },
   "outputs": [
    {
     "data": {
      "text/plain": [
       "[2, 2]"
      ]
     },
     "execution_count": 32,
     "metadata": {},
     "output_type": "execute_result"
    }
   ],
   "source": [
    "a = [1, 1, 1, 2, 2, 1]\n",
    "a[3..4]"
   ]
  },
  {
   "cell_type": "code",
   "execution_count": 2,
   "metadata": {
    "collapsed": false
   },
   "outputs": [
    {
     "data": {
      "text/plain": [
       "[\"1\", 2, [2, 3]]"
      ]
     },
     "execution_count": 2,
     "metadata": {},
     "output_type": "execute_result"
    }
   ],
   "source": [
    "['1', 2, [2, 3]]"
   ]
  },
  {
   "cell_type": "markdown",
   "metadata": {},
   "source": [
    "### String - строка"
   ]
  },
  {
   "cell_type": "code",
   "execution_count": 34,
   "metadata": {
    "collapsed": false
   },
   "outputs": [
    {
     "data": {
      "text/plain": [
       "\"fl\""
      ]
     },
     "execution_count": 34,
     "metadata": {},
     "output_type": "execute_result"
    }
   ],
   "source": [
    "s = 'fl;m'\n",
    "s[0..1]"
   ]
  },
  {
   "cell_type": "markdown",
   "metadata": {},
   "source": [
    "### Hash - хэш-таблица, словарь, хэш-мап"
   ]
  },
  {
   "cell_type": "code",
   "execution_count": 36,
   "metadata": {
    "collapsed": false
   },
   "outputs": [
    {
     "data": {
      "text/plain": [
       "{:symbol1=>\"value1\", :symbol2=>\"value2\"}"
      ]
     },
     "execution_count": 36,
     "metadata": {},
     "output_type": "execute_result"
    }
   ],
   "source": [
    "h = {:symbol1 => 'value1', :symbol2 => 'value2'}\n",
    "# или\n",
    "h = {symbol1: 'value1', symbol2: 'value2'}"
   ]
  },
  {
   "cell_type": "markdown",
   "metadata": {},
   "source": [
    "Как раз тут нужны неизменяемые стоки, потому что если строка изменится, хэш изменится тоже."
   ]
  },
  {
   "cell_type": "code",
   "execution_count": 37,
   "metadata": {
    "collapsed": false
   },
   "outputs": [
    {
     "data": {
      "text/plain": [
       "{:fff=>\"fff\"}"
      ]
     },
     "execution_count": 37,
     "metadata": {},
     "output_type": "execute_result"
    }
   ],
   "source": [
    "h = {'fff': 'fff'} # будет неявное преобразование в symbol"
   ]
  },
  {
   "cell_type": "markdown",
   "metadata": {},
   "source": [
    "**Немного функциональщины**"
   ]
  },
  {
   "cell_type": "code",
   "execution_count": 8,
   "metadata": {
    "collapsed": false
   },
   "outputs": [
    {
     "name": "stdout",
     "output_type": "stream",
     "text": [
      "[1, 1, 1, 1, 1, 1, 1, 1, 1, 1]\n"
     ]
    },
    {
     "data": {
      "text/plain": [
       "[3, 3, 3, 3, 3, 3, 3, 3, 3, 3]"
      ]
     },
     "execution_count": 8,
     "metadata": {},
     "output_type": "execute_result"
    }
   ],
   "source": [
    "a = Array.new(10, 1)\n",
    "p a\n",
    "\n",
    "a.map! {|x| x * 3}\n",
    "a"
   ]
  },
  {
   "cell_type": "markdown",
   "metadata": {},
   "source": [
    "## Задачи"
   ]
  },
  {
   "cell_type": "markdown",
   "metadata": {},
   "source": [
    "### 1 Проверить, является ли строка палиндромом"
   ]
  },
  {
   "cell_type": "markdown",
   "metadata": {},
   "source": [
    "Строка палиндром тогда, когда ее чтение с начала и с конца дает одинаковый результат.\n",
    "\n",
    "Пример: А роза упала на лапу Азора.\n",
    "\n",
    "**Примечание** Регистр букв мы здесь учитывать не будем."
   ]
  },
  {
   "cell_type": "code",
   "execution_count": 4,
   "metadata": {
    "collapsed": false
   },
   "outputs": [],
   "source": [
    "def palindrome?(string)\n",
    "  # TODO\n",
    "end\n",
    "\n",
    "ex = 'А роза упала на лапу Азора'\n",
    "\n",
    "palindrome? ex"
   ]
  },
  {
   "cell_type": "markdown",
   "metadata": {},
   "source": [
    "У строки есть метод reverse, он возвращает развернутую в обратном порядке копию строки. Попробуем воспользоваться им."
   ]
  },
  {
   "cell_type": "code",
   "execution_count": 6,
   "metadata": {
    "collapsed": false
   },
   "outputs": [
    {
     "data": {
      "text/plain": [
       "false"
      ]
     },
     "execution_count": 6,
     "metadata": {},
     "output_type": "execute_result"
    }
   ],
   "source": [
    "ex == ex.reverse"
   ]
  },
  {
   "cell_type": "markdown",
   "metadata": {},
   "source": [
    "Почему нет?\n"
   ]
  },
  {
   "cell_type": "code",
   "execution_count": 7,
   "metadata": {
    "collapsed": false
   },
   "outputs": [
    {
     "data": {
      "text/plain": [
       "\"арозА упал ан алапу азор А\""
      ]
     },
     "execution_count": 7,
     "metadata": {},
     "output_type": "execute_result"
    }
   ],
   "source": [
    "ex.reverse"
   ]
  },
  {
   "cell_type": "markdown",
   "metadata": {},
   "source": [
    "**Мешается регистр символов + пробелы!**"
   ]
  },
  {
   "cell_type": "code",
   "execution_count": 8,
   "metadata": {
    "collapsed": false
   },
   "outputs": [
    {
     "name": "stdout",
     "output_type": "stream",
     "text": [
      "\"А роза упала на лапу Азора\"\n",
      "\"АрозаупаланалапуАзора\"\n"
     ]
    },
    {
     "data": {
      "text/plain": [
       "\"АрозаупаланалапуАзора\""
      ]
     },
     "execution_count": 8,
     "metadata": {},
     "output_type": "execute_result"
    }
   ],
   "source": [
    "p ex.downcase\n",
    "p ex.delete ' '\n",
    "\n",
    "ex.downcase.delete ' '"
   ]
  },
  {
   "cell_type": "markdown",
   "metadata": {},
   "source": [
    "Downcase не работает!"
   ]
  },
  {
   "cell_type": "markdown",
   "metadata": {
    "collapsed": true
   },
   "source": [
    "`gem install unicode_utils`"
   ]
  },
  {
   "cell_type": "code",
   "execution_count": 2,
   "metadata": {
    "collapsed": false
   },
   "outputs": [
    {
     "data": {
      "text/plain": [
       "\"ббб\""
      ]
     },
     "execution_count": 2,
     "metadata": {},
     "output_type": "execute_result"
    }
   ],
   "source": [
    "require 'unicode_utils'\n",
    "\n",
    "UnicodeUtils.downcase 'БББ'"
   ]
  },
  {
   "cell_type": "code",
   "execution_count": 39,
   "metadata": {
    "collapsed": false
   },
   "outputs": [
    {
     "data": {
      "text/plain": [
       "true"
      ]
     },
     "execution_count": 39,
     "metadata": {},
     "output_type": "execute_result"
    }
   ],
   "source": [
    "def palindrome?(ex)\n",
    "  UnicodeUtils.downcase(ex.delete! ' ') == UnicodeUtils.downcase(ex.reverse)\n",
    "end\n",
    "\n",
    "palindrome? 'А роза упала на лапу Азора'"
   ]
  },
  {
   "cell_type": "markdown",
   "metadata": {},
   "source": [
    "Обратите внимание на ! в левой части равенства. Методы, оканчивающиеся на ! изменяют объект, для которых вызываются. Таким образом, мы изменили строчку один раз, чтобы не писать удаление пробелов и в левой, и в правой частях равенства."
   ]
  },
  {
   "cell_type": "markdown",
   "metadata": {},
   "source": [
    "### 2 Посчитать сумму квадратов элементов массива"
   ]
  },
  {
   "cell_type": "code",
   "execution_count": 8,
   "metadata": {
    "collapsed": false
   },
   "outputs": [
    {
     "data": {
      "text/plain": [
       "140"
      ]
     },
     "execution_count": 8,
     "metadata": {},
     "output_type": "execute_result"
    }
   ],
   "source": [
    "a = [1, 3, 7, 9]\n",
    "\n",
    "a.inject(0) {|sum, x| sum += x**2}"
   ]
  },
  {
   "cell_type": "markdown",
   "metadata": {},
   "source": [
    "### 3.1 Пример со строками"
   ]
  },
  {
   "cell_type": "markdown",
   "metadata": {},
   "source": [
    "Дана последовательность строк. Каждая строка состоит из слов, разделенных пробелами. \n",
    "Написать программу, обеспечивающую ввод строк и их корректировку. Корректировка \n",
    "заключается в удалении лишних пробелов и слов, состоящих из одного \n",
    "символа. \n",
    "Лишними считаются пробелы в начале и конце строки, а также более одного пробела \n",
    "между словами. Вывести на печать исходную и скорректированную последовательности \n",
    "строк."
   ]
  },
  {
   "cell_type": "code",
   "execution_count": 9,
   "metadata": {
    "collapsed": false
   },
   "outputs": [
    {
     "data": {
      "text/plain": [
       "\"    sfk sfg   flg s        l    \""
      ]
     },
     "execution_count": 9,
     "metadata": {},
     "output_type": "execute_result"
    }
   ],
   "source": [
    "string = '    sfk sfg   flg s        l    '"
   ]
  },
  {
   "cell_type": "code",
   "execution_count": 10,
   "metadata": {
    "collapsed": false
   },
   "outputs": [
    {
     "data": {
      "text/plain": [
       "[\"sfk\", \"sfg\", \"flg\", \"s\", \"l\"]"
      ]
     },
     "execution_count": 10,
     "metadata": {},
     "output_type": "execute_result"
    }
   ],
   "source": [
    "string.split # пробел можно не писать, это аргумент по умолчанию."
   ]
  },
  {
   "cell_type": "code",
   "execution_count": 11,
   "metadata": {
    "collapsed": false
   },
   "outputs": [
    {
     "data": {
      "text/plain": [
       "\"sfk sfg flg\""
      ]
     },
     "execution_count": 11,
     "metadata": {},
     "output_type": "execute_result"
    }
   ],
   "source": [
    "string.split.reject {|x| x.length == 1}.join ' '"
   ]
  },
  {
   "cell_type": "markdown",
   "metadata": {},
   "source": [
    "### 3.2 Еще один пример со строками"
   ]
  },
  {
   "cell_type": "markdown",
   "metadata": {},
   "source": [
    "Дана последовательность строк. Каждая строка состоит из слов, разделенных пробелами. Написать программу, обеспечивающую ввод строк\n",
    "и их корректировку. Корректировка заключается в удалении или замене\n",
    "слов. Если слово стоит на четном месте и начинается на букву «е» — оно\n",
    "удаляется; если слово стоит на четном месте и начинается на букву «с»,\n",
    "оно замещается на слово, введенное с клавиатуры. Вывести на печать\n",
    "исходную и скорректированную последовательности строк."
   ]
  },
  {
   "cell_type": "code",
   "execution_count": 15,
   "metadata": {
    "collapsed": false
   },
   "outputs": [
    {
     "data": {
      "text/plain": [
       "\"fgm dfkm fdkbdmfb lfdb fff replaced\""
      ]
     },
     "execution_count": 15,
     "metadata": {},
     "output_type": "execute_result"
    }
   ],
   "source": [
    "word_to_replace = 'replaced'\n",
    "\n",
    "remove_letter = 'e'\n",
    "replace_letter = 'c'\n",
    "\n",
    "string = '  fgm    dfkm fdkbdmfb lfdb      eremove fff creplace '  \n",
    "\n",
    "word_array = string.split.map.with_index do |x, idx|\n",
    "  if idx.even? and x.start_with? remove_letter\n",
    "    nil\n",
    "  elsif idx.even? and x.start_with? replace_letter\n",
    "    word_to_replace\n",
    "  else\n",
    "    x\n",
    "  end\n",
    "end\n",
    "\n",
    "# compact удаляет nil\n",
    "word_array.compact.join ' '"
   ]
  },
  {
   "cell_type": "markdown",
   "metadata": {
    "collapsed": true
   },
   "source": [
    "### Немного о массивах"
   ]
  },
  {
   "cell_type": "markdown",
   "metadata": {},
   "source": [
    "Дан массив произвольной вложенности `[[], [[[], [], ], []], ...]`. Убрать вложенность элементов, отсортировать по убыванию и посчитать количество чисел 1 в массиве."
   ]
  },
  {
   "cell_type": "code",
   "execution_count": 16,
   "metadata": {
    "collapsed": false
   },
   "outputs": [
    {
     "data": {
      "text/plain": [
       "[[1, 15, 7, 61], [8, 5, [11, 1, 7, 19]], 1900, [[[1488]]]]"
      ]
     },
     "execution_count": 16,
     "metadata": {},
     "output_type": "execute_result"
    }
   ],
   "source": [
    "a = [[1, 15, 7, 61], [8, 5, [11, 1, 7, 19]], 1900, [[[1488]]]]"
   ]
  },
  {
   "cell_type": "code",
   "execution_count": 22,
   "metadata": {
    "collapsed": false
   },
   "outputs": [
    {
     "name": "stdout",
     "output_type": "stream",
     "text": [
      "[1900, 1488, 61, 19, 15, 11, 8, 7, 7, 5, 1, 1]\n"
     ]
    },
    {
     "data": {
      "text/plain": [
       "2"
      ]
     },
     "execution_count": 22,
     "metadata": {},
     "output_type": "execute_result"
    }
   ],
   "source": [
    "a = a.flatten.sort.reverse\n",
    "\n",
    "p a\n",
    "a.count 1"
   ]
  },
  {
   "cell_type": "markdown",
   "metadata": {},
   "source": [
    "### Немного интересных следствий - сравнение массивов"
   ]
  },
  {
   "cell_type": "code",
   "execution_count": 23,
   "metadata": {
    "collapsed": false
   },
   "outputs": [
    {
     "data": {
      "text/plain": [
       "[1, 2, 3, 4]"
      ]
     },
     "execution_count": 23,
     "metadata": {},
     "output_type": "execute_result"
    }
   ],
   "source": [
    "a = [1, 2, 3]\n",
    "b = [1, 2, 3]\n",
    "c = [1, 2, 3, 4]"
   ]
  },
  {
   "cell_type": "markdown",
   "metadata": {},
   "source": [
    "Обычное поэлементное равенство"
   ]
  },
  {
   "cell_type": "code",
   "execution_count": 24,
   "metadata": {
    "collapsed": false
   },
   "outputs": [
    {
     "data": {
      "text/plain": [
       "true"
      ]
     },
     "execution_count": 24,
     "metadata": {},
     "output_type": "execute_result"
    }
   ],
   "source": [
    "a == b"
   ]
  },
  {
   "cell_type": "code",
   "execution_count": 25,
   "metadata": {
    "collapsed": false
   },
   "outputs": [
    {
     "data": {
      "text/plain": [
       "false"
      ]
     },
     "execution_count": 25,
     "metadata": {},
     "output_type": "execute_result"
    }
   ],
   "source": [
    "a == c"
   ]
  },
  {
   "cell_type": "code",
   "execution_count": 26,
   "metadata": {
    "collapsed": false
   },
   "outputs": [
    {
     "data": {
      "text/plain": [
       "false"
      ]
     },
     "execution_count": 26,
     "metadata": {},
     "output_type": "execute_result"
    }
   ],
   "source": [
    "b == c"
   ]
  },
  {
   "cell_type": "code",
   "execution_count": 32,
   "metadata": {
    "collapsed": false
   },
   "outputs": [
    {
     "data": {
      "text/plain": [
       "false"
      ]
     },
     "execution_count": 32,
     "metadata": {},
     "output_type": "execute_result"
    }
   ],
   "source": [
    "a == a.reverse"
   ]
  },
  {
   "cell_type": "markdown",
   "metadata": {},
   "source": [
    "Оператор \"ракета\" или \"летающая тарелка\""
   ]
  },
  {
   "cell_type": "markdown",
   "metadata": {},
   "source": [
    "Если массивы одинаковые то вернет 0 (по сути двойное равно).  Если один массив содержит в себе все элементы другого, то вернет 1(посмотрите пример), то же произойдет, если элементы массива индентичные, но имеют разный регистр,  ну а если они не совпадают — то -1."
   ]
  },
  {
   "cell_type": "code",
   "execution_count": 27,
   "metadata": {
    "collapsed": false
   },
   "outputs": [
    {
     "data": {
      "text/plain": [
       "0"
      ]
     },
     "execution_count": 27,
     "metadata": {},
     "output_type": "execute_result"
    }
   ],
   "source": [
    "a <=> b"
   ]
  },
  {
   "cell_type": "code",
   "execution_count": 28,
   "metadata": {
    "collapsed": false
   },
   "outputs": [
    {
     "data": {
      "text/plain": [
       "-1"
      ]
     },
     "execution_count": 28,
     "metadata": {},
     "output_type": "execute_result"
    }
   ],
   "source": [
    "a <=> c"
   ]
  },
  {
   "cell_type": "code",
   "execution_count": 29,
   "metadata": {
    "collapsed": false
   },
   "outputs": [
    {
     "data": {
      "text/plain": [
       "1"
      ]
     },
     "execution_count": 29,
     "metadata": {},
     "output_type": "execute_result"
    }
   ],
   "source": [
    "c <=> a"
   ]
  },
  {
   "cell_type": "markdown",
   "metadata": {},
   "source": [
    "eql? сравниваниет длину и содержание и возвращает true или false. Данные должны быть однотипные. То есть по сути выполняется операция «ракета», когда равно 0. В этих методах неявно выполняется метод .hash  и именно хэш-значения и сравниваются"
   ]
  },
  {
   "cell_type": "code",
   "execution_count": 30,
   "metadata": {
    "collapsed": false
   },
   "outputs": [
    {
     "data": {
      "text/plain": [
       "true"
      ]
     },
     "execution_count": 30,
     "metadata": {},
     "output_type": "execute_result"
    }
   ],
   "source": [
    "a.eql? b"
   ]
  },
  {
   "cell_type": "markdown",
   "metadata": {},
   "source": [
    "equal? проверяет, **тот же** это объект, или нет, вызывая метод object_id."
   ]
  },
  {
   "cell_type": "code",
   "execution_count": 31,
   "metadata": {
    "collapsed": false
   },
   "outputs": [
    {
     "data": {
      "text/plain": [
       "false"
      ]
     },
     "execution_count": 31,
     "metadata": {},
     "output_type": "execute_result"
    }
   ],
   "source": [
    "a.equal? b"
   ]
  },
  {
   "cell_type": "markdown",
   "metadata": {},
   "source": [
    "### Appendix 1 - передача параметров в функцию"
   ]
  },
  {
   "cell_type": "code",
   "execution_count": 36,
   "metadata": {
    "collapsed": false
   },
   "outputs": [
    {
     "name": "stdout",
     "output_type": "stream",
     "text": [
      "3\n",
      "3\n",
      "17760540\n",
      "17760540\n",
      "17760520\n",
      "17760520\n"
     ]
    },
    {
     "data": {
      "text/plain": [
       "17760520"
      ]
     },
     "execution_count": 36,
     "metadata": {},
     "output_type": "execute_result"
    }
   ],
   "source": [
    "def foo(param)\n",
    "  p param.object_id\n",
    "end\n",
    "\n",
    "a = 1\n",
    "b = 'str'\n",
    "c = [1, 2, 3]\n",
    "\n",
    "p a.object_id\n",
    "foo(a)\n",
    "\n",
    "p b.object_id\n",
    "foo(b)\n",
    "\n",
    "p c.object_id\n",
    "foo(c)"
   ]
  },
  {
   "cell_type": "markdown",
   "metadata": {},
   "source": [
    "### Appendix 1 - изменяемость объектов"
   ]
  },
  {
   "cell_type": "code",
   "execution_count": 37,
   "metadata": {
    "collapsed": false
   },
   "outputs": [
    {
     "name": "stdout",
     "output_type": "stream",
     "text": [
      "3\n"
     ]
    },
    {
     "data": {
      "text/plain": [
       "7"
      ]
     },
     "execution_count": 37,
     "metadata": {},
     "output_type": "execute_result"
    }
   ],
   "source": [
    "a = 1\n",
    "\n",
    "p a.object_id\n",
    "\n",
    "a += 2\n",
    "\n",
    "a.object_id"
   ]
  },
  {
   "cell_type": "code",
   "execution_count": 38,
   "metadata": {
    "collapsed": false
   },
   "outputs": [
    {
     "name": "stdout",
     "output_type": "stream",
     "text": [
      "17475040\n"
     ]
    },
    {
     "data": {
      "text/plain": [
       "17454300"
      ]
     },
     "execution_count": 38,
     "metadata": {},
     "output_type": "execute_result"
    }
   ],
   "source": [
    "a = [1, 2, 3]\n",
    "\n",
    "p a.object_id\n",
    "\n",
    "a += [2]\n",
    "\n",
    "a.object_id"
   ]
  },
  {
   "cell_type": "code",
   "execution_count": null,
   "metadata": {
    "collapsed": true
   },
   "outputs": [],
   "source": []
  }
 ],
 "metadata": {
  "kernelspec": {
   "display_name": "Ruby 2.3.1",
   "language": "ruby",
   "name": "ruby"
  },
  "language_info": {
   "file_extension": ".rb",
   "mimetype": "application/x-ruby",
   "name": "ruby",
   "version": "2.3.1"
  }
 },
 "nbformat": 4,
 "nbformat_minor": 2
}
