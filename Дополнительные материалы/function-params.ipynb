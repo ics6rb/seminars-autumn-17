{
 "cells": [
  {
   "cell_type": "markdown",
   "metadata": {},
   "source": [
    "# Как передаются параметры в функцию"
   ]
  },
  {
   "cell_type": "markdown",
   "metadata": {},
   "source": [
    "В начале семинара 3 показаны отличительные особенности переменных в Ruby. Этот notebook идет немного дальше и показывет, что происходит с переменными при передаче в функцию.\n",
    "\n",
    "Примеры иллюстрируют, что именно передается в функцию: копия переменной или ссылка на нее, а также в каких случая что происходит."
   ]
  },
  {
   "cell_type": "markdown",
   "metadata": {},
   "source": [
    "### Фабула"
   ]
  },
  {
   "cell_type": "markdown",
   "metadata": {},
   "source": [
    "У нас есть объект - число 10 - который доступен глобально через переменную `x`. \n",
    "\n",
    "Графически это выглядит так:\n",
    "\n",
    "![](img/fp/fp1.png)\n",
    "\n",
    "Как вы помните, любая преременная в Ruby - это не переменная, а ссылка на объект, создаваемый интерпретатором.\n",
    "\n",
    "Мы передаем `x` в функцию `foo`. \n",
    "\n",
    "Дальше нам нужно понять, передается ли в `arg` копия `x` или ссылка на нее. Если `arg` - это копия, то его можно менять без риска случайно испортить содержимое оригинальной переменной `x`. Если это ссылка, то любое изменение `arg` повлечет за собой изменение `x`. С точки зрения смысла в таком случае `x` и `arg` даже не имеет смысл их разделять, они ссылаются на одну и ту же переменную, созданную интерпретатором, только внутри функции мы обращаемся к ней через идентификатор `arg`, а снаружи через идентификатор `x`.\n",
    "\n",
    "![](img/fp/fp2.png)\n",
    "\n",
    "Как же нам понять, является ли `arg` ссылкой на `x` или ее копией? Есть достаточно простой способ сделать это. У каждого объекта в Ruby есть метод object_id, который возвращает число - уникальный номер объекта. По этому номеру можно однозначно идентифицировать объект. Если мы вернем object_id формального параметра `arg` и сравним его с object_id нашей переменной `x`, то мы поймем, тот же этот объект или нет. Здесь и далее для упрощения кода будем выводить результат операции сравнения. Если x.object_id **совпадает** с arg.object_id, то выводится **true**, в противном случае **false**.\n",
    "\n",
    "Таким образом, если выводится true, то в функцию передается **ссылка** (то есть внутри функции foo мы работаем с той же переменной, что и снаружи)."
   ]
  },
  {
   "cell_type": "code",
   "execution_count": 6,
   "metadata": {
    "collapsed": false
   },
   "outputs": [
    {
     "data": {
      "text/plain": [
       "true"
      ]
     },
     "execution_count": 6,
     "metadata": {},
     "output_type": "execute_result"
    }
   ],
   "source": [
    "def foo(arg)\n",
    "  arg.object_id\n",
    "end\n",
    "\n",
    "x = 10\n",
    "x.object_id == foo(x)"
   ]
  },
  {
   "cell_type": "markdown",
   "metadata": {},
   "source": [
    "Тут передается **ссылка на х**."
   ]
  },
  {
   "cell_type": "markdown",
   "metadata": {},
   "source": [
    "### Когда создается новый объект"
   ]
  },
  {
   "cell_type": "markdown",
   "metadata": {},
   "source": [
    "В следующем примере оператор `+=` не изменяет объект, переданный в качестве аргумента. Он создаёт новый объект.\n",
    "\n",
    "Поэтому при сравнении object_id `x` и `arg` мы можем видеть их несовпадение. Как только мы пишем оператор `+=`, `arg` перестает ссылаться на ту же переменную, что и `x`. Интерпретатор создает новую переменную, копирует в нее содержимое переменной, на которую ссылалась переменная `arg`, прибавляет 1, после чего в `arg` записывается ссылка на новую переменную.\n",
    "\n",
    "![](img/fp/fp3.png)"
   ]
  },
  {
   "cell_type": "code",
   "execution_count": 7,
   "metadata": {
    "collapsed": false
   },
   "outputs": [
    {
     "data": {
      "text/plain": [
       "false"
      ]
     },
     "execution_count": 7,
     "metadata": {},
     "output_type": "execute_result"
    }
   ],
   "source": [
    "def foo1(arg)\n",
    "  arg += 1\n",
    "  return arg.object_id\n",
    "end\n",
    "\n",
    "x = 10\n",
    "x.object_id == foo1(x)"
   ]
  },
  {
   "cell_type": "markdown",
   "metadata": {},
   "source": [
    "Это работает не только с числом, но и со составными типами вроде массива (Array)."
   ]
  },
  {
   "cell_type": "code",
   "execution_count": 8,
   "metadata": {
    "collapsed": false
   },
   "outputs": [
    {
     "data": {
      "text/plain": [
       "false"
      ]
     },
     "execution_count": 8,
     "metadata": {},
     "output_type": "execute_result"
    }
   ],
   "source": [
    "def foo2(arg)\n",
    "  arg += [1]\n",
    "  return arg.object_id\n",
    "end\n",
    "\n",
    "a = [1, 2, 3]\n",
    "a.object_id == foo2(a)"
   ]
  },
  {
   "cell_type": "markdown",
   "metadata": {},
   "source": [
    "### Когда изменяется текущий объект"
   ]
  },
  {
   "cell_type": "markdown",
   "metadata": {},
   "source": [
    "Оператор `<<` изменяет объект, переданный в качестве аргумента.\n",
    "\n",
    "Из функции возвращается ссылка на тот же самый объект, но модифицированный."
   ]
  },
  {
   "cell_type": "code",
   "execution_count": 9,
   "metadata": {
    "collapsed": false
   },
   "outputs": [
    {
     "data": {
      "text/plain": [
       "true"
      ]
     },
     "execution_count": 9,
     "metadata": {},
     "output_type": "execute_result"
    }
   ],
   "source": [
    "def foo2(arg)\n",
    "  arg << 4\n",
    "  return arg.object_id\n",
    "end\n",
    "\n",
    "a = [1, 2, 3]\n",
    "a.object_id == foo2(a)"
   ]
  },
  {
   "cell_type": "markdown",
   "metadata": {},
   "source": [
    "Мы никуда не записали результат функции `foo2`, но если мы посмотрим, что именно сейчас хранится в переменной `a`, то увидим, что это уже не `[1, 2, 3]`:"
   ]
  },
  {
   "cell_type": "code",
   "execution_count": 10,
   "metadata": {
    "collapsed": false
   },
   "outputs": [
    {
     "data": {
      "text/plain": [
       "[1, 2, 3, 4]"
      ]
     },
     "execution_count": 10,
     "metadata": {},
     "output_type": "execute_result"
    }
   ],
   "source": [
    "a"
   ]
  },
  {
   "cell_type": "markdown",
   "metadata": {},
   "source": [
    "### Итог"
   ]
  },
  {
   "cell_type": "markdown",
   "metadata": {},
   "source": [
    "Параметры в функцию **всегда передаются по ссылке**. \n",
    "\n",
    "Если внутри функции вы используете методы, создающие новый объект (например, `+=`), то переданный объект не изменится. Если метод подразумевает изменение существующего (например, <<), то переданный объект изменится."
   ]
  },
  {
   "cell_type": "markdown",
   "metadata": {},
   "source": [
    "### И еще один пример..."
   ]
  },
  {
   "cell_type": "markdown",
   "metadata": {},
   "source": [
    "То же самое можно проделать и для методов `map` (создает новый массив) и `map!` (изменяет существующий)."
   ]
  },
  {
   "cell_type": "code",
   "execution_count": 11,
   "metadata": {
    "collapsed": false
   },
   "outputs": [
    {
     "name": "stdout",
     "output_type": "stream",
     "text": [
      "false\n",
      "true\n"
     ]
    },
    {
     "data": {
      "text/plain": [
       "true"
      ]
     },
     "execution_count": 11,
     "metadata": {},
     "output_type": "execute_result"
    }
   ],
   "source": [
    "def foo_map(iterable)\n",
    "  iterable.map {|x| x**2 }\n",
    "end\n",
    "\n",
    "def foo_map!(iterable)\n",
    "  iterable.map! {|x| x**2 }\n",
    "end\n",
    "\n",
    "a = [1, 2, 3]\n",
    "b = [1, 2, 3]\n",
    "\n",
    "# Создалась копия\n",
    "p a == foo_map(a)\n",
    "# Изменился объект\n",
    "p b == foo_map!(b)"
   ]
  }
 ],
 "metadata": {
  "kernelspec": {
   "display_name": "Ruby 2.3.1",
   "language": "ruby",
   "name": "ruby"
  },
  "language_info": {
   "file_extension": ".rb",
   "mimetype": "application/x-ruby",
   "name": "ruby",
   "version": "2.3.1"
  }
 },
 "nbformat": 4,
 "nbformat_minor": 2
}
