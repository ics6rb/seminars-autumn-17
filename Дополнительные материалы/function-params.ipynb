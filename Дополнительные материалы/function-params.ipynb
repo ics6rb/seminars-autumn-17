{
 "cells": [
  {
   "cell_type": "markdown",
   "metadata": {},
   "source": [
    "# Как передаются параметры в функцию"
   ]
  },
  {
   "cell_type": "code",
   "execution_count": 1,
   "metadata": {
    "collapsed": false
   },
   "outputs": [
    {
     "name": "stdout",
     "output_type": "stream",
     "text": [
      "true\n"
     ]
    },
    {
     "data": {
      "text/plain": [
       "true"
      ]
     },
     "execution_count": 1,
     "metadata": {},
     "output_type": "execute_result"
    }
   ],
   "source": [
    "def foo(x)\n",
    "  x.object_id\n",
    "end\n",
    "\n",
    "x = 10\n",
    "x.object_id == foo(x)"
   ]
  },
  {
   "cell_type": "code",
   "execution_count": 8,
   "metadata": {
    "collapsed": false
   },
   "outputs": [
    {
     "data": {
      "text/plain": [
       "false"
      ]
     },
     "execution_count": 8,
     "metadata": {},
     "output_type": "execute_result"
    }
   ],
   "source": [
    "def foo1(x)\n",
    "  x += 1\n",
    "  return x.object_id\n",
    "end\n",
    "\n",
    "x = 10\n",
    "x.object_id == foo1(x)"
   ]
  },
  {
   "cell_type": "code",
   "execution_count": 9,
   "metadata": {
    "collapsed": false
   },
   "outputs": [
    {
     "data": {
      "text/plain": [
       "false"
      ]
     },
     "execution_count": 9,
     "metadata": {},
     "output_type": "execute_result"
    }
   ],
   "source": [
    "def foo2(x)\n",
    "  x += [1]\n",
    "  return x.object_id\n",
    "end\n",
    "\n",
    "a = [1, 2, 3]\n",
    "a.object_id == foo2(a)"
   ]
  },
  {
   "cell_type": "code",
   "execution_count": 10,
   "metadata": {
    "collapsed": false
   },
   "outputs": [
    {
     "data": {
      "text/plain": [
       "true"
      ]
     },
     "execution_count": 10,
     "metadata": {},
     "output_type": "execute_result"
    }
   ],
   "source": [
    "def foo2(x)\n",
    "  x << 1\n",
    "  return x.object_id\n",
    "end\n",
    "\n",
    "a = [1, 2, 3]\n",
    "a.object_id == foo2(a)"
   ]
  },
  {
   "cell_type": "markdown",
   "metadata": {},
   "source": [
    "Подытоживая: все как в начале третьего семинара. Параметры передаются по ссылке, если в функции есть создание нового объекта, то переданный не меняется, если подразумевается изменение существующего (<<), то меняется."
   ]
  },
  {
   "cell_type": "code",
   "execution_count": 13,
   "metadata": {
    "collapsed": false
   },
   "outputs": [
    {
     "name": "stdout",
     "output_type": "stream",
     "text": [
      "false\n",
      "true\n"
     ]
    },
    {
     "data": {
      "text/plain": [
       "true"
      ]
     },
     "execution_count": 13,
     "metadata": {},
     "output_type": "execute_result"
    }
   ],
   "source": [
    "def foo_map(iterable)\n",
    "  iterable.map {|x| x**2 }\n",
    "end\n",
    "\n",
    "def foo_map!(iterable)\n",
    "  iterable.map! {|x| x**2 }\n",
    "end\n",
    "\n",
    "a = [1, 2, 3]\n",
    "b = [1, 2, 3]\n",
    "\n",
    "# Создалась копия\n",
    "p a == foo_map(a)\n",
    "# Изменился объект\n",
    "p b == foo_map!(b)"
   ]
  },
  {
   "cell_type": "code",
   "execution_count": null,
   "metadata": {
    "collapsed": true
   },
   "outputs": [],
   "source": []
  }
 ],
 "metadata": {
  "kernelspec": {
   "display_name": "Ruby 2.3.1",
   "language": "ruby",
   "name": "ruby"
  },
  "language_info": {
   "file_extension": ".rb",
   "mimetype": "application/x-ruby",
   "name": "ruby",
   "version": "2.3.1"
  }
 },
 "nbformat": 4,
 "nbformat_minor": 2
}
