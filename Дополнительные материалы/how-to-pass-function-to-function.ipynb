{
 "cells": [
  {
   "cell_type": "markdown",
   "metadata": {},
   "source": [
    "# Как передать функцию в функцию"
   ]
  },
  {
   "cell_type": "markdown",
   "metadata": {},
   "source": [
    "## Немного теории"
   ]
  },
  {
   "cell_type": "markdown",
   "metadata": {},
   "source": [
    "В Ruby есть блоки. Блок кода - это просто кусок кода, обрамленный ключевыми словами `do` и `end` или в фигурных скобках."
   ]
  },
  {
   "cell_type": "markdown",
   "metadata": {},
   "source": [
    "**Блок - это не объект какого-то класса, блок - это специальная конструкция языка**. Его нельзя записать в переменную, нельзя **явно** передать функции и т.д."
   ]
  },
  {
   "cell_type": "markdown",
   "metadata": {},
   "source": [
    "Работа с блоками - это **специальный встроенный в Ruby механизм**, работа с ним происходит **только через определенные ключевые слова**.\n",
    "\n",
    "Тут довольно много ограничений. Но блоки все же широко используются в Ruby, более того, это один из основных механизмов языка. Итак, зачем же действительно нужны блоки?"
   ]
  },
  {
   "cell_type": "markdown",
   "metadata": {},
   "source": [
    "## Любой функции можно передать блок кода"
   ]
  },
  {
   "cell_type": "markdown",
   "metadata": {},
   "source": [
    "Это самый основной механизм языка Ruby, который поддерживается **любой функцией по умолчанию**.\n",
    "\n",
    "На уровне языка каждая функция умеет принимать **последним** неявным параметром блок кода. "
   ]
  },
  {
   "cell_type": "code",
   "execution_count": 1,
   "metadata": {
    "collapsed": false
   },
   "outputs": [],
   "source": [
    "def foo(x)\n",
    "end\n",
    "\n",
    "foo(1) do |x|\n",
    "  x + 1\n",
    "end"
   ]
  },
  {
   "cell_type": "markdown",
   "metadata": {},
   "source": [
    "Мы объявили функцию `foo` и при вызове этой функции с аргументом 1 передали ей блок.\n",
    "\n",
    "Он начинается ключевым словом `do` и заканчивается ключевым словом `end`.\n",
    "\n",
    "**Примечание**\n",
    "\n",
    "Бывают однострочные блоки, в данном случае он бы выглядел так (это не код, а текст):\n",
    "```ruby\n",
    "foo(1) {|x| x + 1 }\n",
    "```\n",
    "\n",
    "Можно так писать для экономии места, но разницы в том, писать однострочный блок или многострочный, нет.\n",
    "\n",
    "У блока могут быть параметры, они объявляются в прямых чертах - `| ... |`. Параметров может быть сколько угодно, их названия могут быть любыми. Параметры блока можно воспринимать как формальные параметры функции и по смыслу с точки зрения программиста они имеют такой же смысл, как и формальные параметры функции. "
   ]
  },
  {
   "cell_type": "markdown",
   "metadata": {},
   "source": [
    "Однако, если внимательно посмотреть на результат работы кода с передачей блока, можно заметить, что совершенно ничего не произошло. Блок никак не вызвался.\n",
    "\n",
    "Как нам его вызвать? Как было написано выше, блок передается в функцию **неявно**, то есть достучаться до него на первый взгляд никак нельзя.\n",
    "\n",
    "Выше также было написано, что работа с блоками происходит через определенные ключевые слова. Существует ключевое слово для вызова выполнения блока - **yield**. Yield принимает аргументы и передает их в блок по порядку.\n",
    "\n",
    "![](img/htpftf/htpftf1.png)"
   ]
  },
  {
   "cell_type": "code",
   "execution_count": 1,
   "metadata": {
    "collapsed": false
   },
   "outputs": [
    {
     "data": {
      "text/plain": [
       "2"
      ]
     },
     "execution_count": 1,
     "metadata": {},
     "output_type": "execute_result"
    }
   ],
   "source": [
    "def foo(x)\n",
    "  yield x # Здесь мы вызываем исполнение переданного блока с аргументом 1.\n",
    "end\n",
    "\n",
    "foo(1) do |x|\n",
    "  x + 1\n",
    "end"
   ]
  },
  {
   "cell_type": "markdown",
   "metadata": {},
   "source": [
    "Конструкция `yield x` значит примерно следующее: \"попытайся вызвать исполнение блока кода, переданного функции, и дай ему в качестве аргументов все то, что стоит после `yield`\" (как вы помните, скобки ставить не обязательно, а если бы они стояли, то это выглядело бы как `yield(x)`)."
   ]
  },
  {
   "cell_type": "markdown",
   "metadata": {},
   "source": [
    "Конструкция\n",
    "```ruby\n",
    "[1, 2, 3].map {|x| x**2}\n",
    "```\n",
    "**это и есть передача блока методу map, который внутри себя делает yield!**"
   ]
  },
  {
   "cell_type": "markdown",
   "metadata": {},
   "source": [
    "yield - достаточно тупая инструкция. Если вызывать выполнение блока, которого нет, будет ошибка."
   ]
  },
  {
   "cell_type": "code",
   "execution_count": 3,
   "metadata": {
    "collapsed": false
   },
   "outputs": [
    {
     "ename": "LocalJumpError",
     "evalue": "no block given (yield)",
     "output_type": "error",
     "traceback": [
      "\u001b[31mLocalJumpError\u001b[0m: no block given (yield)",
      "\u001b[37m<main>:2:in `foo'\u001b[0m",
      "\u001b[37m<main>:in `<main>'\u001b[0m",
      "\u001b[37m/var/lib/gems/2.3.0/gems/iruby-0.3/lib/iruby/backend.rb:44:in `eval'\u001b[0m",
      "\u001b[37m/var/lib/gems/2.3.0/gems/iruby-0.3/lib/iruby/backend.rb:44:in `eval'\u001b[0m",
      "\u001b[37m/var/lib/gems/2.3.0/gems/iruby-0.3/lib/iruby/backend.rb:12:in `eval'\u001b[0m",
      "\u001b[37m/var/lib/gems/2.3.0/gems/iruby-0.3/lib/iruby/kernel.rb:87:in `execute_request'\u001b[0m",
      "\u001b[37m/var/lib/gems/2.3.0/gems/iruby-0.3/lib/iruby/kernel.rb:47:in `dispatch'\u001b[0m",
      "\u001b[37m/var/lib/gems/2.3.0/gems/iruby-0.3/lib/iruby/kernel.rb:37:in `run'\u001b[0m",
      "\u001b[37m/var/lib/gems/2.3.0/gems/iruby-0.3/lib/iruby/command.rb:70:in `run_kernel'\u001b[0m",
      "\u001b[37m/var/lib/gems/2.3.0/gems/iruby-0.3/lib/iruby/command.rb:34:in `run'\u001b[0m",
      "\u001b[37m/var/lib/gems/2.3.0/gems/iruby-0.3/bin/iruby:5:in `<top (required)>'\u001b[0m",
      "\u001b[37m/usr/local/bin/iruby:23:in `load'\u001b[0m",
      "\u001b[37m/usr/local/bin/iruby:23:in `<main>'\u001b[0m"
     ]
    }
   ],
   "source": [
    "foo(2)"
   ]
  },
  {
   "cell_type": "markdown",
   "metadata": {},
   "source": [
    "**Что же сделать, чтобы не упало?**\n",
    "\n",
    "Проверить наличие блока:"
   ]
  },
  {
   "cell_type": "code",
   "execution_count": 17,
   "metadata": {
    "collapsed": false
   },
   "outputs": [
    {
     "name": "stdout",
     "output_type": "stream",
     "text": [
      "\"Блок передан\"\n",
      "\"Блок не передан\"\n"
     ]
    },
    {
     "data": {
      "text/plain": [
       "1"
      ]
     },
     "execution_count": 17,
     "metadata": {},
     "output_type": "execute_result"
    }
   ],
   "source": [
    "def smart_foo(x)\n",
    "  if block_given?\n",
    "    yield x\n",
    "  else\n",
    "    p 'Блок не передан'\n",
    "    x\n",
    "  end\n",
    "end\n",
    "\n",
    "smart_foo(1) do |x|\n",
    "  p 'Блок передан'\n",
    "  x + 1\n",
    "end\n",
    "\n",
    "smart_foo(1)"
   ]
  },
  {
   "cell_type": "markdown",
   "metadata": {},
   "source": [
    "Если напутать с количеством параметров, которые умеет принимать блок, ничего криминального не случится.\n",
    "\n",
    "Здесь мы передаем в функцию блок, который не принимает ни одного параметра (после `do` нет `| ... |'). При вызове блока мы тем не менее передаем в него параметр х. Несмотря на то, что есть очевидная несостыковка, блоки в Ruby построены таким образом, что лишние параметры будут просто проигнорированы."
   ]
  },
  {
   "cell_type": "code",
   "execution_count": 16,
   "metadata": {
    "collapsed": false
   },
   "outputs": [
    {
     "name": "stdout",
     "output_type": "stream",
     "text": [
      "\"У меня нет параметров\"\n"
     ]
    },
    {
     "data": {
      "text/plain": [
       "\"У меня нет параметров\""
      ]
     },
     "execution_count": 16,
     "metadata": {},
     "output_type": "execute_result"
    }
   ],
   "source": [
    "def foo(x)\n",
    "  yield x\n",
    "end\n",
    "\n",
    "foo(1) do\n",
    "  p 'У меня нет параметров'\n",
    "end"
   ]
  },
  {
   "cell_type": "markdown",
   "metadata": {},
   "source": [
    "### Практический пример"
   ]
  },
  {
   "cell_type": "markdown",
   "metadata": {},
   "source": [
    "Возьмем массив слов. Отсортируем его с помощью классической функции."
   ]
  },
  {
   "cell_type": "code",
   "execution_count": 7,
   "metadata": {
    "collapsed": false
   },
   "outputs": [
    {
     "data": {
      "text/plain": [
       "[\"aaa\", \"b\", \"ccc\"]"
      ]
     },
     "execution_count": 7,
     "metadata": {},
     "output_type": "execute_result"
    }
   ],
   "source": [
    "array = ['aaa', 'b', 'ccc']"
   ]
  },
  {
   "cell_type": "code",
   "execution_count": 8,
   "metadata": {
    "collapsed": false
   },
   "outputs": [
    {
     "data": {
      "text/plain": [
       "[\"aaa\", \"b\", \"ccc\"]"
      ]
     },
     "execution_count": 8,
     "metadata": {},
     "output_type": "execute_result"
    }
   ],
   "source": [
    "array.sort"
   ]
  },
  {
   "cell_type": "markdown",
   "metadata": {},
   "source": [
    "Тут происходит сортировка в лексикографическом порядке, то есть слово, начинающееся с буквы a, меньше слова, начинающегося с буквы b, какие бы дальше буквы ни шли.\n",
    "\n",
    "А что если мы хотим сортировать по длине слова? Нам бы пришлось писать какую-то новую функцию сортировки, если бы функция сортировки не принимала блок. Но к счастью это не так, и мы можем совершенно спокойно передать свою собственную операцию сравнения, что позволит очень гибко и легко модифицировать поведение уже написанного кода без того, чтобы модифицировать сам код."
   ]
  },
  {
   "cell_type": "code",
   "execution_count": 11,
   "metadata": {
    "collapsed": false
   },
   "outputs": [
    {
     "data": {
      "text/plain": [
       "[\"b\", \"aaa\", \"ccc\"]"
      ]
     },
     "execution_count": 11,
     "metadata": {},
     "output_type": "execute_result"
    }
   ],
   "source": [
    "array.sort {|x, y| x.length <=> y.length}"
   ]
  },
  {
   "cell_type": "markdown",
   "metadata": {},
   "source": [
    "## Но что делать, если блока недостаточно?"
   ]
  },
  {
   "cell_type": "markdown",
   "metadata": {},
   "source": [
    "Почему вообще нас может не устраивать блок?\n",
    "\n",
    "Блок нельзя записать в переменную. Однако может случиться так, что нам нужно будет передавать один и тот же кусок кода в несколько функций, то есть использовать его несколько раз. И очень не хочется его переписывать. Это в сущности и есть основная причина, по которой блоков в чистом виде недостаточно."
   ]
  },
  {
   "cell_type": "markdown",
   "metadata": {},
   "source": [
    "## Proc (от Procedure object)"
   ]
  },
  {
   "cell_type": "markdown",
   "metadata": {},
   "source": [
    "Proc - это **обертка над блоком кода**, которая умеет себя вызывать через специальный метод `call`. \n",
    "\n",
    "Proc конструируется с помощью блока кода, который передается в его конструктор в виде неявного параметра (мы говорили о том, что функции могут принимать блоки кода, но методы класса в данном случае совершенно ничем от них не отличаются). \n",
    "\n",
    "Также существует еще один способ объявления Proc - с помощью конструкции с ключевым словом `proc`:"
   ]
  },
  {
   "cell_type": "code",
   "execution_count": 14,
   "metadata": {
    "collapsed": false
   },
   "outputs": [
    {
     "data": {
      "text/plain": [
       "#<Proc:0x00000001c502f0@<main>:19>"
      ]
     },
     "execution_count": 14,
     "metadata": {},
     "output_type": "execute_result"
    }
   ],
   "source": [
    "def foo(x, f)\n",
    "  f.call x\n",
    "end\n",
    "\n",
    "# Первый способ - через конструктор с блоком.\n",
    "proc1 = Proc.new do |x|\n",
    "  x + 2\n",
    "end\n",
    "\n",
    "# Второй способ - через специальную конструкцию языка.\n",
    "proc2 = proc do |x|  \n",
    "  x + 2\n",
    "end\n",
    "  \n",
    "# Блоки в данном случае могут быть как однострочными, так и многострочными. Вот это делает абсолютно то же самое, \n",
    "# что и в примерах выше.\n",
    "proc1 = Proc.new {|x| x + 2}\n",
    "\n",
    "# Второй способ - через специальную конструкцию языка.\n",
    "proc2 = proc {|x| x}"
   ]
  },
  {
   "cell_type": "markdown",
   "metadata": {},
   "source": [
    "Proc можно также передавать в функцию через переменные."
   ]
  },
  {
   "cell_type": "code",
   "execution_count": 13,
   "metadata": {
    "collapsed": false
   },
   "outputs": [
    {
     "name": "stdout",
     "output_type": "stream",
     "text": [
      "3\n"
     ]
    },
    {
     "data": {
      "text/plain": [
       "3"
      ]
     },
     "execution_count": 13,
     "metadata": {},
     "output_type": "execute_result"
    }
   ],
   "source": [
    "p foo(1, proc1)\n",
    "foo(1, proc2)"
   ]
  },
  {
   "cell_type": "markdown",
   "metadata": {},
   "source": [
    "## Можно передать анонимную функцию - lambda"
   ]
  },
  {
   "cell_type": "markdown",
   "metadata": {},
   "source": [
    "Лямбда - это концепция, пришедшая из функционального программирования. Лямбда - это анонимная функция.\n",
    "\n",
    "Что это вообще значит?\n",
    "\n",
    "Вот такая функция не анонимная, она объявлена через специальный синтаксис, ей в соответствие поставлено имя.\n",
    "\n",
    "```ruby\n",
    "def explicit_function()\n",
    "    # Какой-то код\n",
    "end\n",
    "```\n",
    "\n",
    "А вот такая функция уже будет анонимной\n",
    "```ruby\n",
    "x = ->(arg) {x + 1}\n",
    "```\n",
    "\n",
    "Для объявления анонимной функции в Ruby есть два варианта синтаксиса:"
   ]
  },
  {
   "cell_type": "code",
   "execution_count": 4,
   "metadata": {
    "collapsed": false
   },
   "outputs": [
    {
     "data": {
      "text/plain": [
       "#<Proc:0x00000001d5d238@<main>:1 (lambda)>"
      ]
     },
     "execution_count": 4,
     "metadata": {},
     "output_type": "execute_result"
    }
   ],
   "source": [
    "lambda_function1 = ->(x) { x + 1 }\n",
    "lambda_function2 = lambda {|x| x + 1 }"
   ]
  },
  {
   "cell_type": "markdown",
   "metadata": {},
   "source": [
    "Как и в случае с Proc, для вызова лямбды нужно использовать специальный метод call"
   ]
  },
  {
   "cell_type": "code",
   "execution_count": 6,
   "metadata": {
    "collapsed": false
   },
   "outputs": [
    {
     "name": "stdout",
     "output_type": "stream",
     "text": [
      "2\n"
     ]
    },
    {
     "data": {
      "text/plain": [
       "2"
      ]
     },
     "execution_count": 6,
     "metadata": {},
     "output_type": "execute_result"
    }
   ],
   "source": [
    "p lambda_function1.call 1\n",
    "lambda_function2.call 1"
   ]
  },
  {
   "cell_type": "markdown",
   "metadata": {},
   "source": [
    "Но разве эта функция анонимная, если к ней можно обращаться по имени?\n",
    "\n",
    "Да. Дело в том, что анонимная функция не имеет **имени функции**, то есть того специального имени, которое записывается после ключевоо слова `def`. Однако ссылку на лямбду все же можно записывать в переменную и обращаться к ней через эту переменную, потому что если бы такой возможности не было, с лямбдами было бы невозможно работать в принципе."
   ]
  },
  {
   "cell_type": "markdown",
   "metadata": {},
   "source": [
    "При желании можно сразу сконструировать лямбду при вызове функции или передать переменную, содержащую ссылкку на нее:"
   ]
  },
  {
   "cell_type": "code",
   "execution_count": 32,
   "metadata": {
    "collapsed": false
   },
   "outputs": [
    {
     "name": "stdout",
     "output_type": "stream",
     "text": [
      "2\n"
     ]
    },
    {
     "data": {
      "text/plain": [
       "2"
      ]
     },
     "execution_count": 32,
     "metadata": {},
     "output_type": "execute_result"
    }
   ],
   "source": [
    "def foo(x, l)\n",
    "  l.call x\n",
    "end\n",
    "\n",
    "p foo(1, lambda_function2)\n",
    "foo(1, ->(x) {x + 1})"
   ]
  },
  {
   "cell_type": "markdown",
   "metadata": {},
   "source": [
    "**Примечание**\n",
    "\n",
    "В функциональном программировании лямбды очень часто используются именно в таких конструкциях. Неудобно объявлять функцию где-то наверху, чтобы потом **один** раз ее использовать,гораздо удобнее написать функцию прямо в вызове другой функции. Лямбды как раз позволяют так сделать.\n",
    "\n",
    "В Ruby же в таких ситуациях в основном используются блоки кода. Однако, если мы не хотим писать слишком много повторяющегося кода в блоке, то нам на помощь приходит следующая конструкция языка."
   ]
  },
  {
   "cell_type": "markdown",
   "metadata": {},
   "source": [
    "## Немного майндфака"
   ]
  },
  {
   "cell_type": "markdown",
   "metadata": {},
   "source": [
    "Если вам надоело писать суммирование массива так\n",
    "\n",
    "```ruby\n",
    "[1, 2, 3].inject 0 {|sum, x| sum += x}\n",
    "```\n",
    "\n",
    "То можно сделать это гораздо проще\n",
    "```ruby\n",
    "[1, 2, 3].inject &:+\n",
    "```\n",
    "\n",
    "Результат будет такой же."
   ]
  },
  {
   "cell_type": "code",
   "execution_count": 16,
   "metadata": {
    "collapsed": false
   },
   "outputs": [
    {
     "data": {
      "text/plain": [
       "true"
      ]
     },
     "execution_count": 16,
     "metadata": {},
     "output_type": "execute_result"
    }
   ],
   "source": [
    "[1, 2, 3].inject(0) {|sum, x| sum += x} == [1, 2, 3].inject(&:+)"
   ]
  },
  {
   "cell_type": "markdown",
   "metadata": {},
   "source": [
    "## Как это работает"
   ]
  },
  {
   "cell_type": "markdown",
   "metadata": {},
   "source": [
    "Начнем с конца. ```:+``` - это экземпляр класса `Symbol`. `Symbol` - это неизменяемая строка. То есть ```:+``` - это просто строчка, содержащая знак +.\n",
    "\n",
    "`Symbol` в Ruby используется очень широко. В этом языке нет возможности передать имя функции таким образом\n",
    "\n",
    "```ruby\n",
    "def foo()\n",
    "end\n",
    "\n",
    "another_function(foo) # Так нельзя\n",
    "```\n",
    "\n",
    "потому что функции в Ruby могут вызываться без скобок. Получается, что вызов `foo` без агрументов неотличим от упоминания `foo`, например, с целью присвоения ссылки на функцию другой переменной. А передавать функцию в функцию по имени хочется. При этом если уж функция есть, то делать обертки над ней в виде Proc - это уже лишнее. Хочется просто использовать имя функции. Но нельзя. \n",
    "\n",
    "Чтобы обойти это ограничение языка, для передачи имени функции стали использовать класс `Symbol`. Это просто константная строчка, которая содержит имя вызываемой функции. Так как она константная,то гарантируетя то, чтомы всегда будем ссылаться на одну ту же функцию.\n",
    "\n",
    "То есть получается ```:+``` - это имя функции (а в Ruby + может быть именем функции).\n",
    "\n",
    "Но что с того, что у нас есть имя функции? Само по себе это бесполезно. НО"
   ]
  },
  {
   "cell_type": "markdown",
   "metadata": {},
   "source": [
    "### Symbol умеет преобразовываться в Proc"
   ]
  },
  {
   "cell_type": "code",
   "execution_count": 20,
   "metadata": {
    "collapsed": false
   },
   "outputs": [
    {
     "data": {
      "text/plain": [
       "#<Proc:0x00000001b75218(&:function)>"
      ]
     },
     "execution_count": 20,
     "metadata": {},
     "output_type": "execute_result"
    }
   ],
   "source": [
    "def function(x)\n",
    "  x**2\n",
    "end\n",
    "\n",
    "f = :function.to_proc"
   ]
  },
  {
   "cell_type": "markdown",
   "metadata": {},
   "source": [
    "Можно воспринимать это так:\n",
    "\n",
    "1. интерпретатор ищет функцию по имени\n",
    "2. он копирует ее код в блок и спомощью него создает Proc\n",
    "\n",
    "То есть все равно нам приходится использовать Proc, который я так не хотел создавать выше. Но это уже детали реализации. Главное, что Proc не нужно создавать своими руками. Именно в этом было основное требование."
   ]
  },
  {
   "cell_type": "markdown",
   "metadata": {},
   "source": [
    "Вы удивитесь, но вызвать такой Proc нельзя из-за того, что это пользовательская функция."
   ]
  },
  {
   "cell_type": "code",
   "execution_count": 21,
   "metadata": {
    "collapsed": false
   },
   "outputs": [
    {
     "ename": "NoMethodError",
     "evalue": "private method `function' called for 2:Fixnum",
     "output_type": "error",
     "traceback": [
      "\u001b[31mNoMethodError\u001b[0m: private method `function' called for 2:Fixnum",
      "\u001b[37m<main>:in `<main>'\u001b[0m",
      "\u001b[37m/var/lib/gems/2.3.0/gems/iruby-0.3/lib/iruby/backend.rb:44:in `eval'\u001b[0m",
      "\u001b[37m/var/lib/gems/2.3.0/gems/iruby-0.3/lib/iruby/backend.rb:44:in `eval'\u001b[0m",
      "\u001b[37m/var/lib/gems/2.3.0/gems/iruby-0.3/lib/iruby/backend.rb:12:in `eval'\u001b[0m",
      "\u001b[37m/var/lib/gems/2.3.0/gems/iruby-0.3/lib/iruby/kernel.rb:87:in `execute_request'\u001b[0m",
      "\u001b[37m/var/lib/gems/2.3.0/gems/iruby-0.3/lib/iruby/kernel.rb:47:in `dispatch'\u001b[0m",
      "\u001b[37m/var/lib/gems/2.3.0/gems/iruby-0.3/lib/iruby/kernel.rb:37:in `run'\u001b[0m",
      "\u001b[37m/var/lib/gems/2.3.0/gems/iruby-0.3/lib/iruby/command.rb:70:in `run_kernel'\u001b[0m",
      "\u001b[37m/var/lib/gems/2.3.0/gems/iruby-0.3/lib/iruby/command.rb:34:in `run'\u001b[0m",
      "\u001b[37m/var/lib/gems/2.3.0/gems/iruby-0.3/bin/iruby:5:in `<top (required)>'\u001b[0m",
      "\u001b[37m/usr/local/bin/iruby:23:in `load'\u001b[0m",
      "\u001b[37m/usr/local/bin/iruby:23:in `<main>'\u001b[0m"
     ]
    }
   ],
   "source": [
    "f.call 2"
   ]
  },
  {
   "cell_type": "markdown",
   "metadata": {},
   "source": [
    "Для решения этой проблемы придумали класс Method - обертку над `Symbol`, который корректно обрабатывает пользовательские (написанные вами) функции."
   ]
  },
  {
   "cell_type": "code",
   "execution_count": 22,
   "metadata": {
    "collapsed": false
   },
   "outputs": [
    {
     "data": {
      "text/plain": [
       "#<Method: Object#function>"
      ]
     },
     "execution_count": 22,
     "metadata": {},
     "output_type": "execute_result"
    }
   ],
   "source": [
    "method(:function)"
   ]
  },
  {
   "cell_type": "code",
   "execution_count": 23,
   "metadata": {
    "collapsed": false
   },
   "outputs": [
    {
     "data": {
      "text/plain": [
       "4"
      ]
     },
     "execution_count": 23,
     "metadata": {},
     "output_type": "execute_result"
    }
   ],
   "source": [
    "method(:function).to_proc.call 2"
   ]
  },
  {
   "cell_type": "markdown",
   "metadata": {},
   "source": [
    "Вызов #to_proc в данном случае можно опустить, и так сработает."
   ]
  },
  {
   "cell_type": "markdown",
   "metadata": {},
   "source": [
    "### Что такое &"
   ]
  },
  {
   "cell_type": "markdown",
   "metadata": {},
   "source": [
    "& имеет смысл **только в определенном контексте**. Его нельзя писать где угодно.\n",
    "\n",
    "В данном случае (то есть при передаче параметров в функцию) это указание интерпретатору **преобразовать Symbol, который содержит имя функции, в Proc**."
   ]
  },
  {
   "cell_type": "markdown",
   "metadata": {},
   "source": [
    "Как вы помните, любой метод неявно принимает блок кода. Однако можно явно указать Ruby, что мы хотим принять последний (именованный нами параметр) как блок кода. Для этого нужно поставить & перед ним."
   ]
  },
  {
   "cell_type": "code",
   "execution_count": 86,
   "metadata": {
    "collapsed": false
   },
   "outputs": [
    {
     "data": {
      "text/plain": [
       "20"
      ]
     },
     "execution_count": 86,
     "metadata": {},
     "output_type": "execute_result"
    }
   ],
   "source": [
    "def foo(arg, &block)\n",
    "  block.call arg if block_given? or nil\n",
    "end\n",
    "\n",
    "def block arg\n",
    "  arg * 2\n",
    "end\n",
    "\n",
    "foo 10, &method(:block)"
   ]
  },
  {
   "cell_type": "markdown",
   "metadata": {},
   "source": [
    "Для **пользовательских функций** все еще нужно писать"
   ]
  },
  {
   "cell_type": "code",
   "execution_count": 64,
   "metadata": {
    "collapsed": false
   },
   "outputs": [
    {
     "data": {
      "text/plain": [
       "[3, 6, 9]"
      ]
     },
     "execution_count": 64,
     "metadata": {},
     "output_type": "execute_result"
    }
   ],
   "source": [
    "[1, 2, 3].map &method(:foo)"
   ]
  },
  {
   "cell_type": "code",
   "execution_count": 89,
   "metadata": {
    "collapsed": false
   },
   "outputs": [
    {
     "name": "stdout",
     "output_type": "stream",
     "text": [
      "nil\n"
     ]
    }
   ],
   "source": [
    "p foo 20"
   ]
  },
  {
   "cell_type": "markdown",
   "metadata": {},
   "source": [
    "Интересная задачка - объяснить, как это работает"
   ]
  },
  {
   "cell_type": "code",
   "execution_count": 90,
   "metadata": {
    "collapsed": false
   },
   "outputs": [
    {
     "name": "stdout",
     "output_type": "stream",
     "text": [
      "hello\n"
     ]
    }
   ],
   "source": [
    "def blah(&block)\n",
    "  yadda(block)\n",
    "end\n",
    " \n",
    "def yadda(block)\n",
    "  foo(&block)\n",
    "end\n",
    " \n",
    "def foo(&block)\n",
    "  block.call\n",
    "end\n",
    " \n",
    "blah() do\n",
    "  puts \"hello\"\n",
    "end"
   ]
  },
  {
   "cell_type": "markdown",
   "metadata": {},
   "source": [
    "Ответ [тут](https://www.skorks.com/2013/04/ruby-ampersand-parameter-demystified/)"
   ]
  },
  {
   "cell_type": "markdown",
   "metadata": {},
   "source": [
    "## Appendix 1 - Отличия lambda и proc"
   ]
  },
  {
   "cell_type": "markdown",
   "metadata": {},
   "source": [
    "Формально lambda и Proc - объекты одного класса."
   ]
  },
  {
   "cell_type": "code",
   "execution_count": 65,
   "metadata": {
    "collapsed": false
   },
   "outputs": [
    {
     "name": "stdout",
     "output_type": "stream",
     "text": [
      "Proc\n",
      "Proc\n"
     ]
    },
    {
     "data": {
      "text/plain": [
       "Proc"
      ]
     },
     "execution_count": 65,
     "metadata": {},
     "output_type": "execute_result"
    }
   ],
   "source": [
    "l = ->() { p 'lambda' }\n",
    "pr = proc { p 'proc' }\n",
    "  \n",
    "p l.class\n",
    "p pr.class"
   ]
  },
  {
   "cell_type": "markdown",
   "metadata": {},
   "source": [
    "Однако различия все же есть, для этого даже добавили специальный метод"
   ]
  },
  {
   "cell_type": "code",
   "execution_count": 70,
   "metadata": {
    "collapsed": false
   },
   "outputs": [
    {
     "name": "stdout",
     "output_type": "stream",
     "text": [
      "true\n"
     ]
    },
    {
     "data": {
      "text/plain": [
       "false"
      ]
     },
     "execution_count": 70,
     "metadata": {},
     "output_type": "execute_result"
    }
   ],
   "source": [
    "p l.lambda?\n",
    "pr.lambda?"
   ]
  },
  {
   "cell_type": "markdown",
   "metadata": {},
   "source": [
    "А в чем же отличие?"
   ]
  },
  {
   "cell_type": "markdown",
   "metadata": {},
   "source": [
    "### Передача параметров"
   ]
  },
  {
   "cell_type": "markdown",
   "metadata": {},
   "source": [
    "Если лямбда вызывается с большим, или меньшим количеством аргументов, чем необходимо, тогда Ruby выдает ошибку ArgumentError.\n",
    "\n",
    "Однако когда Proc вызывается с большим количеством аргументов, чем необходимо, никакой ошибки не возвращается и лишние аргументы просто отбрасываются. Когда процедура вызывается с меньшим количеством аргументов, то те параметры, которые не получили необходимых значений, приобретают значение nil."
   ]
  },
  {
   "cell_type": "code",
   "execution_count": 73,
   "metadata": {
    "collapsed": false
   },
   "outputs": [
    {
     "ename": "ArgumentError",
     "evalue": "wrong number of arguments (given 2, expected 0)",
     "output_type": "error",
     "traceback": [
      "\u001b[31mArgumentError\u001b[0m: wrong number of arguments (given 2, expected 0)",
      "\u001b[37m<main>:in `block in <main>'\u001b[0m",
      "\u001b[37m<main>:in `<main>'\u001b[0m",
      "\u001b[37m/var/lib/gems/2.3.0/gems/iruby-0.3/lib/iruby/backend.rb:44:in `eval'\u001b[0m",
      "\u001b[37m/var/lib/gems/2.3.0/gems/iruby-0.3/lib/iruby/backend.rb:44:in `eval'\u001b[0m",
      "\u001b[37m/var/lib/gems/2.3.0/gems/iruby-0.3/lib/iruby/backend.rb:12:in `eval'\u001b[0m",
      "\u001b[37m/var/lib/gems/2.3.0/gems/iruby-0.3/lib/iruby/kernel.rb:87:in `execute_request'\u001b[0m",
      "\u001b[37m/var/lib/gems/2.3.0/gems/iruby-0.3/lib/iruby/kernel.rb:47:in `dispatch'\u001b[0m",
      "\u001b[37m/var/lib/gems/2.3.0/gems/iruby-0.3/lib/iruby/kernel.rb:37:in `run'\u001b[0m",
      "\u001b[37m/var/lib/gems/2.3.0/gems/iruby-0.3/lib/iruby/command.rb:70:in `run_kernel'\u001b[0m",
      "\u001b[37m/var/lib/gems/2.3.0/gems/iruby-0.3/lib/iruby/command.rb:34:in `run'\u001b[0m",
      "\u001b[37m/var/lib/gems/2.3.0/gems/iruby-0.3/bin/iruby:5:in `<top (required)>'\u001b[0m",
      "\u001b[37m/usr/local/bin/iruby:23:in `load'\u001b[0m",
      "\u001b[37m/usr/local/bin/iruby:23:in `<main>'\u001b[0m"
     ]
    }
   ],
   "source": [
    "l.call 10, 11"
   ]
  },
  {
   "cell_type": "code",
   "execution_count": 74,
   "metadata": {
    "collapsed": false
   },
   "outputs": [
    {
     "name": "stdout",
     "output_type": "stream",
     "text": [
      "\"proc\"\n"
     ]
    },
    {
     "data": {
      "text/plain": [
       "\"proc\""
      ]
     },
     "execution_count": 74,
     "metadata": {},
     "output_type": "execute_result"
    }
   ],
   "source": [
    "pr.call 10, 11"
   ]
  },
  {
   "cell_type": "code",
   "execution_count": 76,
   "metadata": {
    "collapsed": false
   },
   "outputs": [
    {
     "name": "stdout",
     "output_type": "stream",
     "text": [
      "1\n",
      "nil\n"
     ]
    },
    {
     "data": {
      "text/plain": [
       "[1, nil]"
      ]
     },
     "execution_count": 76,
     "metadata": {},
     "output_type": "execute_result"
    }
   ],
   "source": [
    "new_pr = proc {|x, y| p x, y }\n",
    "new_pr.call 1"
   ]
  },
  {
   "cell_type": "markdown",
   "metadata": {},
   "source": [
    "### Возврат значений"
   ]
  },
  {
   "cell_type": "markdown",
   "metadata": {},
   "source": [
    "Lambda - все ок"
   ]
  },
  {
   "cell_type": "code",
   "execution_count": 79,
   "metadata": {
    "collapsed": false
   },
   "outputs": [
    {
     "data": {
      "text/plain": [
       "\"Я возвращаю X из foo 1\""
      ]
     },
     "execution_count": 79,
     "metadata": {},
     "output_type": "execute_result"
    }
   ],
   "source": [
    "def foo\n",
    "  l = ->(x) { return x }\n",
    "  x = l.call 1\n",
    "  \"Я возвращаю X из foo: #{x}\"\n",
    "end\n",
    "\n",
    "foo"
   ]
  },
  {
   "cell_type": "markdown",
   "metadata": {},
   "source": [
    "Proc - WTF?!"
   ]
  },
  {
   "cell_type": "code",
   "execution_count": 3,
   "metadata": {
    "collapsed": false
   },
   "outputs": [
    {
     "data": {
      "text/plain": [
       "1"
      ]
     },
     "execution_count": 3,
     "metadata": {},
     "output_type": "execute_result"
    }
   ],
   "source": [
    "def foo\n",
    "  pr = proc {|x| return x }\n",
    "  x = pr.call 1\n",
    "  \"Я возвращаю X из foo: #{x}\"\n",
    "end\n",
    "\n",
    "foo"
   ]
  },
  {
   "cell_type": "markdown",
   "metadata": {},
   "source": [
    "Только что на ваших глазах Proc прервал выполнение функции foo! Как ни странно, если убрать return, все будет работать ок."
   ]
  },
  {
   "cell_type": "code",
   "execution_count": 81,
   "metadata": {
    "collapsed": false
   },
   "outputs": [
    {
     "data": {
      "text/plain": [
       "\"Я возвращаю X из foo: 1\""
      ]
     },
     "execution_count": 81,
     "metadata": {},
     "output_type": "execute_result"
    }
   ],
   "source": [
    "def foo\n",
    "  pr = proc {|x| x }\n",
    "  x = pr.call 1\n",
    "  \"Я возвращаю X из foo: #{x}\"\n",
    "end\n",
    "\n",
    "foo"
   ]
  },
  {
   "cell_type": "markdown",
   "metadata": {},
   "source": [
    "### Если копнуть глубже"
   ]
  },
  {
   "cell_type": "markdown",
   "metadata": {},
   "source": [
    "То можно почитать [это](https://stackoverflow.com/questions/1435743/why-does-explicit-return-make-a-difference-in-a-proc)"
   ]
  }
 ],
 "metadata": {
  "kernelspec": {
   "display_name": "Ruby 2.3.1",
   "language": "ruby",
   "name": "ruby"
  },
  "language_info": {
   "file_extension": ".rb",
   "mimetype": "application/x-ruby",
   "name": "ruby",
   "version": "2.3.1"
  }
 },
 "nbformat": 4,
 "nbformat_minor": 2
}
