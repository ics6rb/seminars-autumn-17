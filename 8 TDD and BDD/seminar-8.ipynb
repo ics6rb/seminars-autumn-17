{
 "cells": [
  {
   "cell_type": "markdown",
   "metadata": {
    "slideshow": {
     "slide_type": "slide"
    }
   },
   "source": [
    "# Тесты, TDD и BDD\n"
   ]
  },
  {
   "cell_type": "markdown",
   "metadata": {
    "slideshow": {
     "slide_type": "slide"
    }
   },
   "source": [
    "# Исходная функция\n",
    "\n",
    "```c++\n",
    "int add(int a, int b)\n",
    "{\n",
    "    return a + b;\n",
    "}\n",
    "```\n",
    "\n",
    "# Как тестировать?"
   ]
  },
  {
   "cell_type": "markdown",
   "metadata": {
    "slideshow": {
     "slide_type": "slide"
    }
   },
   "source": [
    "# Белый ящик - смотрим на код "
   ]
  },
  {
   "cell_type": "markdown",
   "metadata": {
    "slideshow": {
     "slide_type": "slide"
    }
   },
   "source": [
    "# Черный ящик - пишем программу и вводим руками в консоль данные, смотрим на результаты"
   ]
  },
  {
   "cell_type": "markdown",
   "metadata": {
    "slideshow": {
     "slide_type": "slide"
    }
   },
   "source": [
    "# Что пишем?\n",
    "\n",
    "Таблица тестов\n",
    "\n",
    "| Исходные данные | Ожидаемый результат |\n",
    "|---|---|\n",
    "|?|?|"
   ]
  },
  {
   "cell_type": "markdown",
   "metadata": {
    "slideshow": {
     "slide_type": "slide"
    }
   },
   "source": [
    "| Исходные данные | Ожидаемый результат |\n",
    "|---|---|\n",
    "| a = 1, b = 2 | 3 |\n",
    "| a = 0, b = 2 | 2 |\n",
    "| a = 1, b = 0 | 1 |\n",
    "| a = 0, b = 0 | 0 |\n",
    "| a = -1, b = 2 | 1 |\n",
    "| a = 1, b = -2 | -1 |\n",
    "| a = -1, b = -2 | -3 |\n",
    "| a = 'knkn', b = 2 | ошибка |\n",
    "| a = 1, b = 'fkk' | ошибка |\n",
    "| a = 'dfd', b = 'ddd' | ошибка |"
   ]
  },
  {
   "cell_type": "markdown",
   "metadata": {
    "slideshow": {
     "slide_type": "slide"
    }
   },
   "source": [
    "# Попытаемся уменьшить количество тестов\n",
    "\n",
    "**Разбиение на классы эквивалентности.**\n",
    "\n",
    "Внутри такого класса данные считаются **одинаковыми в смысле воздействия на программу**. Например, a = 1, a = 4, a = 88 для программы сложения - одно и то же.\n",
    "\n",
    "Возьмем такие классы:\n",
    "\n",
    "* неотрицательные числа (Н)\n",
    "* отрицательные числа (О)\n",
    "\n",
    "Напишем такие тесты\n",
    "\n",
    "| a | b |\n",
    "|---|---|\n",
    "|Н|Н|\n",
    "|О|О|\n",
    "|Н|О|"
   ]
  },
  {
   "cell_type": "markdown",
   "metadata": {
    "slideshow": {
     "slide_type": "slide"
    }
   },
   "source": [
    "# Добавим два специфических теста\n",
    "\n",
    "1. |a| == |b|, a > 0, b < 0\n",
    "2. a == 0, b == 0"
   ]
  },
  {
   "cell_type": "markdown",
   "metadata": {
    "slideshow": {
     "slide_type": "slide"
    }
   },
   "source": [
    "# Это очень старые подходы, но они работают до сих пор. Просто меняется способ - раньше это проверяли руками, теперь автоматизированно или даже автоматически."
   ]
  },
  {
   "cell_type": "markdown",
   "metadata": {
    "slideshow": {
     "slide_type": "slide"
    }
   },
   "source": [
    "# Виды тестов\n",
    "\n",
    "* функциональные;\n",
    "* интеграционные."
   ]
  },
  {
   "cell_type": "markdown",
   "metadata": {
    "slideshow": {
     "slide_type": "slide"
    }
   },
   "source": [
    "# Зачем нужны сложные тестовые фреймворки? "
   ]
  },
  {
   "cell_type": "markdown",
   "metadata": {
    "slideshow": {
     "slide_type": "slide"
    }
   },
   "source": [
    "# Кто должен писать тесты? \n",
    "\n",
    "Тесты пишет:\n",
    "* программист (минимально проверяет, что оно работает);\n",
    "* тестировщик (дополняет написанное программистом).\n",
    "\n",
    "Порядок такой:\n",
    "1. Код\n",
    "2. Минимальные тесты\n",
    "3. Идем к тестировщикам"
   ]
  },
  {
   "cell_type": "markdown",
   "metadata": {
    "slideshow": {
     "slide_type": "slide"
    }
   },
   "source": [
    "# Как реально пишут тесты?"
   ]
  },
  {
   "cell_type": "markdown",
   "metadata": {
    "slideshow": {
     "slide_type": "fragment"
    }
   },
   "source": [
    "Пишем код... Отлаживаем"
   ]
  },
  {
   "cell_type": "markdown",
   "metadata": {
    "slideshow": {
     "slide_type": "fragment"
    }
   },
   "source": [
    "Начинаем писать тесты..."
   ]
  },
  {
   "cell_type": "markdown",
   "metadata": {
    "slideshow": {
     "slide_type": "subslide"
    }
   },
   "source": [
    "![](img/80.jpg)"
   ]
  }
 ],
 "metadata": {
  "celltoolbar": "Slideshow",
  "kernelspec": {
   "display_name": "Ruby 2.3.1",
   "language": "ruby",
   "name": "ruby"
  },
  "language_info": {
   "file_extension": ".rb",
   "mimetype": "application/x-ruby",
   "name": "ruby",
   "version": "2.3.1"
  }
 },
 "nbformat": 4,
 "nbformat_minor": 2
}
