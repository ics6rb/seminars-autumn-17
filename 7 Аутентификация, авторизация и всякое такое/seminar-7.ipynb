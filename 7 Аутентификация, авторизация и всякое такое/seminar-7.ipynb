{
 "cells": [
  {
   "cell_type": "markdown",
   "metadata": {
    "slideshow": {
     "slide_type": "slide"
    }
   },
   "source": [
    "# Сессии. Авторизация. Аутентификация. WTF?!"
   ]
  },
  {
   "cell_type": "markdown",
   "metadata": {
    "slideshow": {
     "slide_type": "slide"
    }
   },
   "source": [
    "# Зачем нужны замки на дверях?"
   ]
  },
  {
   "cell_type": "markdown",
   "metadata": {
    "slideshow": {
     "slide_type": "subslide"
    }
   },
   "source": [
    "![](img/70.jpg)"
   ]
  },
  {
   "cell_type": "markdown",
   "metadata": {
    "slideshow": {
     "slide_type": "subslide"
    }
   },
   "source": [
    "# Что можно делать, когда кто-то приходит?"
   ]
  },
  {
   "cell_type": "markdown",
   "metadata": {
    "slideshow": {
     "slide_type": "subslide"
    }
   },
   "source": [
    "# Понятия\n",
    "\n",
    "![](img/71.jpg)\n",
    "\n",
    "* Идентификация\n",
    "* Аутентификация\n",
    "* Авторизация"
   ]
  },
  {
   "cell_type": "markdown",
   "metadata": {
    "slideshow": {
     "slide_type": "slide"
    }
   },
   "source": [
    "# Идентификация\n",
    "\n",
    "### Мы пытаемся понять, кто это\n",
    "\n",
    "**Идентификация** -  установление тождественности неизвестного объекта известному на основании совпадения признаков, опознание:\n",
    "* известный нам объект, данные которые у нас есть;\n",
    "* неизвестный нам объект."
   ]
  },
  {
   "cell_type": "markdown",
   "metadata": {
    "slideshow": {
     "slide_type": "slide"
    }
   },
   "source": [
    "# Аутентификация vs авторизация"
   ]
  },
  {
   "cell_type": "markdown",
   "metadata": {
    "slideshow": {
     "slide_type": "subslide"
    }
   },
   "source": [
    "# Аутентификация\n",
    "\n",
    "### Мы пытаемся понять, за того ли себя выдает объект\n",
    "\n",
    "**Аутентификация** - проверка подлинности объекта на основании сравнения признаков:\n",
    "* проверка подлинности файла (на основании контрольной суммы);\n",
    "* проверка подлинности пользователя (на основании совпадения логина и пароля с теми, которыми мы располагаем)."
   ]
  },
  {
   "cell_type": "markdown",
   "metadata": {
    "slideshow": {
     "slide_type": "subslide"
    }
   },
   "source": [
    "# Авторизация\n",
    "\n",
    "### Мы ЗНАЕМ, КТО ПРИШЕЛ. Мы хотим определить, может ли этот кто-то сделать то, что он хочет\n",
    "\n",
    "**Авторизация** - предоставление лицу или группе лиц прав на выполнение определённых действий."
   ]
  },
  {
   "cell_type": "markdown",
   "metadata": {
    "slideshow": {
     "slide_type": "slide"
    }
   },
   "source": [
    "![](img/72.png)"
   ]
  },
  {
   "cell_type": "markdown",
   "metadata": {
    "slideshow": {
     "slide_type": "slide"
    }
   },
   "source": [
    "# В чем проблема HTTP?\n",
    "\n",
    "### HTTP не сохраняет состояние между запросами. Нет возможности понять, от кого пришел запрос - от человека, который 5 минут назад зашел или от мошенника."
   ]
  },
  {
   "cell_type": "markdown",
   "metadata": {
    "slideshow": {
     "slide_type": "subslide"
    }
   },
   "source": [
    "# Почему?\n",
    "\n",
    "1. Запросы к серверу приходят хаотично - нельзя открыть соединение на все время, пока вы залогинены.\n",
    "2. В запросе нет никакой информации о том, от кого он пришел.\n",
    "\n",
    "Из-за этого сервер не может различить запросы."
   ]
  },
  {
   "cell_type": "markdown",
   "metadata": {
    "slideshow": {
     "slide_type": "subslide"
    }
   },
   "source": [
    "# Выход? "
   ]
  },
  {
   "cell_type": "markdown",
   "metadata": {
    "slideshow": {
     "slide_type": "subslide"
    }
   },
   "source": [
    "![](img/73.gif)"
   ]
  },
  {
   "cell_type": "markdown",
   "metadata": {
    "slideshow": {
     "slide_type": "slide"
    }
   },
   "source": [
    "**Cookie** (куки) - кусок данных (4 Кбайт), который **хранится на стороне клиента** и **добавляется к каждому запросу**. Благодаря этому реализуется **сохранение промежуточного состояния**."
   ]
  },
  {
   "cell_type": "markdown",
   "metadata": {
    "slideshow": {
     "slide_type": "subslide"
    }
   },
   "source": [
    "# Минусы\n",
    "\n",
    "* ограниченный размер;\n",
    "* ограниченное количество;\n",
    "* КУКИ МОГУТ УКРАСТЬ С КОМПЬЮТЕРА И ОНИ БУДУТ РАБОТАТЬ НА ЧУЖОМ!!!"
   ]
  },
  {
   "cell_type": "markdown",
   "metadata": {
    "slideshow": {
     "slide_type": "subslide"
    }
   },
   "source": [
    "![](img/74.jpg)"
   ]
  },
  {
   "cell_type": "markdown",
   "metadata": {
    "slideshow": {
     "slide_type": "slide"
    }
   },
   "source": [
    "# Делаем свою процедуру входа и используем сессии\n",
    "\n",
    "![](img/75.jpg)"
   ]
  },
  {
   "cell_type": "markdown",
   "metadata": {
    "slideshow": {
     "slide_type": "slide"
    }
   },
   "source": [
    "# Что ОБЯЗАТЕЛЬНО нужно сделать в начале?\n",
    "\n",
    "1. Придумать, как и где будем хранить информацию о пользователях, которые могут входить на сайт.\n",
    "2. Придумать, как мы будем делать аутентификацию."
   ]
  },
  {
   "cell_type": "markdown",
   "metadata": {
    "slideshow": {
     "slide_type": "subslide"
    }
   },
   "source": [
    "# Как храним пользователей?\n",
    "\n",
    "### Ruby models\n",
    "\n",
    "```bash\n",
    "~$ rails g model User email:string\n",
    "```\n",
    "\n",
    "Получаем\n",
    "\n",
    "`app/models/user.rb`\n",
    "```ruby\n",
    "class User < ApplicationRecord\n",
    "end\n",
    "```\n",
    "\n",
    "`db/migrate/<...>_create_users.rb`\n",
    "```ruby\n",
    "class CreateUsers < ActiveRecord::Migration[5.1]\n",
    "  def change\n",
    "    create_table :users do |t|\n",
    "      t.string :email\n",
    "\n",
    "      t.timestamps\n",
    "    end\n",
    "  end\n",
    "end\n",
    "```"
   ]
  },
  {
   "cell_type": "markdown",
   "metadata": {
    "slideshow": {
     "slide_type": "subslide"
    }
   },
   "source": [
    "# Сразу добавили безопасный пароль. Также сразу пользуемся функционалом рельсов для сравнения и проверки паролей\n",
    "\n",
    "### Раскомментируем строчку в Gemfile\n",
    "\n",
    "```ruby\n",
    "# Use ActiveModel has_secure_password\n",
    "gem 'bcrypt', '~> 3.1.7'\n",
    "```\n",
    "\n",
    "### Обновляем модель пользователя\n",
    "\n",
    "```ruby\n",
    "class User < ApplicationRecord\n",
    "  has_secure_password\n",
    "end\n",
    "```\n",
    "\n",
    "### При создании пользователя теперь доступны методы `password` и `password_confirmation`.\n",
    "\n",
    "### ОБЯЗАТЕЛЬНО добавить поле password_digest (имя ВАЖНО!)\n",
    "\n",
    "### Также для пользователя доступен метод `authenticate`"
   ]
  },
  {
   "cell_type": "markdown",
   "metadata": {
    "slideshow": {
     "slide_type": "subslide"
    }
   },
   "source": [
    "# Как логиним пользователей?\n",
    "\n",
    "```ruby\n",
    "class AuthExampleController < ApplicationController\n",
    "  def we_need_check_auth_here\n",
    "    # ...\n",
    "    \n",
    "    if user && user.authenticate(password)\n",
    "      # Делаем что-то.\n",
    "    else\n",
    "      # Ругаемся\n",
    "    end\n",
    "  end\n",
    "end\n",
    "```"
   ]
  },
  {
   "cell_type": "markdown",
   "metadata": {
    "slideshow": {
     "slide_type": "subslide"
    }
   },
   "source": [
    "# Новый вариант\n",
    "\n",
    "```ruby\n",
    "class AuthExampleController < ApplicationController\n",
    "  def we_need_check_auth_here\n",
    "    # ...\n",
    "    \n",
    "    if user&.authenticate(password)\n",
    "      # Делаем что-то.\n",
    "    else\n",
    "      # Ругаемся\n",
    "    end\n",
    "  end\n",
    "end\n",
    "```"
   ]
  },
  {
   "cell_type": "markdown",
   "metadata": {},
   "source": [
    "# Храним юзера в сессии между запросами\n",
    "\n",
    "Наивная реализация\n",
    "\n",
    "```ruby\n",
    "session[:remember_token] = user.id\n",
    "```\n",
    "\n",
    "Лучше\n",
    "\n",
    "```ruby\n",
    "session[:remember_token] = # Какая-то длинная случайная строка. Причем ее же нужно записать в ПОЛЬЗОВАТЕЛЯ\n",
    "```"
   ]
  }
 ],
 "metadata": {
  "celltoolbar": "Slideshow",
  "kernelspec": {
   "display_name": "Ruby 2.3.1",
   "language": "ruby",
   "name": "ruby"
  },
  "language_info": {
   "file_extension": ".rb",
   "mimetype": "application/x-ruby",
   "name": "ruby",
   "version": "2.3.1"
  }
 },
 "nbformat": 4,
 "nbformat_minor": 2
}
